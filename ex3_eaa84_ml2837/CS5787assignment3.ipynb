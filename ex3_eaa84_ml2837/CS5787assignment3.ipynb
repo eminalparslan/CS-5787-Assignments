{
  "nbformat": 4,
  "nbformat_minor": 0,
  "metadata": {
    "colab": {
      "provenance": [],
      "gpuType": "T4"
    },
    "kernelspec": {
      "name": "python3",
      "display_name": "Python 3"
    },
    "language_info": {
      "name": "python"
    },
    "widgets": {
      "application/vnd.jupyter.widget-state+json": {
        "775dc8f2b0b742218b3ecf3b68de205a": {
          "model_module": "@jupyter-widgets/controls",
          "model_name": "HBoxModel",
          "model_module_version": "1.5.0",
          "state": {
            "_dom_classes": [],
            "_model_module": "@jupyter-widgets/controls",
            "_model_module_version": "1.5.0",
            "_model_name": "HBoxModel",
            "_view_count": null,
            "_view_module": "@jupyter-widgets/controls",
            "_view_module_version": "1.5.0",
            "_view_name": "HBoxView",
            "box_style": "",
            "children": [
              "IPY_MODEL_d54540e050b14ebba97c1e08c9a0c1c4",
              "IPY_MODEL_0d0013f6590846b7a513119b1bbbab35",
              "IPY_MODEL_6b51b39ef77f4cdb94f830bcec07414a"
            ],
            "layout": "IPY_MODEL_6e16d8ddcc9a4379bcd8891b8d3da43e"
          }
        },
        "d54540e050b14ebba97c1e08c9a0c1c4": {
          "model_module": "@jupyter-widgets/controls",
          "model_name": "HTMLModel",
          "model_module_version": "1.5.0",
          "state": {
            "_dom_classes": [],
            "_model_module": "@jupyter-widgets/controls",
            "_model_module_version": "1.5.0",
            "_model_name": "HTMLModel",
            "_view_count": null,
            "_view_module": "@jupyter-widgets/controls",
            "_view_module_version": "1.5.0",
            "_view_name": "HTMLView",
            "description": "",
            "description_tooltip": null,
            "layout": "IPY_MODEL_e6df0056496d4c30bfa8b4423a6f7d49",
            "placeholder": "​",
            "style": "IPY_MODEL_e37511c53ad84fac8a7e6c38cec57b60",
            "value": "100%"
          }
        },
        "0d0013f6590846b7a513119b1bbbab35": {
          "model_module": "@jupyter-widgets/controls",
          "model_name": "FloatProgressModel",
          "model_module_version": "1.5.0",
          "state": {
            "_dom_classes": [],
            "_model_module": "@jupyter-widgets/controls",
            "_model_module_version": "1.5.0",
            "_model_name": "FloatProgressModel",
            "_view_count": null,
            "_view_module": "@jupyter-widgets/controls",
            "_view_module_version": "1.5.0",
            "_view_name": "ProgressView",
            "bar_style": "success",
            "description": "",
            "description_tooltip": null,
            "layout": "IPY_MODEL_0e7c34c251c24eaa9cc0798bbf3a2034",
            "max": 20,
            "min": 0,
            "orientation": "horizontal",
            "style": "IPY_MODEL_6687f5aa5cb24bd5ad412ea4a9c4363c",
            "value": 20
          }
        },
        "6b51b39ef77f4cdb94f830bcec07414a": {
          "model_module": "@jupyter-widgets/controls",
          "model_name": "HTMLModel",
          "model_module_version": "1.5.0",
          "state": {
            "_dom_classes": [],
            "_model_module": "@jupyter-widgets/controls",
            "_model_module_version": "1.5.0",
            "_model_name": "HTMLModel",
            "_view_count": null,
            "_view_module": "@jupyter-widgets/controls",
            "_view_module_version": "1.5.0",
            "_view_name": "HTMLView",
            "description": "",
            "description_tooltip": null,
            "layout": "IPY_MODEL_d826764f4fa54e9db15bb4739cbfcc47",
            "placeholder": "​",
            "style": "IPY_MODEL_592e44c13ed640939f6f5605246261b2",
            "value": " 20/20 [02:28&lt;00:00,  7.43s/it]"
          }
        },
        "6e16d8ddcc9a4379bcd8891b8d3da43e": {
          "model_module": "@jupyter-widgets/base",
          "model_name": "LayoutModel",
          "model_module_version": "1.2.0",
          "state": {
            "_model_module": "@jupyter-widgets/base",
            "_model_module_version": "1.2.0",
            "_model_name": "LayoutModel",
            "_view_count": null,
            "_view_module": "@jupyter-widgets/base",
            "_view_module_version": "1.2.0",
            "_view_name": "LayoutView",
            "align_content": null,
            "align_items": null,
            "align_self": null,
            "border": null,
            "bottom": null,
            "display": null,
            "flex": null,
            "flex_flow": null,
            "grid_area": null,
            "grid_auto_columns": null,
            "grid_auto_flow": null,
            "grid_auto_rows": null,
            "grid_column": null,
            "grid_gap": null,
            "grid_row": null,
            "grid_template_areas": null,
            "grid_template_columns": null,
            "grid_template_rows": null,
            "height": null,
            "justify_content": null,
            "justify_items": null,
            "left": null,
            "margin": null,
            "max_height": null,
            "max_width": null,
            "min_height": null,
            "min_width": null,
            "object_fit": null,
            "object_position": null,
            "order": null,
            "overflow": null,
            "overflow_x": null,
            "overflow_y": null,
            "padding": null,
            "right": null,
            "top": null,
            "visibility": null,
            "width": null
          }
        },
        "e6df0056496d4c30bfa8b4423a6f7d49": {
          "model_module": "@jupyter-widgets/base",
          "model_name": "LayoutModel",
          "model_module_version": "1.2.0",
          "state": {
            "_model_module": "@jupyter-widgets/base",
            "_model_module_version": "1.2.0",
            "_model_name": "LayoutModel",
            "_view_count": null,
            "_view_module": "@jupyter-widgets/base",
            "_view_module_version": "1.2.0",
            "_view_name": "LayoutView",
            "align_content": null,
            "align_items": null,
            "align_self": null,
            "border": null,
            "bottom": null,
            "display": null,
            "flex": null,
            "flex_flow": null,
            "grid_area": null,
            "grid_auto_columns": null,
            "grid_auto_flow": null,
            "grid_auto_rows": null,
            "grid_column": null,
            "grid_gap": null,
            "grid_row": null,
            "grid_template_areas": null,
            "grid_template_columns": null,
            "grid_template_rows": null,
            "height": null,
            "justify_content": null,
            "justify_items": null,
            "left": null,
            "margin": null,
            "max_height": null,
            "max_width": null,
            "min_height": null,
            "min_width": null,
            "object_fit": null,
            "object_position": null,
            "order": null,
            "overflow": null,
            "overflow_x": null,
            "overflow_y": null,
            "padding": null,
            "right": null,
            "top": null,
            "visibility": null,
            "width": null
          }
        },
        "e37511c53ad84fac8a7e6c38cec57b60": {
          "model_module": "@jupyter-widgets/controls",
          "model_name": "DescriptionStyleModel",
          "model_module_version": "1.5.0",
          "state": {
            "_model_module": "@jupyter-widgets/controls",
            "_model_module_version": "1.5.0",
            "_model_name": "DescriptionStyleModel",
            "_view_count": null,
            "_view_module": "@jupyter-widgets/base",
            "_view_module_version": "1.2.0",
            "_view_name": "StyleView",
            "description_width": ""
          }
        },
        "0e7c34c251c24eaa9cc0798bbf3a2034": {
          "model_module": "@jupyter-widgets/base",
          "model_name": "LayoutModel",
          "model_module_version": "1.2.0",
          "state": {
            "_model_module": "@jupyter-widgets/base",
            "_model_module_version": "1.2.0",
            "_model_name": "LayoutModel",
            "_view_count": null,
            "_view_module": "@jupyter-widgets/base",
            "_view_module_version": "1.2.0",
            "_view_name": "LayoutView",
            "align_content": null,
            "align_items": null,
            "align_self": null,
            "border": null,
            "bottom": null,
            "display": null,
            "flex": null,
            "flex_flow": null,
            "grid_area": null,
            "grid_auto_columns": null,
            "grid_auto_flow": null,
            "grid_auto_rows": null,
            "grid_column": null,
            "grid_gap": null,
            "grid_row": null,
            "grid_template_areas": null,
            "grid_template_columns": null,
            "grid_template_rows": null,
            "height": null,
            "justify_content": null,
            "justify_items": null,
            "left": null,
            "margin": null,
            "max_height": null,
            "max_width": null,
            "min_height": null,
            "min_width": null,
            "object_fit": null,
            "object_position": null,
            "order": null,
            "overflow": null,
            "overflow_x": null,
            "overflow_y": null,
            "padding": null,
            "right": null,
            "top": null,
            "visibility": null,
            "width": null
          }
        },
        "6687f5aa5cb24bd5ad412ea4a9c4363c": {
          "model_module": "@jupyter-widgets/controls",
          "model_name": "ProgressStyleModel",
          "model_module_version": "1.5.0",
          "state": {
            "_model_module": "@jupyter-widgets/controls",
            "_model_module_version": "1.5.0",
            "_model_name": "ProgressStyleModel",
            "_view_count": null,
            "_view_module": "@jupyter-widgets/base",
            "_view_module_version": "1.2.0",
            "_view_name": "StyleView",
            "bar_color": null,
            "description_width": ""
          }
        },
        "d826764f4fa54e9db15bb4739cbfcc47": {
          "model_module": "@jupyter-widgets/base",
          "model_name": "LayoutModel",
          "model_module_version": "1.2.0",
          "state": {
            "_model_module": "@jupyter-widgets/base",
            "_model_module_version": "1.2.0",
            "_model_name": "LayoutModel",
            "_view_count": null,
            "_view_module": "@jupyter-widgets/base",
            "_view_module_version": "1.2.0",
            "_view_name": "LayoutView",
            "align_content": null,
            "align_items": null,
            "align_self": null,
            "border": null,
            "bottom": null,
            "display": null,
            "flex": null,
            "flex_flow": null,
            "grid_area": null,
            "grid_auto_columns": null,
            "grid_auto_flow": null,
            "grid_auto_rows": null,
            "grid_column": null,
            "grid_gap": null,
            "grid_row": null,
            "grid_template_areas": null,
            "grid_template_columns": null,
            "grid_template_rows": null,
            "height": null,
            "justify_content": null,
            "justify_items": null,
            "left": null,
            "margin": null,
            "max_height": null,
            "max_width": null,
            "min_height": null,
            "min_width": null,
            "object_fit": null,
            "object_position": null,
            "order": null,
            "overflow": null,
            "overflow_x": null,
            "overflow_y": null,
            "padding": null,
            "right": null,
            "top": null,
            "visibility": null,
            "width": null
          }
        },
        "592e44c13ed640939f6f5605246261b2": {
          "model_module": "@jupyter-widgets/controls",
          "model_name": "DescriptionStyleModel",
          "model_module_version": "1.5.0",
          "state": {
            "_model_module": "@jupyter-widgets/controls",
            "_model_module_version": "1.5.0",
            "_model_name": "DescriptionStyleModel",
            "_view_count": null,
            "_view_module": "@jupyter-widgets/base",
            "_view_module_version": "1.2.0",
            "_view_name": "StyleView",
            "description_width": ""
          }
        },
        "65fddf8c463f4062acab0db5b5cc386e": {
          "model_module": "@jupyter-widgets/controls",
          "model_name": "HBoxModel",
          "model_module_version": "1.5.0",
          "state": {
            "_dom_classes": [],
            "_model_module": "@jupyter-widgets/controls",
            "_model_module_version": "1.5.0",
            "_model_name": "HBoxModel",
            "_view_count": null,
            "_view_module": "@jupyter-widgets/controls",
            "_view_module_version": "1.5.0",
            "_view_name": "HBoxView",
            "box_style": "",
            "children": [
              "IPY_MODEL_4d8823ee3dea40b89dc4483e095557fa",
              "IPY_MODEL_20f3e97dc202422282d75ae82fd4ae0f",
              "IPY_MODEL_9376a0cbb7fa4519ac88622c4876ac5c"
            ],
            "layout": "IPY_MODEL_3a4647900c1d4ab59e90d9702b7fce1b"
          }
        },
        "4d8823ee3dea40b89dc4483e095557fa": {
          "model_module": "@jupyter-widgets/controls",
          "model_name": "HTMLModel",
          "model_module_version": "1.5.0",
          "state": {
            "_dom_classes": [],
            "_model_module": "@jupyter-widgets/controls",
            "_model_module_version": "1.5.0",
            "_model_name": "HTMLModel",
            "_view_count": null,
            "_view_module": "@jupyter-widgets/controls",
            "_view_module_version": "1.5.0",
            "_view_name": "HTMLView",
            "description": "",
            "description_tooltip": null,
            "layout": "IPY_MODEL_8d681da84d5c4a1091204bc003f601b5",
            "placeholder": "​",
            "style": "IPY_MODEL_433e22695c2e4278958dff79b9a11236",
            "value": "100%"
          }
        },
        "20f3e97dc202422282d75ae82fd4ae0f": {
          "model_module": "@jupyter-widgets/controls",
          "model_name": "FloatProgressModel",
          "model_module_version": "1.5.0",
          "state": {
            "_dom_classes": [],
            "_model_module": "@jupyter-widgets/controls",
            "_model_module_version": "1.5.0",
            "_model_name": "FloatProgressModel",
            "_view_count": null,
            "_view_module": "@jupyter-widgets/controls",
            "_view_module_version": "1.5.0",
            "_view_name": "ProgressView",
            "bar_style": "success",
            "description": "",
            "description_tooltip": null,
            "layout": "IPY_MODEL_a3183d1180b545aeb2e4fa0bb6439cd0",
            "max": 5,
            "min": 0,
            "orientation": "horizontal",
            "style": "IPY_MODEL_49cccf203a954fd5a1b8e7eb6f3b475c",
            "value": 5
          }
        },
        "9376a0cbb7fa4519ac88622c4876ac5c": {
          "model_module": "@jupyter-widgets/controls",
          "model_name": "HTMLModel",
          "model_module_version": "1.5.0",
          "state": {
            "_dom_classes": [],
            "_model_module": "@jupyter-widgets/controls",
            "_model_module_version": "1.5.0",
            "_model_name": "HTMLModel",
            "_view_count": null,
            "_view_module": "@jupyter-widgets/controls",
            "_view_module_version": "1.5.0",
            "_view_name": "HTMLView",
            "description": "",
            "description_tooltip": null,
            "layout": "IPY_MODEL_1f54c44eb4af44caae559c8a65f3498f",
            "placeholder": "​",
            "style": "IPY_MODEL_b8e34335569246ed87553c9c0d9ab6bb",
            "value": " 5/5 [08:15&lt;00:00, 98.66s/it]"
          }
        },
        "3a4647900c1d4ab59e90d9702b7fce1b": {
          "model_module": "@jupyter-widgets/base",
          "model_name": "LayoutModel",
          "model_module_version": "1.2.0",
          "state": {
            "_model_module": "@jupyter-widgets/base",
            "_model_module_version": "1.2.0",
            "_model_name": "LayoutModel",
            "_view_count": null,
            "_view_module": "@jupyter-widgets/base",
            "_view_module_version": "1.2.0",
            "_view_name": "LayoutView",
            "align_content": null,
            "align_items": null,
            "align_self": null,
            "border": null,
            "bottom": null,
            "display": null,
            "flex": null,
            "flex_flow": null,
            "grid_area": null,
            "grid_auto_columns": null,
            "grid_auto_flow": null,
            "grid_auto_rows": null,
            "grid_column": null,
            "grid_gap": null,
            "grid_row": null,
            "grid_template_areas": null,
            "grid_template_columns": null,
            "grid_template_rows": null,
            "height": null,
            "justify_content": null,
            "justify_items": null,
            "left": null,
            "margin": null,
            "max_height": null,
            "max_width": null,
            "min_height": null,
            "min_width": null,
            "object_fit": null,
            "object_position": null,
            "order": null,
            "overflow": null,
            "overflow_x": null,
            "overflow_y": null,
            "padding": null,
            "right": null,
            "top": null,
            "visibility": null,
            "width": null
          }
        },
        "8d681da84d5c4a1091204bc003f601b5": {
          "model_module": "@jupyter-widgets/base",
          "model_name": "LayoutModel",
          "model_module_version": "1.2.0",
          "state": {
            "_model_module": "@jupyter-widgets/base",
            "_model_module_version": "1.2.0",
            "_model_name": "LayoutModel",
            "_view_count": null,
            "_view_module": "@jupyter-widgets/base",
            "_view_module_version": "1.2.0",
            "_view_name": "LayoutView",
            "align_content": null,
            "align_items": null,
            "align_self": null,
            "border": null,
            "bottom": null,
            "display": null,
            "flex": null,
            "flex_flow": null,
            "grid_area": null,
            "grid_auto_columns": null,
            "grid_auto_flow": null,
            "grid_auto_rows": null,
            "grid_column": null,
            "grid_gap": null,
            "grid_row": null,
            "grid_template_areas": null,
            "grid_template_columns": null,
            "grid_template_rows": null,
            "height": null,
            "justify_content": null,
            "justify_items": null,
            "left": null,
            "margin": null,
            "max_height": null,
            "max_width": null,
            "min_height": null,
            "min_width": null,
            "object_fit": null,
            "object_position": null,
            "order": null,
            "overflow": null,
            "overflow_x": null,
            "overflow_y": null,
            "padding": null,
            "right": null,
            "top": null,
            "visibility": null,
            "width": null
          }
        },
        "433e22695c2e4278958dff79b9a11236": {
          "model_module": "@jupyter-widgets/controls",
          "model_name": "DescriptionStyleModel",
          "model_module_version": "1.5.0",
          "state": {
            "_model_module": "@jupyter-widgets/controls",
            "_model_module_version": "1.5.0",
            "_model_name": "DescriptionStyleModel",
            "_view_count": null,
            "_view_module": "@jupyter-widgets/base",
            "_view_module_version": "1.2.0",
            "_view_name": "StyleView",
            "description_width": ""
          }
        },
        "a3183d1180b545aeb2e4fa0bb6439cd0": {
          "model_module": "@jupyter-widgets/base",
          "model_name": "LayoutModel",
          "model_module_version": "1.2.0",
          "state": {
            "_model_module": "@jupyter-widgets/base",
            "_model_module_version": "1.2.0",
            "_model_name": "LayoutModel",
            "_view_count": null,
            "_view_module": "@jupyter-widgets/base",
            "_view_module_version": "1.2.0",
            "_view_name": "LayoutView",
            "align_content": null,
            "align_items": null,
            "align_self": null,
            "border": null,
            "bottom": null,
            "display": null,
            "flex": null,
            "flex_flow": null,
            "grid_area": null,
            "grid_auto_columns": null,
            "grid_auto_flow": null,
            "grid_auto_rows": null,
            "grid_column": null,
            "grid_gap": null,
            "grid_row": null,
            "grid_template_areas": null,
            "grid_template_columns": null,
            "grid_template_rows": null,
            "height": null,
            "justify_content": null,
            "justify_items": null,
            "left": null,
            "margin": null,
            "max_height": null,
            "max_width": null,
            "min_height": null,
            "min_width": null,
            "object_fit": null,
            "object_position": null,
            "order": null,
            "overflow": null,
            "overflow_x": null,
            "overflow_y": null,
            "padding": null,
            "right": null,
            "top": null,
            "visibility": null,
            "width": null
          }
        },
        "49cccf203a954fd5a1b8e7eb6f3b475c": {
          "model_module": "@jupyter-widgets/controls",
          "model_name": "ProgressStyleModel",
          "model_module_version": "1.5.0",
          "state": {
            "_model_module": "@jupyter-widgets/controls",
            "_model_module_version": "1.5.0",
            "_model_name": "ProgressStyleModel",
            "_view_count": null,
            "_view_module": "@jupyter-widgets/base",
            "_view_module_version": "1.2.0",
            "_view_name": "StyleView",
            "bar_color": null,
            "description_width": ""
          }
        },
        "1f54c44eb4af44caae559c8a65f3498f": {
          "model_module": "@jupyter-widgets/base",
          "model_name": "LayoutModel",
          "model_module_version": "1.2.0",
          "state": {
            "_model_module": "@jupyter-widgets/base",
            "_model_module_version": "1.2.0",
            "_model_name": "LayoutModel",
            "_view_count": null,
            "_view_module": "@jupyter-widgets/base",
            "_view_module_version": "1.2.0",
            "_view_name": "LayoutView",
            "align_content": null,
            "align_items": null,
            "align_self": null,
            "border": null,
            "bottom": null,
            "display": null,
            "flex": null,
            "flex_flow": null,
            "grid_area": null,
            "grid_auto_columns": null,
            "grid_auto_flow": null,
            "grid_auto_rows": null,
            "grid_column": null,
            "grid_gap": null,
            "grid_row": null,
            "grid_template_areas": null,
            "grid_template_columns": null,
            "grid_template_rows": null,
            "height": null,
            "justify_content": null,
            "justify_items": null,
            "left": null,
            "margin": null,
            "max_height": null,
            "max_width": null,
            "min_height": null,
            "min_width": null,
            "object_fit": null,
            "object_position": null,
            "order": null,
            "overflow": null,
            "overflow_x": null,
            "overflow_y": null,
            "padding": null,
            "right": null,
            "top": null,
            "visibility": null,
            "width": null
          }
        },
        "b8e34335569246ed87553c9c0d9ab6bb": {
          "model_module": "@jupyter-widgets/controls",
          "model_name": "DescriptionStyleModel",
          "model_module_version": "1.5.0",
          "state": {
            "_model_module": "@jupyter-widgets/controls",
            "_model_module_version": "1.5.0",
            "_model_name": "DescriptionStyleModel",
            "_view_count": null,
            "_view_module": "@jupyter-widgets/base",
            "_view_module_version": "1.2.0",
            "_view_name": "StyleView",
            "description_width": ""
          }
        },
        "177ac48566984ae38381d93f360a4eb7": {
          "model_module": "@jupyter-widgets/controls",
          "model_name": "HBoxModel",
          "model_module_version": "1.5.0",
          "state": {
            "_dom_classes": [],
            "_model_module": "@jupyter-widgets/controls",
            "_model_module_version": "1.5.0",
            "_model_name": "HBoxModel",
            "_view_count": null,
            "_view_module": "@jupyter-widgets/controls",
            "_view_module_version": "1.5.0",
            "_view_name": "HBoxView",
            "box_style": "",
            "children": [
              "IPY_MODEL_7ac37cf4566a4a1abd8fad4cec106acb",
              "IPY_MODEL_536ffb28a1574fd4a4913a4bf9ceaebf",
              "IPY_MODEL_9662c0b4648c4943b1b4e2fd05a80969"
            ],
            "layout": "IPY_MODEL_d75cc202744740f3866d1637026b7748"
          }
        },
        "7ac37cf4566a4a1abd8fad4cec106acb": {
          "model_module": "@jupyter-widgets/controls",
          "model_name": "HTMLModel",
          "model_module_version": "1.5.0",
          "state": {
            "_dom_classes": [],
            "_model_module": "@jupyter-widgets/controls",
            "_model_module_version": "1.5.0",
            "_model_name": "HTMLModel",
            "_view_count": null,
            "_view_module": "@jupyter-widgets/controls",
            "_view_module_version": "1.5.0",
            "_view_name": "HTMLView",
            "description": "",
            "description_tooltip": null,
            "layout": "IPY_MODEL_ffdda9ea81fb4cdca9a7cd0f2b615d75",
            "placeholder": "​",
            "style": "IPY_MODEL_e079f9819f674fc5b89c15cb8fa108a6",
            "value": "100%"
          }
        },
        "536ffb28a1574fd4a4913a4bf9ceaebf": {
          "model_module": "@jupyter-widgets/controls",
          "model_name": "FloatProgressModel",
          "model_module_version": "1.5.0",
          "state": {
            "_dom_classes": [],
            "_model_module": "@jupyter-widgets/controls",
            "_model_module_version": "1.5.0",
            "_model_name": "FloatProgressModel",
            "_view_count": null,
            "_view_module": "@jupyter-widgets/controls",
            "_view_module_version": "1.5.0",
            "_view_name": "ProgressView",
            "bar_style": "success",
            "description": "",
            "description_tooltip": null,
            "layout": "IPY_MODEL_804870c549b54bbf9cf9726b9ee7641d",
            "max": 5,
            "min": 0,
            "orientation": "horizontal",
            "style": "IPY_MODEL_970533688c9b4084b477c604358bb633",
            "value": 5
          }
        },
        "9662c0b4648c4943b1b4e2fd05a80969": {
          "model_module": "@jupyter-widgets/controls",
          "model_name": "HTMLModel",
          "model_module_version": "1.5.0",
          "state": {
            "_dom_classes": [],
            "_model_module": "@jupyter-widgets/controls",
            "_model_module_version": "1.5.0",
            "_model_name": "HTMLModel",
            "_view_count": null,
            "_view_module": "@jupyter-widgets/controls",
            "_view_module_version": "1.5.0",
            "_view_name": "HTMLView",
            "description": "",
            "description_tooltip": null,
            "layout": "IPY_MODEL_c0228e6b6d1945b6869567d03119f768",
            "placeholder": "​",
            "style": "IPY_MODEL_30f7c695952c481f8026364bdf96896d",
            "value": " 5/5 [09:33&lt;00:00, 114.46s/it]"
          }
        },
        "d75cc202744740f3866d1637026b7748": {
          "model_module": "@jupyter-widgets/base",
          "model_name": "LayoutModel",
          "model_module_version": "1.2.0",
          "state": {
            "_model_module": "@jupyter-widgets/base",
            "_model_module_version": "1.2.0",
            "_model_name": "LayoutModel",
            "_view_count": null,
            "_view_module": "@jupyter-widgets/base",
            "_view_module_version": "1.2.0",
            "_view_name": "LayoutView",
            "align_content": null,
            "align_items": null,
            "align_self": null,
            "border": null,
            "bottom": null,
            "display": null,
            "flex": null,
            "flex_flow": null,
            "grid_area": null,
            "grid_auto_columns": null,
            "grid_auto_flow": null,
            "grid_auto_rows": null,
            "grid_column": null,
            "grid_gap": null,
            "grid_row": null,
            "grid_template_areas": null,
            "grid_template_columns": null,
            "grid_template_rows": null,
            "height": null,
            "justify_content": null,
            "justify_items": null,
            "left": null,
            "margin": null,
            "max_height": null,
            "max_width": null,
            "min_height": null,
            "min_width": null,
            "object_fit": null,
            "object_position": null,
            "order": null,
            "overflow": null,
            "overflow_x": null,
            "overflow_y": null,
            "padding": null,
            "right": null,
            "top": null,
            "visibility": null,
            "width": null
          }
        },
        "ffdda9ea81fb4cdca9a7cd0f2b615d75": {
          "model_module": "@jupyter-widgets/base",
          "model_name": "LayoutModel",
          "model_module_version": "1.2.0",
          "state": {
            "_model_module": "@jupyter-widgets/base",
            "_model_module_version": "1.2.0",
            "_model_name": "LayoutModel",
            "_view_count": null,
            "_view_module": "@jupyter-widgets/base",
            "_view_module_version": "1.2.0",
            "_view_name": "LayoutView",
            "align_content": null,
            "align_items": null,
            "align_self": null,
            "border": null,
            "bottom": null,
            "display": null,
            "flex": null,
            "flex_flow": null,
            "grid_area": null,
            "grid_auto_columns": null,
            "grid_auto_flow": null,
            "grid_auto_rows": null,
            "grid_column": null,
            "grid_gap": null,
            "grid_row": null,
            "grid_template_areas": null,
            "grid_template_columns": null,
            "grid_template_rows": null,
            "height": null,
            "justify_content": null,
            "justify_items": null,
            "left": null,
            "margin": null,
            "max_height": null,
            "max_width": null,
            "min_height": null,
            "min_width": null,
            "object_fit": null,
            "object_position": null,
            "order": null,
            "overflow": null,
            "overflow_x": null,
            "overflow_y": null,
            "padding": null,
            "right": null,
            "top": null,
            "visibility": null,
            "width": null
          }
        },
        "e079f9819f674fc5b89c15cb8fa108a6": {
          "model_module": "@jupyter-widgets/controls",
          "model_name": "DescriptionStyleModel",
          "model_module_version": "1.5.0",
          "state": {
            "_model_module": "@jupyter-widgets/controls",
            "_model_module_version": "1.5.0",
            "_model_name": "DescriptionStyleModel",
            "_view_count": null,
            "_view_module": "@jupyter-widgets/base",
            "_view_module_version": "1.2.0",
            "_view_name": "StyleView",
            "description_width": ""
          }
        },
        "804870c549b54bbf9cf9726b9ee7641d": {
          "model_module": "@jupyter-widgets/base",
          "model_name": "LayoutModel",
          "model_module_version": "1.2.0",
          "state": {
            "_model_module": "@jupyter-widgets/base",
            "_model_module_version": "1.2.0",
            "_model_name": "LayoutModel",
            "_view_count": null,
            "_view_module": "@jupyter-widgets/base",
            "_view_module_version": "1.2.0",
            "_view_name": "LayoutView",
            "align_content": null,
            "align_items": null,
            "align_self": null,
            "border": null,
            "bottom": null,
            "display": null,
            "flex": null,
            "flex_flow": null,
            "grid_area": null,
            "grid_auto_columns": null,
            "grid_auto_flow": null,
            "grid_auto_rows": null,
            "grid_column": null,
            "grid_gap": null,
            "grid_row": null,
            "grid_template_areas": null,
            "grid_template_columns": null,
            "grid_template_rows": null,
            "height": null,
            "justify_content": null,
            "justify_items": null,
            "left": null,
            "margin": null,
            "max_height": null,
            "max_width": null,
            "min_height": null,
            "min_width": null,
            "object_fit": null,
            "object_position": null,
            "order": null,
            "overflow": null,
            "overflow_x": null,
            "overflow_y": null,
            "padding": null,
            "right": null,
            "top": null,
            "visibility": null,
            "width": null
          }
        },
        "970533688c9b4084b477c604358bb633": {
          "model_module": "@jupyter-widgets/controls",
          "model_name": "ProgressStyleModel",
          "model_module_version": "1.5.0",
          "state": {
            "_model_module": "@jupyter-widgets/controls",
            "_model_module_version": "1.5.0",
            "_model_name": "ProgressStyleModel",
            "_view_count": null,
            "_view_module": "@jupyter-widgets/base",
            "_view_module_version": "1.2.0",
            "_view_name": "StyleView",
            "bar_color": null,
            "description_width": ""
          }
        },
        "c0228e6b6d1945b6869567d03119f768": {
          "model_module": "@jupyter-widgets/base",
          "model_name": "LayoutModel",
          "model_module_version": "1.2.0",
          "state": {
            "_model_module": "@jupyter-widgets/base",
            "_model_module_version": "1.2.0",
            "_model_name": "LayoutModel",
            "_view_count": null,
            "_view_module": "@jupyter-widgets/base",
            "_view_module_version": "1.2.0",
            "_view_name": "LayoutView",
            "align_content": null,
            "align_items": null,
            "align_self": null,
            "border": null,
            "bottom": null,
            "display": null,
            "flex": null,
            "flex_flow": null,
            "grid_area": null,
            "grid_auto_columns": null,
            "grid_auto_flow": null,
            "grid_auto_rows": null,
            "grid_column": null,
            "grid_gap": null,
            "grid_row": null,
            "grid_template_areas": null,
            "grid_template_columns": null,
            "grid_template_rows": null,
            "height": null,
            "justify_content": null,
            "justify_items": null,
            "left": null,
            "margin": null,
            "max_height": null,
            "max_width": null,
            "min_height": null,
            "min_width": null,
            "object_fit": null,
            "object_position": null,
            "order": null,
            "overflow": null,
            "overflow_x": null,
            "overflow_y": null,
            "padding": null,
            "right": null,
            "top": null,
            "visibility": null,
            "width": null
          }
        },
        "30f7c695952c481f8026364bdf96896d": {
          "model_module": "@jupyter-widgets/controls",
          "model_name": "DescriptionStyleModel",
          "model_module_version": "1.5.0",
          "state": {
            "_model_module": "@jupyter-widgets/controls",
            "_model_module_version": "1.5.0",
            "_model_name": "DescriptionStyleModel",
            "_view_count": null,
            "_view_module": "@jupyter-widgets/base",
            "_view_module_version": "1.2.0",
            "_view_name": "StyleView",
            "description_width": ""
          }
        },
        "3f82a6dcb9014c6bb03a0f7138698742": {
          "model_module": "@jupyter-widgets/controls",
          "model_name": "HBoxModel",
          "model_module_version": "1.5.0",
          "state": {
            "_dom_classes": [],
            "_model_module": "@jupyter-widgets/controls",
            "_model_module_version": "1.5.0",
            "_model_name": "HBoxModel",
            "_view_count": null,
            "_view_module": "@jupyter-widgets/controls",
            "_view_module_version": "1.5.0",
            "_view_name": "HBoxView",
            "box_style": "",
            "children": [
              "IPY_MODEL_3af88a9a0e9d4d7c94c52ce97e664e46",
              "IPY_MODEL_b6aafd5f19ca4cc0b79e2967201404eb",
              "IPY_MODEL_8de014b4a8a44d239e174b7e9a7883d5"
            ],
            "layout": "IPY_MODEL_ed5889e54c23471e8a009d7dede04ce2"
          }
        },
        "3af88a9a0e9d4d7c94c52ce97e664e46": {
          "model_module": "@jupyter-widgets/controls",
          "model_name": "HTMLModel",
          "model_module_version": "1.5.0",
          "state": {
            "_dom_classes": [],
            "_model_module": "@jupyter-widgets/controls",
            "_model_module_version": "1.5.0",
            "_model_name": "HTMLModel",
            "_view_count": null,
            "_view_module": "@jupyter-widgets/controls",
            "_view_module_version": "1.5.0",
            "_view_name": "HTMLView",
            "description": "",
            "description_tooltip": null,
            "layout": "IPY_MODEL_b1ce0f9ce72e49d2b476a81ca3cfffdd",
            "placeholder": "​",
            "style": "IPY_MODEL_2de8be1265994a9fb43f6dc0260e2450",
            "value": "100%"
          }
        },
        "b6aafd5f19ca4cc0b79e2967201404eb": {
          "model_module": "@jupyter-widgets/controls",
          "model_name": "FloatProgressModel",
          "model_module_version": "1.5.0",
          "state": {
            "_dom_classes": [],
            "_model_module": "@jupyter-widgets/controls",
            "_model_module_version": "1.5.0",
            "_model_name": "FloatProgressModel",
            "_view_count": null,
            "_view_module": "@jupyter-widgets/controls",
            "_view_module_version": "1.5.0",
            "_view_name": "ProgressView",
            "bar_style": "success",
            "description": "",
            "description_tooltip": null,
            "layout": "IPY_MODEL_6ca32a28c69f4c99a68090ed50959120",
            "max": 5,
            "min": 0,
            "orientation": "horizontal",
            "style": "IPY_MODEL_531f98b637094e27a530db3ee2539ec1",
            "value": 5
          }
        },
        "8de014b4a8a44d239e174b7e9a7883d5": {
          "model_module": "@jupyter-widgets/controls",
          "model_name": "HTMLModel",
          "model_module_version": "1.5.0",
          "state": {
            "_dom_classes": [],
            "_model_module": "@jupyter-widgets/controls",
            "_model_module_version": "1.5.0",
            "_model_name": "HTMLModel",
            "_view_count": null,
            "_view_module": "@jupyter-widgets/controls",
            "_view_module_version": "1.5.0",
            "_view_name": "HTMLView",
            "description": "",
            "description_tooltip": null,
            "layout": "IPY_MODEL_31a9f9b236d14c4f973e2c4d876c58f4",
            "placeholder": "​",
            "style": "IPY_MODEL_60b4539388c7499e85a0ad6ffde2035f",
            "value": " 5/5 [03:02&lt;00:00, 36.63s/it]"
          }
        },
        "ed5889e54c23471e8a009d7dede04ce2": {
          "model_module": "@jupyter-widgets/base",
          "model_name": "LayoutModel",
          "model_module_version": "1.2.0",
          "state": {
            "_model_module": "@jupyter-widgets/base",
            "_model_module_version": "1.2.0",
            "_model_name": "LayoutModel",
            "_view_count": null,
            "_view_module": "@jupyter-widgets/base",
            "_view_module_version": "1.2.0",
            "_view_name": "LayoutView",
            "align_content": null,
            "align_items": null,
            "align_self": null,
            "border": null,
            "bottom": null,
            "display": null,
            "flex": null,
            "flex_flow": null,
            "grid_area": null,
            "grid_auto_columns": null,
            "grid_auto_flow": null,
            "grid_auto_rows": null,
            "grid_column": null,
            "grid_gap": null,
            "grid_row": null,
            "grid_template_areas": null,
            "grid_template_columns": null,
            "grid_template_rows": null,
            "height": null,
            "justify_content": null,
            "justify_items": null,
            "left": null,
            "margin": null,
            "max_height": null,
            "max_width": null,
            "min_height": null,
            "min_width": null,
            "object_fit": null,
            "object_position": null,
            "order": null,
            "overflow": null,
            "overflow_x": null,
            "overflow_y": null,
            "padding": null,
            "right": null,
            "top": null,
            "visibility": null,
            "width": null
          }
        },
        "b1ce0f9ce72e49d2b476a81ca3cfffdd": {
          "model_module": "@jupyter-widgets/base",
          "model_name": "LayoutModel",
          "model_module_version": "1.2.0",
          "state": {
            "_model_module": "@jupyter-widgets/base",
            "_model_module_version": "1.2.0",
            "_model_name": "LayoutModel",
            "_view_count": null,
            "_view_module": "@jupyter-widgets/base",
            "_view_module_version": "1.2.0",
            "_view_name": "LayoutView",
            "align_content": null,
            "align_items": null,
            "align_self": null,
            "border": null,
            "bottom": null,
            "display": null,
            "flex": null,
            "flex_flow": null,
            "grid_area": null,
            "grid_auto_columns": null,
            "grid_auto_flow": null,
            "grid_auto_rows": null,
            "grid_column": null,
            "grid_gap": null,
            "grid_row": null,
            "grid_template_areas": null,
            "grid_template_columns": null,
            "grid_template_rows": null,
            "height": null,
            "justify_content": null,
            "justify_items": null,
            "left": null,
            "margin": null,
            "max_height": null,
            "max_width": null,
            "min_height": null,
            "min_width": null,
            "object_fit": null,
            "object_position": null,
            "order": null,
            "overflow": null,
            "overflow_x": null,
            "overflow_y": null,
            "padding": null,
            "right": null,
            "top": null,
            "visibility": null,
            "width": null
          }
        },
        "2de8be1265994a9fb43f6dc0260e2450": {
          "model_module": "@jupyter-widgets/controls",
          "model_name": "DescriptionStyleModel",
          "model_module_version": "1.5.0",
          "state": {
            "_model_module": "@jupyter-widgets/controls",
            "_model_module_version": "1.5.0",
            "_model_name": "DescriptionStyleModel",
            "_view_count": null,
            "_view_module": "@jupyter-widgets/base",
            "_view_module_version": "1.2.0",
            "_view_name": "StyleView",
            "description_width": ""
          }
        },
        "6ca32a28c69f4c99a68090ed50959120": {
          "model_module": "@jupyter-widgets/base",
          "model_name": "LayoutModel",
          "model_module_version": "1.2.0",
          "state": {
            "_model_module": "@jupyter-widgets/base",
            "_model_module_version": "1.2.0",
            "_model_name": "LayoutModel",
            "_view_count": null,
            "_view_module": "@jupyter-widgets/base",
            "_view_module_version": "1.2.0",
            "_view_name": "LayoutView",
            "align_content": null,
            "align_items": null,
            "align_self": null,
            "border": null,
            "bottom": null,
            "display": null,
            "flex": null,
            "flex_flow": null,
            "grid_area": null,
            "grid_auto_columns": null,
            "grid_auto_flow": null,
            "grid_auto_rows": null,
            "grid_column": null,
            "grid_gap": null,
            "grid_row": null,
            "grid_template_areas": null,
            "grid_template_columns": null,
            "grid_template_rows": null,
            "height": null,
            "justify_content": null,
            "justify_items": null,
            "left": null,
            "margin": null,
            "max_height": null,
            "max_width": null,
            "min_height": null,
            "min_width": null,
            "object_fit": null,
            "object_position": null,
            "order": null,
            "overflow": null,
            "overflow_x": null,
            "overflow_y": null,
            "padding": null,
            "right": null,
            "top": null,
            "visibility": null,
            "width": null
          }
        },
        "531f98b637094e27a530db3ee2539ec1": {
          "model_module": "@jupyter-widgets/controls",
          "model_name": "ProgressStyleModel",
          "model_module_version": "1.5.0",
          "state": {
            "_model_module": "@jupyter-widgets/controls",
            "_model_module_version": "1.5.0",
            "_model_name": "ProgressStyleModel",
            "_view_count": null,
            "_view_module": "@jupyter-widgets/base",
            "_view_module_version": "1.2.0",
            "_view_name": "StyleView",
            "bar_color": null,
            "description_width": ""
          }
        },
        "31a9f9b236d14c4f973e2c4d876c58f4": {
          "model_module": "@jupyter-widgets/base",
          "model_name": "LayoutModel",
          "model_module_version": "1.2.0",
          "state": {
            "_model_module": "@jupyter-widgets/base",
            "_model_module_version": "1.2.0",
            "_model_name": "LayoutModel",
            "_view_count": null,
            "_view_module": "@jupyter-widgets/base",
            "_view_module_version": "1.2.0",
            "_view_name": "LayoutView",
            "align_content": null,
            "align_items": null,
            "align_self": null,
            "border": null,
            "bottom": null,
            "display": null,
            "flex": null,
            "flex_flow": null,
            "grid_area": null,
            "grid_auto_columns": null,
            "grid_auto_flow": null,
            "grid_auto_rows": null,
            "grid_column": null,
            "grid_gap": null,
            "grid_row": null,
            "grid_template_areas": null,
            "grid_template_columns": null,
            "grid_template_rows": null,
            "height": null,
            "justify_content": null,
            "justify_items": null,
            "left": null,
            "margin": null,
            "max_height": null,
            "max_width": null,
            "min_height": null,
            "min_width": null,
            "object_fit": null,
            "object_position": null,
            "order": null,
            "overflow": null,
            "overflow_x": null,
            "overflow_y": null,
            "padding": null,
            "right": null,
            "top": null,
            "visibility": null,
            "width": null
          }
        },
        "60b4539388c7499e85a0ad6ffde2035f": {
          "model_module": "@jupyter-widgets/controls",
          "model_name": "DescriptionStyleModel",
          "model_module_version": "1.5.0",
          "state": {
            "_model_module": "@jupyter-widgets/controls",
            "_model_module_version": "1.5.0",
            "_model_name": "DescriptionStyleModel",
            "_view_count": null,
            "_view_module": "@jupyter-widgets/base",
            "_view_module_version": "1.2.0",
            "_view_name": "StyleView",
            "description_width": ""
          }
        },
        "e6d77260f0134f73b5e1bed768b6e026": {
          "model_module": "@jupyter-widgets/controls",
          "model_name": "HBoxModel",
          "model_module_version": "1.5.0",
          "state": {
            "_dom_classes": [],
            "_model_module": "@jupyter-widgets/controls",
            "_model_module_version": "1.5.0",
            "_model_name": "HBoxModel",
            "_view_count": null,
            "_view_module": "@jupyter-widgets/controls",
            "_view_module_version": "1.5.0",
            "_view_name": "HBoxView",
            "box_style": "",
            "children": [
              "IPY_MODEL_619faff8d59441cd9b18ac4334cdd3b6",
              "IPY_MODEL_6c4105294f7f4fefbc8b682c8d5f9737",
              "IPY_MODEL_b7a49822fcf44ee78a3172bfd044b9ee"
            ],
            "layout": "IPY_MODEL_9fe4ff97c05748cabbea8d166913baef"
          }
        },
        "619faff8d59441cd9b18ac4334cdd3b6": {
          "model_module": "@jupyter-widgets/controls",
          "model_name": "HTMLModel",
          "model_module_version": "1.5.0",
          "state": {
            "_dom_classes": [],
            "_model_module": "@jupyter-widgets/controls",
            "_model_module_version": "1.5.0",
            "_model_name": "HTMLModel",
            "_view_count": null,
            "_view_module": "@jupyter-widgets/controls",
            "_view_module_version": "1.5.0",
            "_view_name": "HTMLView",
            "description": "",
            "description_tooltip": null,
            "layout": "IPY_MODEL_469bc900a72144e4b691b3759d71d61b",
            "placeholder": "​",
            "style": "IPY_MODEL_7bcf6fc109df4c63b8f4f22b22bdac00",
            "value": "100%"
          }
        },
        "6c4105294f7f4fefbc8b682c8d5f9737": {
          "model_module": "@jupyter-widgets/controls",
          "model_name": "FloatProgressModel",
          "model_module_version": "1.5.0",
          "state": {
            "_dom_classes": [],
            "_model_module": "@jupyter-widgets/controls",
            "_model_module_version": "1.5.0",
            "_model_name": "FloatProgressModel",
            "_view_count": null,
            "_view_module": "@jupyter-widgets/controls",
            "_view_module_version": "1.5.0",
            "_view_name": "ProgressView",
            "bar_style": "success",
            "description": "",
            "description_tooltip": null,
            "layout": "IPY_MODEL_eecba428a2a541d2ae4cbed9137e5852",
            "max": 5,
            "min": 0,
            "orientation": "horizontal",
            "style": "IPY_MODEL_a573577a543e41689208f85fe82c8ef2",
            "value": 5
          }
        },
        "b7a49822fcf44ee78a3172bfd044b9ee": {
          "model_module": "@jupyter-widgets/controls",
          "model_name": "HTMLModel",
          "model_module_version": "1.5.0",
          "state": {
            "_dom_classes": [],
            "_model_module": "@jupyter-widgets/controls",
            "_model_module_version": "1.5.0",
            "_model_name": "HTMLModel",
            "_view_count": null,
            "_view_module": "@jupyter-widgets/controls",
            "_view_module_version": "1.5.0",
            "_view_name": "HTMLView",
            "description": "",
            "description_tooltip": null,
            "layout": "IPY_MODEL_19cdf0bea1714e3baf68db0ec07f6f72",
            "placeholder": "​",
            "style": "IPY_MODEL_857fefd6441d4ddfabb5ed214e9873c8",
            "value": " 5/5 [09:28&lt;00:00, 113.68s/it]"
          }
        },
        "9fe4ff97c05748cabbea8d166913baef": {
          "model_module": "@jupyter-widgets/base",
          "model_name": "LayoutModel",
          "model_module_version": "1.2.0",
          "state": {
            "_model_module": "@jupyter-widgets/base",
            "_model_module_version": "1.2.0",
            "_model_name": "LayoutModel",
            "_view_count": null,
            "_view_module": "@jupyter-widgets/base",
            "_view_module_version": "1.2.0",
            "_view_name": "LayoutView",
            "align_content": null,
            "align_items": null,
            "align_self": null,
            "border": null,
            "bottom": null,
            "display": null,
            "flex": null,
            "flex_flow": null,
            "grid_area": null,
            "grid_auto_columns": null,
            "grid_auto_flow": null,
            "grid_auto_rows": null,
            "grid_column": null,
            "grid_gap": null,
            "grid_row": null,
            "grid_template_areas": null,
            "grid_template_columns": null,
            "grid_template_rows": null,
            "height": null,
            "justify_content": null,
            "justify_items": null,
            "left": null,
            "margin": null,
            "max_height": null,
            "max_width": null,
            "min_height": null,
            "min_width": null,
            "object_fit": null,
            "object_position": null,
            "order": null,
            "overflow": null,
            "overflow_x": null,
            "overflow_y": null,
            "padding": null,
            "right": null,
            "top": null,
            "visibility": null,
            "width": null
          }
        },
        "469bc900a72144e4b691b3759d71d61b": {
          "model_module": "@jupyter-widgets/base",
          "model_name": "LayoutModel",
          "model_module_version": "1.2.0",
          "state": {
            "_model_module": "@jupyter-widgets/base",
            "_model_module_version": "1.2.0",
            "_model_name": "LayoutModel",
            "_view_count": null,
            "_view_module": "@jupyter-widgets/base",
            "_view_module_version": "1.2.0",
            "_view_name": "LayoutView",
            "align_content": null,
            "align_items": null,
            "align_self": null,
            "border": null,
            "bottom": null,
            "display": null,
            "flex": null,
            "flex_flow": null,
            "grid_area": null,
            "grid_auto_columns": null,
            "grid_auto_flow": null,
            "grid_auto_rows": null,
            "grid_column": null,
            "grid_gap": null,
            "grid_row": null,
            "grid_template_areas": null,
            "grid_template_columns": null,
            "grid_template_rows": null,
            "height": null,
            "justify_content": null,
            "justify_items": null,
            "left": null,
            "margin": null,
            "max_height": null,
            "max_width": null,
            "min_height": null,
            "min_width": null,
            "object_fit": null,
            "object_position": null,
            "order": null,
            "overflow": null,
            "overflow_x": null,
            "overflow_y": null,
            "padding": null,
            "right": null,
            "top": null,
            "visibility": null,
            "width": null
          }
        },
        "7bcf6fc109df4c63b8f4f22b22bdac00": {
          "model_module": "@jupyter-widgets/controls",
          "model_name": "DescriptionStyleModel",
          "model_module_version": "1.5.0",
          "state": {
            "_model_module": "@jupyter-widgets/controls",
            "_model_module_version": "1.5.0",
            "_model_name": "DescriptionStyleModel",
            "_view_count": null,
            "_view_module": "@jupyter-widgets/base",
            "_view_module_version": "1.2.0",
            "_view_name": "StyleView",
            "description_width": ""
          }
        },
        "eecba428a2a541d2ae4cbed9137e5852": {
          "model_module": "@jupyter-widgets/base",
          "model_name": "LayoutModel",
          "model_module_version": "1.2.0",
          "state": {
            "_model_module": "@jupyter-widgets/base",
            "_model_module_version": "1.2.0",
            "_model_name": "LayoutModel",
            "_view_count": null,
            "_view_module": "@jupyter-widgets/base",
            "_view_module_version": "1.2.0",
            "_view_name": "LayoutView",
            "align_content": null,
            "align_items": null,
            "align_self": null,
            "border": null,
            "bottom": null,
            "display": null,
            "flex": null,
            "flex_flow": null,
            "grid_area": null,
            "grid_auto_columns": null,
            "grid_auto_flow": null,
            "grid_auto_rows": null,
            "grid_column": null,
            "grid_gap": null,
            "grid_row": null,
            "grid_template_areas": null,
            "grid_template_columns": null,
            "grid_template_rows": null,
            "height": null,
            "justify_content": null,
            "justify_items": null,
            "left": null,
            "margin": null,
            "max_height": null,
            "max_width": null,
            "min_height": null,
            "min_width": null,
            "object_fit": null,
            "object_position": null,
            "order": null,
            "overflow": null,
            "overflow_x": null,
            "overflow_y": null,
            "padding": null,
            "right": null,
            "top": null,
            "visibility": null,
            "width": null
          }
        },
        "a573577a543e41689208f85fe82c8ef2": {
          "model_module": "@jupyter-widgets/controls",
          "model_name": "ProgressStyleModel",
          "model_module_version": "1.5.0",
          "state": {
            "_model_module": "@jupyter-widgets/controls",
            "_model_module_version": "1.5.0",
            "_model_name": "ProgressStyleModel",
            "_view_count": null,
            "_view_module": "@jupyter-widgets/base",
            "_view_module_version": "1.2.0",
            "_view_name": "StyleView",
            "bar_color": null,
            "description_width": ""
          }
        },
        "19cdf0bea1714e3baf68db0ec07f6f72": {
          "model_module": "@jupyter-widgets/base",
          "model_name": "LayoutModel",
          "model_module_version": "1.2.0",
          "state": {
            "_model_module": "@jupyter-widgets/base",
            "_model_module_version": "1.2.0",
            "_model_name": "LayoutModel",
            "_view_count": null,
            "_view_module": "@jupyter-widgets/base",
            "_view_module_version": "1.2.0",
            "_view_name": "LayoutView",
            "align_content": null,
            "align_items": null,
            "align_self": null,
            "border": null,
            "bottom": null,
            "display": null,
            "flex": null,
            "flex_flow": null,
            "grid_area": null,
            "grid_auto_columns": null,
            "grid_auto_flow": null,
            "grid_auto_rows": null,
            "grid_column": null,
            "grid_gap": null,
            "grid_row": null,
            "grid_template_areas": null,
            "grid_template_columns": null,
            "grid_template_rows": null,
            "height": null,
            "justify_content": null,
            "justify_items": null,
            "left": null,
            "margin": null,
            "max_height": null,
            "max_width": null,
            "min_height": null,
            "min_width": null,
            "object_fit": null,
            "object_position": null,
            "order": null,
            "overflow": null,
            "overflow_x": null,
            "overflow_y": null,
            "padding": null,
            "right": null,
            "top": null,
            "visibility": null,
            "width": null
          }
        },
        "857fefd6441d4ddfabb5ed214e9873c8": {
          "model_module": "@jupyter-widgets/controls",
          "model_name": "DescriptionStyleModel",
          "model_module_version": "1.5.0",
          "state": {
            "_model_module": "@jupyter-widgets/controls",
            "_model_module_version": "1.5.0",
            "_model_name": "DescriptionStyleModel",
            "_view_count": null,
            "_view_module": "@jupyter-widgets/base",
            "_view_module_version": "1.2.0",
            "_view_name": "StyleView",
            "description_width": ""
          }
        },
        "d53eab56a78e4762858a8218366cf895": {
          "model_module": "@jupyter-widgets/controls",
          "model_name": "HBoxModel",
          "model_module_version": "1.5.0",
          "state": {
            "_dom_classes": [],
            "_model_module": "@jupyter-widgets/controls",
            "_model_module_version": "1.5.0",
            "_model_name": "HBoxModel",
            "_view_count": null,
            "_view_module": "@jupyter-widgets/controls",
            "_view_module_version": "1.5.0",
            "_view_name": "HBoxView",
            "box_style": "",
            "children": [
              "IPY_MODEL_358aa005f4364e1eb022a3c87021b104",
              "IPY_MODEL_51b3d5232ce9456ea5ca1b99868b5bef",
              "IPY_MODEL_7759319ca1b9494ab7ef471c41872a7a"
            ],
            "layout": "IPY_MODEL_e6eef73bef214e8a99338a21ad6f0d28"
          }
        },
        "358aa005f4364e1eb022a3c87021b104": {
          "model_module": "@jupyter-widgets/controls",
          "model_name": "HTMLModel",
          "model_module_version": "1.5.0",
          "state": {
            "_dom_classes": [],
            "_model_module": "@jupyter-widgets/controls",
            "_model_module_version": "1.5.0",
            "_model_name": "HTMLModel",
            "_view_count": null,
            "_view_module": "@jupyter-widgets/controls",
            "_view_module_version": "1.5.0",
            "_view_name": "HTMLView",
            "description": "",
            "description_tooltip": null,
            "layout": "IPY_MODEL_96f272bb328f48ff89f800941659f7ce",
            "placeholder": "​",
            "style": "IPY_MODEL_15f5219c3a154a7a8738f82301dad45a",
            "value": "100%"
          }
        },
        "51b3d5232ce9456ea5ca1b99868b5bef": {
          "model_module": "@jupyter-widgets/controls",
          "model_name": "FloatProgressModel",
          "model_module_version": "1.5.0",
          "state": {
            "_dom_classes": [],
            "_model_module": "@jupyter-widgets/controls",
            "_model_module_version": "1.5.0",
            "_model_name": "FloatProgressModel",
            "_view_count": null,
            "_view_module": "@jupyter-widgets/controls",
            "_view_module_version": "1.5.0",
            "_view_name": "ProgressView",
            "bar_style": "success",
            "description": "",
            "description_tooltip": null,
            "layout": "IPY_MODEL_38747cffb5ba42a1a391d7dfc8a29a36",
            "max": 5,
            "min": 0,
            "orientation": "horizontal",
            "style": "IPY_MODEL_67eecf1a0f484ab8a7939800175d5636",
            "value": 5
          }
        },
        "7759319ca1b9494ab7ef471c41872a7a": {
          "model_module": "@jupyter-widgets/controls",
          "model_name": "HTMLModel",
          "model_module_version": "1.5.0",
          "state": {
            "_dom_classes": [],
            "_model_module": "@jupyter-widgets/controls",
            "_model_module_version": "1.5.0",
            "_model_name": "HTMLModel",
            "_view_count": null,
            "_view_module": "@jupyter-widgets/controls",
            "_view_module_version": "1.5.0",
            "_view_name": "HTMLView",
            "description": "",
            "description_tooltip": null,
            "layout": "IPY_MODEL_c3c8d9b277c8443db0e3cb702e612773",
            "placeholder": "​",
            "style": "IPY_MODEL_fe049d859ea84475a2b31d10df178b55",
            "value": " 5/5 [03:01&lt;00:00, 36.43s/it]"
          }
        },
        "e6eef73bef214e8a99338a21ad6f0d28": {
          "model_module": "@jupyter-widgets/base",
          "model_name": "LayoutModel",
          "model_module_version": "1.2.0",
          "state": {
            "_model_module": "@jupyter-widgets/base",
            "_model_module_version": "1.2.0",
            "_model_name": "LayoutModel",
            "_view_count": null,
            "_view_module": "@jupyter-widgets/base",
            "_view_module_version": "1.2.0",
            "_view_name": "LayoutView",
            "align_content": null,
            "align_items": null,
            "align_self": null,
            "border": null,
            "bottom": null,
            "display": null,
            "flex": null,
            "flex_flow": null,
            "grid_area": null,
            "grid_auto_columns": null,
            "grid_auto_flow": null,
            "grid_auto_rows": null,
            "grid_column": null,
            "grid_gap": null,
            "grid_row": null,
            "grid_template_areas": null,
            "grid_template_columns": null,
            "grid_template_rows": null,
            "height": null,
            "justify_content": null,
            "justify_items": null,
            "left": null,
            "margin": null,
            "max_height": null,
            "max_width": null,
            "min_height": null,
            "min_width": null,
            "object_fit": null,
            "object_position": null,
            "order": null,
            "overflow": null,
            "overflow_x": null,
            "overflow_y": null,
            "padding": null,
            "right": null,
            "top": null,
            "visibility": null,
            "width": null
          }
        },
        "96f272bb328f48ff89f800941659f7ce": {
          "model_module": "@jupyter-widgets/base",
          "model_name": "LayoutModel",
          "model_module_version": "1.2.0",
          "state": {
            "_model_module": "@jupyter-widgets/base",
            "_model_module_version": "1.2.0",
            "_model_name": "LayoutModel",
            "_view_count": null,
            "_view_module": "@jupyter-widgets/base",
            "_view_module_version": "1.2.0",
            "_view_name": "LayoutView",
            "align_content": null,
            "align_items": null,
            "align_self": null,
            "border": null,
            "bottom": null,
            "display": null,
            "flex": null,
            "flex_flow": null,
            "grid_area": null,
            "grid_auto_columns": null,
            "grid_auto_flow": null,
            "grid_auto_rows": null,
            "grid_column": null,
            "grid_gap": null,
            "grid_row": null,
            "grid_template_areas": null,
            "grid_template_columns": null,
            "grid_template_rows": null,
            "height": null,
            "justify_content": null,
            "justify_items": null,
            "left": null,
            "margin": null,
            "max_height": null,
            "max_width": null,
            "min_height": null,
            "min_width": null,
            "object_fit": null,
            "object_position": null,
            "order": null,
            "overflow": null,
            "overflow_x": null,
            "overflow_y": null,
            "padding": null,
            "right": null,
            "top": null,
            "visibility": null,
            "width": null
          }
        },
        "15f5219c3a154a7a8738f82301dad45a": {
          "model_module": "@jupyter-widgets/controls",
          "model_name": "DescriptionStyleModel",
          "model_module_version": "1.5.0",
          "state": {
            "_model_module": "@jupyter-widgets/controls",
            "_model_module_version": "1.5.0",
            "_model_name": "DescriptionStyleModel",
            "_view_count": null,
            "_view_module": "@jupyter-widgets/base",
            "_view_module_version": "1.2.0",
            "_view_name": "StyleView",
            "description_width": ""
          }
        },
        "38747cffb5ba42a1a391d7dfc8a29a36": {
          "model_module": "@jupyter-widgets/base",
          "model_name": "LayoutModel",
          "model_module_version": "1.2.0",
          "state": {
            "_model_module": "@jupyter-widgets/base",
            "_model_module_version": "1.2.0",
            "_model_name": "LayoutModel",
            "_view_count": null,
            "_view_module": "@jupyter-widgets/base",
            "_view_module_version": "1.2.0",
            "_view_name": "LayoutView",
            "align_content": null,
            "align_items": null,
            "align_self": null,
            "border": null,
            "bottom": null,
            "display": null,
            "flex": null,
            "flex_flow": null,
            "grid_area": null,
            "grid_auto_columns": null,
            "grid_auto_flow": null,
            "grid_auto_rows": null,
            "grid_column": null,
            "grid_gap": null,
            "grid_row": null,
            "grid_template_areas": null,
            "grid_template_columns": null,
            "grid_template_rows": null,
            "height": null,
            "justify_content": null,
            "justify_items": null,
            "left": null,
            "margin": null,
            "max_height": null,
            "max_width": null,
            "min_height": null,
            "min_width": null,
            "object_fit": null,
            "object_position": null,
            "order": null,
            "overflow": null,
            "overflow_x": null,
            "overflow_y": null,
            "padding": null,
            "right": null,
            "top": null,
            "visibility": null,
            "width": null
          }
        },
        "67eecf1a0f484ab8a7939800175d5636": {
          "model_module": "@jupyter-widgets/controls",
          "model_name": "ProgressStyleModel",
          "model_module_version": "1.5.0",
          "state": {
            "_model_module": "@jupyter-widgets/controls",
            "_model_module_version": "1.5.0",
            "_model_name": "ProgressStyleModel",
            "_view_count": null,
            "_view_module": "@jupyter-widgets/base",
            "_view_module_version": "1.2.0",
            "_view_name": "StyleView",
            "bar_color": null,
            "description_width": ""
          }
        },
        "c3c8d9b277c8443db0e3cb702e612773": {
          "model_module": "@jupyter-widgets/base",
          "model_name": "LayoutModel",
          "model_module_version": "1.2.0",
          "state": {
            "_model_module": "@jupyter-widgets/base",
            "_model_module_version": "1.2.0",
            "_model_name": "LayoutModel",
            "_view_count": null,
            "_view_module": "@jupyter-widgets/base",
            "_view_module_version": "1.2.0",
            "_view_name": "LayoutView",
            "align_content": null,
            "align_items": null,
            "align_self": null,
            "border": null,
            "bottom": null,
            "display": null,
            "flex": null,
            "flex_flow": null,
            "grid_area": null,
            "grid_auto_columns": null,
            "grid_auto_flow": null,
            "grid_auto_rows": null,
            "grid_column": null,
            "grid_gap": null,
            "grid_row": null,
            "grid_template_areas": null,
            "grid_template_columns": null,
            "grid_template_rows": null,
            "height": null,
            "justify_content": null,
            "justify_items": null,
            "left": null,
            "margin": null,
            "max_height": null,
            "max_width": null,
            "min_height": null,
            "min_width": null,
            "object_fit": null,
            "object_position": null,
            "order": null,
            "overflow": null,
            "overflow_x": null,
            "overflow_y": null,
            "padding": null,
            "right": null,
            "top": null,
            "visibility": null,
            "width": null
          }
        },
        "fe049d859ea84475a2b31d10df178b55": {
          "model_module": "@jupyter-widgets/controls",
          "model_name": "DescriptionStyleModel",
          "model_module_version": "1.5.0",
          "state": {
            "_model_module": "@jupyter-widgets/controls",
            "_model_module_version": "1.5.0",
            "_model_name": "DescriptionStyleModel",
            "_view_count": null,
            "_view_module": "@jupyter-widgets/base",
            "_view_module_version": "1.2.0",
            "_view_name": "StyleView",
            "description_width": ""
          }
        },
        "6426a7f7039f40f8a82a37e72cc86f8b": {
          "model_module": "@jupyter-widgets/controls",
          "model_name": "HBoxModel",
          "model_module_version": "1.5.0",
          "state": {
            "_dom_classes": [],
            "_model_module": "@jupyter-widgets/controls",
            "_model_module_version": "1.5.0",
            "_model_name": "HBoxModel",
            "_view_count": null,
            "_view_module": "@jupyter-widgets/controls",
            "_view_module_version": "1.5.0",
            "_view_name": "HBoxView",
            "box_style": "",
            "children": [
              "IPY_MODEL_04ead38a50b24db1a07881726468d799",
              "IPY_MODEL_695fddf8c6034925ac38af5a7b043c33",
              "IPY_MODEL_434cdfb234c54c88a5ad502606f53c6d"
            ],
            "layout": "IPY_MODEL_a380263875b44578857fffe4bbd84fba"
          }
        },
        "04ead38a50b24db1a07881726468d799": {
          "model_module": "@jupyter-widgets/controls",
          "model_name": "HTMLModel",
          "model_module_version": "1.5.0",
          "state": {
            "_dom_classes": [],
            "_model_module": "@jupyter-widgets/controls",
            "_model_module_version": "1.5.0",
            "_model_name": "HTMLModel",
            "_view_count": null,
            "_view_module": "@jupyter-widgets/controls",
            "_view_module_version": "1.5.0",
            "_view_name": "HTMLView",
            "description": "",
            "description_tooltip": null,
            "layout": "IPY_MODEL_5d492e08df7b4ce4ba8accd983744cd7",
            "placeholder": "​",
            "style": "IPY_MODEL_a81d836d5a2144b1817d0bf5bb9714c3",
            "value": "100%"
          }
        },
        "695fddf8c6034925ac38af5a7b043c33": {
          "model_module": "@jupyter-widgets/controls",
          "model_name": "FloatProgressModel",
          "model_module_version": "1.5.0",
          "state": {
            "_dom_classes": [],
            "_model_module": "@jupyter-widgets/controls",
            "_model_module_version": "1.5.0",
            "_model_name": "FloatProgressModel",
            "_view_count": null,
            "_view_module": "@jupyter-widgets/controls",
            "_view_module_version": "1.5.0",
            "_view_name": "ProgressView",
            "bar_style": "success",
            "description": "",
            "description_tooltip": null,
            "layout": "IPY_MODEL_62f69ef7cfed4ca9b559ffddf733a5b9",
            "max": 5,
            "min": 0,
            "orientation": "horizontal",
            "style": "IPY_MODEL_141ed24b30c548f8bcd6549a2ffb3fff",
            "value": 5
          }
        },
        "434cdfb234c54c88a5ad502606f53c6d": {
          "model_module": "@jupyter-widgets/controls",
          "model_name": "HTMLModel",
          "model_module_version": "1.5.0",
          "state": {
            "_dom_classes": [],
            "_model_module": "@jupyter-widgets/controls",
            "_model_module_version": "1.5.0",
            "_model_name": "HTMLModel",
            "_view_count": null,
            "_view_module": "@jupyter-widgets/controls",
            "_view_module_version": "1.5.0",
            "_view_name": "HTMLView",
            "description": "",
            "description_tooltip": null,
            "layout": "IPY_MODEL_6366552eaeac4bb0b2a5ed0d1664692a",
            "placeholder": "​",
            "style": "IPY_MODEL_4020b047f3ef47188cb6c99e0e41d354",
            "value": " 5/5 [17:13&lt;00:00, 206.59s/it]"
          }
        },
        "a380263875b44578857fffe4bbd84fba": {
          "model_module": "@jupyter-widgets/base",
          "model_name": "LayoutModel",
          "model_module_version": "1.2.0",
          "state": {
            "_model_module": "@jupyter-widgets/base",
            "_model_module_version": "1.2.0",
            "_model_name": "LayoutModel",
            "_view_count": null,
            "_view_module": "@jupyter-widgets/base",
            "_view_module_version": "1.2.0",
            "_view_name": "LayoutView",
            "align_content": null,
            "align_items": null,
            "align_self": null,
            "border": null,
            "bottom": null,
            "display": null,
            "flex": null,
            "flex_flow": null,
            "grid_area": null,
            "grid_auto_columns": null,
            "grid_auto_flow": null,
            "grid_auto_rows": null,
            "grid_column": null,
            "grid_gap": null,
            "grid_row": null,
            "grid_template_areas": null,
            "grid_template_columns": null,
            "grid_template_rows": null,
            "height": null,
            "justify_content": null,
            "justify_items": null,
            "left": null,
            "margin": null,
            "max_height": null,
            "max_width": null,
            "min_height": null,
            "min_width": null,
            "object_fit": null,
            "object_position": null,
            "order": null,
            "overflow": null,
            "overflow_x": null,
            "overflow_y": null,
            "padding": null,
            "right": null,
            "top": null,
            "visibility": null,
            "width": null
          }
        },
        "5d492e08df7b4ce4ba8accd983744cd7": {
          "model_module": "@jupyter-widgets/base",
          "model_name": "LayoutModel",
          "model_module_version": "1.2.0",
          "state": {
            "_model_module": "@jupyter-widgets/base",
            "_model_module_version": "1.2.0",
            "_model_name": "LayoutModel",
            "_view_count": null,
            "_view_module": "@jupyter-widgets/base",
            "_view_module_version": "1.2.0",
            "_view_name": "LayoutView",
            "align_content": null,
            "align_items": null,
            "align_self": null,
            "border": null,
            "bottom": null,
            "display": null,
            "flex": null,
            "flex_flow": null,
            "grid_area": null,
            "grid_auto_columns": null,
            "grid_auto_flow": null,
            "grid_auto_rows": null,
            "grid_column": null,
            "grid_gap": null,
            "grid_row": null,
            "grid_template_areas": null,
            "grid_template_columns": null,
            "grid_template_rows": null,
            "height": null,
            "justify_content": null,
            "justify_items": null,
            "left": null,
            "margin": null,
            "max_height": null,
            "max_width": null,
            "min_height": null,
            "min_width": null,
            "object_fit": null,
            "object_position": null,
            "order": null,
            "overflow": null,
            "overflow_x": null,
            "overflow_y": null,
            "padding": null,
            "right": null,
            "top": null,
            "visibility": null,
            "width": null
          }
        },
        "a81d836d5a2144b1817d0bf5bb9714c3": {
          "model_module": "@jupyter-widgets/controls",
          "model_name": "DescriptionStyleModel",
          "model_module_version": "1.5.0",
          "state": {
            "_model_module": "@jupyter-widgets/controls",
            "_model_module_version": "1.5.0",
            "_model_name": "DescriptionStyleModel",
            "_view_count": null,
            "_view_module": "@jupyter-widgets/base",
            "_view_module_version": "1.2.0",
            "_view_name": "StyleView",
            "description_width": ""
          }
        },
        "62f69ef7cfed4ca9b559ffddf733a5b9": {
          "model_module": "@jupyter-widgets/base",
          "model_name": "LayoutModel",
          "model_module_version": "1.2.0",
          "state": {
            "_model_module": "@jupyter-widgets/base",
            "_model_module_version": "1.2.0",
            "_model_name": "LayoutModel",
            "_view_count": null,
            "_view_module": "@jupyter-widgets/base",
            "_view_module_version": "1.2.0",
            "_view_name": "LayoutView",
            "align_content": null,
            "align_items": null,
            "align_self": null,
            "border": null,
            "bottom": null,
            "display": null,
            "flex": null,
            "flex_flow": null,
            "grid_area": null,
            "grid_auto_columns": null,
            "grid_auto_flow": null,
            "grid_auto_rows": null,
            "grid_column": null,
            "grid_gap": null,
            "grid_row": null,
            "grid_template_areas": null,
            "grid_template_columns": null,
            "grid_template_rows": null,
            "height": null,
            "justify_content": null,
            "justify_items": null,
            "left": null,
            "margin": null,
            "max_height": null,
            "max_width": null,
            "min_height": null,
            "min_width": null,
            "object_fit": null,
            "object_position": null,
            "order": null,
            "overflow": null,
            "overflow_x": null,
            "overflow_y": null,
            "padding": null,
            "right": null,
            "top": null,
            "visibility": null,
            "width": null
          }
        },
        "141ed24b30c548f8bcd6549a2ffb3fff": {
          "model_module": "@jupyter-widgets/controls",
          "model_name": "ProgressStyleModel",
          "model_module_version": "1.5.0",
          "state": {
            "_model_module": "@jupyter-widgets/controls",
            "_model_module_version": "1.5.0",
            "_model_name": "ProgressStyleModel",
            "_view_count": null,
            "_view_module": "@jupyter-widgets/base",
            "_view_module_version": "1.2.0",
            "_view_name": "StyleView",
            "bar_color": null,
            "description_width": ""
          }
        },
        "6366552eaeac4bb0b2a5ed0d1664692a": {
          "model_module": "@jupyter-widgets/base",
          "model_name": "LayoutModel",
          "model_module_version": "1.2.0",
          "state": {
            "_model_module": "@jupyter-widgets/base",
            "_model_module_version": "1.2.0",
            "_model_name": "LayoutModel",
            "_view_count": null,
            "_view_module": "@jupyter-widgets/base",
            "_view_module_version": "1.2.0",
            "_view_name": "LayoutView",
            "align_content": null,
            "align_items": null,
            "align_self": null,
            "border": null,
            "bottom": null,
            "display": null,
            "flex": null,
            "flex_flow": null,
            "grid_area": null,
            "grid_auto_columns": null,
            "grid_auto_flow": null,
            "grid_auto_rows": null,
            "grid_column": null,
            "grid_gap": null,
            "grid_row": null,
            "grid_template_areas": null,
            "grid_template_columns": null,
            "grid_template_rows": null,
            "height": null,
            "justify_content": null,
            "justify_items": null,
            "left": null,
            "margin": null,
            "max_height": null,
            "max_width": null,
            "min_height": null,
            "min_width": null,
            "object_fit": null,
            "object_position": null,
            "order": null,
            "overflow": null,
            "overflow_x": null,
            "overflow_y": null,
            "padding": null,
            "right": null,
            "top": null,
            "visibility": null,
            "width": null
          }
        },
        "4020b047f3ef47188cb6c99e0e41d354": {
          "model_module": "@jupyter-widgets/controls",
          "model_name": "DescriptionStyleModel",
          "model_module_version": "1.5.0",
          "state": {
            "_model_module": "@jupyter-widgets/controls",
            "_model_module_version": "1.5.0",
            "_model_name": "DescriptionStyleModel",
            "_view_count": null,
            "_view_module": "@jupyter-widgets/base",
            "_view_module_version": "1.2.0",
            "_view_name": "StyleView",
            "description_width": ""
          }
        },
        "3f1c8f999ac74bb69122faf1192557d3": {
          "model_module": "@jupyter-widgets/controls",
          "model_name": "HBoxModel",
          "model_module_version": "1.5.0",
          "state": {
            "_dom_classes": [],
            "_model_module": "@jupyter-widgets/controls",
            "_model_module_version": "1.5.0",
            "_model_name": "HBoxModel",
            "_view_count": null,
            "_view_module": "@jupyter-widgets/controls",
            "_view_module_version": "1.5.0",
            "_view_name": "HBoxView",
            "box_style": "",
            "children": [
              "IPY_MODEL_fd83a6d3f5944b2cb678c19b1b60848b",
              "IPY_MODEL_484f49822e9c46f9a88844a048fe7670",
              "IPY_MODEL_29fc94653ed9458ebc58ee529d877871"
            ],
            "layout": "IPY_MODEL_f0d6d01336f740c5a0196f83ccdfdf98"
          }
        },
        "fd83a6d3f5944b2cb678c19b1b60848b": {
          "model_module": "@jupyter-widgets/controls",
          "model_name": "HTMLModel",
          "model_module_version": "1.5.0",
          "state": {
            "_dom_classes": [],
            "_model_module": "@jupyter-widgets/controls",
            "_model_module_version": "1.5.0",
            "_model_name": "HTMLModel",
            "_view_count": null,
            "_view_module": "@jupyter-widgets/controls",
            "_view_module_version": "1.5.0",
            "_view_name": "HTMLView",
            "description": "",
            "description_tooltip": null,
            "layout": "IPY_MODEL_71535e809d0c4fb8b68e09a66f08ecf0",
            "placeholder": "​",
            "style": "IPY_MODEL_5c32f8fc366448208fa56090c15da880",
            "value": "100%"
          }
        },
        "484f49822e9c46f9a88844a048fe7670": {
          "model_module": "@jupyter-widgets/controls",
          "model_name": "FloatProgressModel",
          "model_module_version": "1.5.0",
          "state": {
            "_dom_classes": [],
            "_model_module": "@jupyter-widgets/controls",
            "_model_module_version": "1.5.0",
            "_model_name": "FloatProgressModel",
            "_view_count": null,
            "_view_module": "@jupyter-widgets/controls",
            "_view_module_version": "1.5.0",
            "_view_name": "ProgressView",
            "bar_style": "success",
            "description": "",
            "description_tooltip": null,
            "layout": "IPY_MODEL_831c6c265ae84be9b87597342599b91a",
            "max": 5,
            "min": 0,
            "orientation": "horizontal",
            "style": "IPY_MODEL_095d91977d174cbfbeb0009882d0e3f5",
            "value": 5
          }
        },
        "29fc94653ed9458ebc58ee529d877871": {
          "model_module": "@jupyter-widgets/controls",
          "model_name": "HTMLModel",
          "model_module_version": "1.5.0",
          "state": {
            "_dom_classes": [],
            "_model_module": "@jupyter-widgets/controls",
            "_model_module_version": "1.5.0",
            "_model_name": "HTMLModel",
            "_view_count": null,
            "_view_module": "@jupyter-widgets/controls",
            "_view_module_version": "1.5.0",
            "_view_name": "HTMLView",
            "description": "",
            "description_tooltip": null,
            "layout": "IPY_MODEL_826a13af12cd4d09871ba8d5329048aa",
            "placeholder": "​",
            "style": "IPY_MODEL_d4a39f5cb2c940319d1983a80bd46add",
            "value": " 5/5 [06:31&lt;00:00, 77.80s/it]"
          }
        },
        "f0d6d01336f740c5a0196f83ccdfdf98": {
          "model_module": "@jupyter-widgets/base",
          "model_name": "LayoutModel",
          "model_module_version": "1.2.0",
          "state": {
            "_model_module": "@jupyter-widgets/base",
            "_model_module_version": "1.2.0",
            "_model_name": "LayoutModel",
            "_view_count": null,
            "_view_module": "@jupyter-widgets/base",
            "_view_module_version": "1.2.0",
            "_view_name": "LayoutView",
            "align_content": null,
            "align_items": null,
            "align_self": null,
            "border": null,
            "bottom": null,
            "display": null,
            "flex": null,
            "flex_flow": null,
            "grid_area": null,
            "grid_auto_columns": null,
            "grid_auto_flow": null,
            "grid_auto_rows": null,
            "grid_column": null,
            "grid_gap": null,
            "grid_row": null,
            "grid_template_areas": null,
            "grid_template_columns": null,
            "grid_template_rows": null,
            "height": null,
            "justify_content": null,
            "justify_items": null,
            "left": null,
            "margin": null,
            "max_height": null,
            "max_width": null,
            "min_height": null,
            "min_width": null,
            "object_fit": null,
            "object_position": null,
            "order": null,
            "overflow": null,
            "overflow_x": null,
            "overflow_y": null,
            "padding": null,
            "right": null,
            "top": null,
            "visibility": null,
            "width": null
          }
        },
        "71535e809d0c4fb8b68e09a66f08ecf0": {
          "model_module": "@jupyter-widgets/base",
          "model_name": "LayoutModel",
          "model_module_version": "1.2.0",
          "state": {
            "_model_module": "@jupyter-widgets/base",
            "_model_module_version": "1.2.0",
            "_model_name": "LayoutModel",
            "_view_count": null,
            "_view_module": "@jupyter-widgets/base",
            "_view_module_version": "1.2.0",
            "_view_name": "LayoutView",
            "align_content": null,
            "align_items": null,
            "align_self": null,
            "border": null,
            "bottom": null,
            "display": null,
            "flex": null,
            "flex_flow": null,
            "grid_area": null,
            "grid_auto_columns": null,
            "grid_auto_flow": null,
            "grid_auto_rows": null,
            "grid_column": null,
            "grid_gap": null,
            "grid_row": null,
            "grid_template_areas": null,
            "grid_template_columns": null,
            "grid_template_rows": null,
            "height": null,
            "justify_content": null,
            "justify_items": null,
            "left": null,
            "margin": null,
            "max_height": null,
            "max_width": null,
            "min_height": null,
            "min_width": null,
            "object_fit": null,
            "object_position": null,
            "order": null,
            "overflow": null,
            "overflow_x": null,
            "overflow_y": null,
            "padding": null,
            "right": null,
            "top": null,
            "visibility": null,
            "width": null
          }
        },
        "5c32f8fc366448208fa56090c15da880": {
          "model_module": "@jupyter-widgets/controls",
          "model_name": "DescriptionStyleModel",
          "model_module_version": "1.5.0",
          "state": {
            "_model_module": "@jupyter-widgets/controls",
            "_model_module_version": "1.5.0",
            "_model_name": "DescriptionStyleModel",
            "_view_count": null,
            "_view_module": "@jupyter-widgets/base",
            "_view_module_version": "1.2.0",
            "_view_name": "StyleView",
            "description_width": ""
          }
        },
        "831c6c265ae84be9b87597342599b91a": {
          "model_module": "@jupyter-widgets/base",
          "model_name": "LayoutModel",
          "model_module_version": "1.2.0",
          "state": {
            "_model_module": "@jupyter-widgets/base",
            "_model_module_version": "1.2.0",
            "_model_name": "LayoutModel",
            "_view_count": null,
            "_view_module": "@jupyter-widgets/base",
            "_view_module_version": "1.2.0",
            "_view_name": "LayoutView",
            "align_content": null,
            "align_items": null,
            "align_self": null,
            "border": null,
            "bottom": null,
            "display": null,
            "flex": null,
            "flex_flow": null,
            "grid_area": null,
            "grid_auto_columns": null,
            "grid_auto_flow": null,
            "grid_auto_rows": null,
            "grid_column": null,
            "grid_gap": null,
            "grid_row": null,
            "grid_template_areas": null,
            "grid_template_columns": null,
            "grid_template_rows": null,
            "height": null,
            "justify_content": null,
            "justify_items": null,
            "left": null,
            "margin": null,
            "max_height": null,
            "max_width": null,
            "min_height": null,
            "min_width": null,
            "object_fit": null,
            "object_position": null,
            "order": null,
            "overflow": null,
            "overflow_x": null,
            "overflow_y": null,
            "padding": null,
            "right": null,
            "top": null,
            "visibility": null,
            "width": null
          }
        },
        "095d91977d174cbfbeb0009882d0e3f5": {
          "model_module": "@jupyter-widgets/controls",
          "model_name": "ProgressStyleModel",
          "model_module_version": "1.5.0",
          "state": {
            "_model_module": "@jupyter-widgets/controls",
            "_model_module_version": "1.5.0",
            "_model_name": "ProgressStyleModel",
            "_view_count": null,
            "_view_module": "@jupyter-widgets/base",
            "_view_module_version": "1.2.0",
            "_view_name": "StyleView",
            "bar_color": null,
            "description_width": ""
          }
        },
        "826a13af12cd4d09871ba8d5329048aa": {
          "model_module": "@jupyter-widgets/base",
          "model_name": "LayoutModel",
          "model_module_version": "1.2.0",
          "state": {
            "_model_module": "@jupyter-widgets/base",
            "_model_module_version": "1.2.0",
            "_model_name": "LayoutModel",
            "_view_count": null,
            "_view_module": "@jupyter-widgets/base",
            "_view_module_version": "1.2.0",
            "_view_name": "LayoutView",
            "align_content": null,
            "align_items": null,
            "align_self": null,
            "border": null,
            "bottom": null,
            "display": null,
            "flex": null,
            "flex_flow": null,
            "grid_area": null,
            "grid_auto_columns": null,
            "grid_auto_flow": null,
            "grid_auto_rows": null,
            "grid_column": null,
            "grid_gap": null,
            "grid_row": null,
            "grid_template_areas": null,
            "grid_template_columns": null,
            "grid_template_rows": null,
            "height": null,
            "justify_content": null,
            "justify_items": null,
            "left": null,
            "margin": null,
            "max_height": null,
            "max_width": null,
            "min_height": null,
            "min_width": null,
            "object_fit": null,
            "object_position": null,
            "order": null,
            "overflow": null,
            "overflow_x": null,
            "overflow_y": null,
            "padding": null,
            "right": null,
            "top": null,
            "visibility": null,
            "width": null
          }
        },
        "d4a39f5cb2c940319d1983a80bd46add": {
          "model_module": "@jupyter-widgets/controls",
          "model_name": "DescriptionStyleModel",
          "model_module_version": "1.5.0",
          "state": {
            "_model_module": "@jupyter-widgets/controls",
            "_model_module_version": "1.5.0",
            "_model_name": "DescriptionStyleModel",
            "_view_count": null,
            "_view_module": "@jupyter-widgets/base",
            "_view_module_version": "1.2.0",
            "_view_name": "StyleView",
            "description_width": ""
          }
        }
      }
    },
    "accelerator": "GPU"
  },
  "cells": [
    {
      "cell_type": "code",
      "source": [
        "%pip install torch torchvision matplotlib numpy tqdm scikit-learn"
      ],
      "metadata": {
        "colab": {
          "base_uri": "https://localhost:8080/"
        },
        "id": "qoK_k3l3ZUsD",
        "outputId": "4c71624f-d10e-4f85-a5bd-9f8fe5847ab9",
        "collapsed": true
      },
      "execution_count": 1,
      "outputs": [
        {
          "output_type": "stream",
          "name": "stdout",
          "text": [
            "Requirement already satisfied: torch in /usr/local/lib/python3.10/dist-packages (2.4.1+cu121)\n",
            "Requirement already satisfied: torchvision in /usr/local/lib/python3.10/dist-packages (0.19.1+cu121)\n",
            "Requirement already satisfied: matplotlib in /usr/local/lib/python3.10/dist-packages (3.7.1)\n",
            "Requirement already satisfied: numpy in /usr/local/lib/python3.10/dist-packages (1.26.4)\n",
            "Requirement already satisfied: tqdm in /usr/local/lib/python3.10/dist-packages (4.66.5)\n",
            "Requirement already satisfied: scikit-learn in /usr/local/lib/python3.10/dist-packages (1.5.2)\n",
            "Requirement already satisfied: filelock in /usr/local/lib/python3.10/dist-packages (from torch) (3.16.1)\n",
            "Requirement already satisfied: typing-extensions>=4.8.0 in /usr/local/lib/python3.10/dist-packages (from torch) (4.12.2)\n",
            "Requirement already satisfied: sympy in /usr/local/lib/python3.10/dist-packages (from torch) (1.13.3)\n",
            "Requirement already satisfied: networkx in /usr/local/lib/python3.10/dist-packages (from torch) (3.4)\n",
            "Requirement already satisfied: jinja2 in /usr/local/lib/python3.10/dist-packages (from torch) (3.1.4)\n",
            "Requirement already satisfied: fsspec in /usr/local/lib/python3.10/dist-packages (from torch) (2024.6.1)\n",
            "Requirement already satisfied: pillow!=8.3.*,>=5.3.0 in /usr/local/lib/python3.10/dist-packages (from torchvision) (10.4.0)\n",
            "Requirement already satisfied: contourpy>=1.0.1 in /usr/local/lib/python3.10/dist-packages (from matplotlib) (1.3.0)\n",
            "Requirement already satisfied: cycler>=0.10 in /usr/local/lib/python3.10/dist-packages (from matplotlib) (0.12.1)\n",
            "Requirement already satisfied: fonttools>=4.22.0 in /usr/local/lib/python3.10/dist-packages (from matplotlib) (4.54.1)\n",
            "Requirement already satisfied: kiwisolver>=1.0.1 in /usr/local/lib/python3.10/dist-packages (from matplotlib) (1.4.7)\n",
            "Requirement already satisfied: packaging>=20.0 in /usr/local/lib/python3.10/dist-packages (from matplotlib) (24.1)\n",
            "Requirement already satisfied: pyparsing>=2.3.1 in /usr/local/lib/python3.10/dist-packages (from matplotlib) (3.1.4)\n",
            "Requirement already satisfied: python-dateutil>=2.7 in /usr/local/lib/python3.10/dist-packages (from matplotlib) (2.8.2)\n",
            "Requirement already satisfied: scipy>=1.6.0 in /usr/local/lib/python3.10/dist-packages (from scikit-learn) (1.13.1)\n",
            "Requirement already satisfied: joblib>=1.2.0 in /usr/local/lib/python3.10/dist-packages (from scikit-learn) (1.4.2)\n",
            "Requirement already satisfied: threadpoolctl>=3.1.0 in /usr/local/lib/python3.10/dist-packages (from scikit-learn) (3.5.0)\n",
            "Requirement already satisfied: six>=1.5 in /usr/local/lib/python3.10/dist-packages (from python-dateutil>=2.7->matplotlib) (1.16.0)\n",
            "Requirement already satisfied: MarkupSafe>=2.0 in /usr/local/lib/python3.10/dist-packages (from jinja2->torch) (3.0.1)\n",
            "Requirement already satisfied: mpmath<1.4,>=1.1.0 in /usr/local/lib/python3.10/dist-packages (from sympy->torch) (1.3.0)\n"
          ]
        }
      ]
    },
    {
      "cell_type": "code",
      "source": [
        "import torch\n",
        "import torch.nn.functional as F\n",
        "import torchvision\n",
        "from torch import nn\n",
        "import numpy as np\n",
        "\n",
        "%matplotlib inline\n",
        "import matplotlib.pyplot as plt"
      ],
      "metadata": {
        "id": "IM4MlEeNZWRe"
      },
      "execution_count": 2,
      "outputs": []
    },
    {
      "cell_type": "code",
      "source": [
        "seed = 123\n",
        "np.random.seed(seed)\n",
        "torch.manual_seed(seed)\n",
        "device = torch.device(\"cuda\" if torch.cuda.is_available() else \"cpu\")"
      ],
      "metadata": {
        "id": "sI9FHd0-ZX02"
      },
      "execution_count": 3,
      "outputs": []
    },
    {
      "cell_type": "code",
      "source": [
        "data = torch.utils.data.DataLoader(\n",
        "          torchvision.datasets.MNIST('./data', transform=torchvision.transforms.ToTensor(), download=True),\n",
        "          batch_size=128,\n",
        "          shuffle=True)"
      ],
      "metadata": {
        "colab": {
          "base_uri": "https://localhost:8080/"
        },
        "id": "BY9h5gnIZZd1",
        "outputId": "45c86e32-a608-4ffc-b43c-599f6b01ab6b"
      },
      "execution_count": 4,
      "outputs": [
        {
          "output_type": "stream",
          "name": "stdout",
          "text": [
            "Downloading http://yann.lecun.com/exdb/mnist/train-images-idx3-ubyte.gz\n",
            "Failed to download (trying next):\n",
            "<urlopen error [SSL: CERTIFICATE_VERIFY_FAILED] certificate verify failed: certificate has expired (_ssl.c:1007)>\n",
            "\n",
            "Downloading https://ossci-datasets.s3.amazonaws.com/mnist/train-images-idx3-ubyte.gz\n",
            "Downloading https://ossci-datasets.s3.amazonaws.com/mnist/train-images-idx3-ubyte.gz to ./data/MNIST/raw/train-images-idx3-ubyte.gz\n"
          ]
        },
        {
          "output_type": "stream",
          "name": "stderr",
          "text": [
            "100%|██████████| 9912422/9912422 [00:02<00:00, 4175990.16it/s]\n"
          ]
        },
        {
          "output_type": "stream",
          "name": "stdout",
          "text": [
            "Extracting ./data/MNIST/raw/train-images-idx3-ubyte.gz to ./data/MNIST/raw\n",
            "\n",
            "Downloading http://yann.lecun.com/exdb/mnist/train-labels-idx1-ubyte.gz\n",
            "Failed to download (trying next):\n",
            "<urlopen error [SSL: CERTIFICATE_VERIFY_FAILED] certificate verify failed: certificate has expired (_ssl.c:1007)>\n",
            "\n",
            "Downloading https://ossci-datasets.s3.amazonaws.com/mnist/train-labels-idx1-ubyte.gz\n",
            "Downloading https://ossci-datasets.s3.amazonaws.com/mnist/train-labels-idx1-ubyte.gz to ./data/MNIST/raw/train-labels-idx1-ubyte.gz\n"
          ]
        },
        {
          "output_type": "stream",
          "name": "stderr",
          "text": [
            "100%|██████████| 28881/28881 [00:00<00:00, 134301.10it/s]\n"
          ]
        },
        {
          "output_type": "stream",
          "name": "stdout",
          "text": [
            "Extracting ./data/MNIST/raw/train-labels-idx1-ubyte.gz to ./data/MNIST/raw\n",
            "\n",
            "Downloading http://yann.lecun.com/exdb/mnist/t10k-images-idx3-ubyte.gz\n",
            "Failed to download (trying next):\n",
            "<urlopen error [SSL: CERTIFICATE_VERIFY_FAILED] certificate verify failed: certificate has expired (_ssl.c:1007)>\n",
            "\n",
            "Downloading https://ossci-datasets.s3.amazonaws.com/mnist/t10k-images-idx3-ubyte.gz\n",
            "Downloading https://ossci-datasets.s3.amazonaws.com/mnist/t10k-images-idx3-ubyte.gz to ./data/MNIST/raw/t10k-images-idx3-ubyte.gz\n"
          ]
        },
        {
          "output_type": "stream",
          "name": "stderr",
          "text": [
            "100%|██████████| 1648877/1648877 [00:01<00:00, 1082470.56it/s]\n"
          ]
        },
        {
          "output_type": "stream",
          "name": "stdout",
          "text": [
            "Extracting ./data/MNIST/raw/t10k-images-idx3-ubyte.gz to ./data/MNIST/raw\n",
            "\n",
            "Downloading http://yann.lecun.com/exdb/mnist/t10k-labels-idx1-ubyte.gz\n",
            "Failed to download (trying next):\n",
            "<urlopen error [SSL: CERTIFICATE_VERIFY_FAILED] certificate verify failed: certificate has expired (_ssl.c:1007)>\n",
            "\n",
            "Downloading https://ossci-datasets.s3.amazonaws.com/mnist/t10k-labels-idx1-ubyte.gz\n",
            "Downloading https://ossci-datasets.s3.amazonaws.com/mnist/t10k-labels-idx1-ubyte.gz to ./data/MNIST/raw/t10k-labels-idx1-ubyte.gz\n"
          ]
        },
        {
          "output_type": "stream",
          "name": "stderr",
          "text": [
            "100%|██████████| 4542/4542 [00:00<00:00, 4351422.74it/s]"
          ]
        },
        {
          "output_type": "stream",
          "name": "stdout",
          "text": [
            "Extracting ./data/MNIST/raw/t10k-labels-idx1-ubyte.gz to ./data/MNIST/raw\n",
            "\n"
          ]
        },
        {
          "output_type": "stream",
          "name": "stderr",
          "text": [
            "\n"
          ]
        }
      ]
    },
    {
      "cell_type": "code",
      "source": [
        "class Encoder(nn.Module):\n",
        "    def __init__(self, latent_dims):\n",
        "        super().__init__()\n",
        "        self.linear1 = nn.Linear(784, 512)\n",
        "        self.linear2 = nn.Linear(512, latent_dims)\n",
        "        self.linear3 = nn.Linear(512, latent_dims)\n",
        "\n",
        "        self.N = torch.distributions.Normal(0, 1)\n",
        "        self.N.loc = self.N.loc.cuda()\n",
        "        self.N.scale = self.N.scale.cuda()\n",
        "\n",
        "    def forward(self, x):\n",
        "        x = torch.flatten(x, start_dim=1)\n",
        "        x = F.relu(self.linear1(x))\n",
        "        self.mu =  self.linear2(x)\n",
        "        self.sigma = torch.exp(self.linear3(x))\n",
        "        z = self.mu + self.sigma*self.N.sample(self.mu.shape)\n",
        "        return z\n",
        "\n",
        "class Decoder(nn.Module):\n",
        "    def __init__(self, latent_dims):\n",
        "        super().__init__()\n",
        "        self.linear1 = nn.Linear(latent_dims, 512)\n",
        "        self.linear2 = nn.Linear(512, 784)\n",
        "\n",
        "    def forward(self, z):\n",
        "        z = F.relu(self.linear1(z))\n",
        "        z = torch.sigmoid(self.linear2(z))\n",
        "        return z.reshape((-1, 1, 28, 28))\n",
        "\n",
        "class VariationalAutoencoder(nn.Module):\n",
        "    def __init__(self, latent_dims):\n",
        "        super().__init__()\n",
        "        self.encoder = Encoder(latent_dims)\n",
        "        self.decoder = Decoder(latent_dims)\n",
        "\n",
        "    def forward(self, x):\n",
        "        z = self.encoder(x)\n",
        "        return self.decoder(z), self.encoder.mu, self.encoder.sigma\n",
        "\n",
        "vae = VariationalAutoencoder(32).to(device)\n",
        "vae"
      ],
      "metadata": {
        "colab": {
          "base_uri": "https://localhost:8080/"
        },
        "id": "df_OdUw3ZatC",
        "outputId": "e2f54a9e-ada0-4ac6-fcdb-c6b02db9f14c"
      },
      "execution_count": 5,
      "outputs": [
        {
          "output_type": "execute_result",
          "data": {
            "text/plain": [
              "VariationalAutoencoder(\n",
              "  (encoder): Encoder(\n",
              "    (linear1): Linear(in_features=784, out_features=512, bias=True)\n",
              "    (linear2): Linear(in_features=512, out_features=32, bias=True)\n",
              "    (linear3): Linear(in_features=512, out_features=32, bias=True)\n",
              "  )\n",
              "  (decoder): Decoder(\n",
              "    (linear1): Linear(in_features=32, out_features=512, bias=True)\n",
              "    (linear2): Linear(in_features=512, out_features=784, bias=True)\n",
              "  )\n",
              ")"
            ]
          },
          "metadata": {},
          "execution_count": 5
        }
      ]
    },
    {
      "cell_type": "code",
      "source": [
        "def loss_function(reconstructed_x, x, mu, sigma):\n",
        "    reconstructed_x = torch.flatten(reconstructed_x, start_dim=1)\n",
        "    bce = F.binary_cross_entropy(reconstructed_x, x.view(-1, 784), reduction='sum')\n",
        "    logvar = torch.log(sigma.pow(2))\n",
        "    kl = -0.5 * torch.sum(1 + logvar - mu.pow(2) - logvar.exp())\n",
        "    return bce + kl"
      ],
      "metadata": {
        "id": "3KI7_Le5ZcHD"
      },
      "execution_count": 6,
      "outputs": []
    },
    {
      "cell_type": "code",
      "source": [
        "from tqdm.notebook import tqdm\n",
        "\n",
        "def train(vae, data, epochs=20):\n",
        "    try:\n",
        "        optimizer = torch.optim.Adam(vae.parameters(), lr=3e-4, betas=(0.9, 0.999))\n",
        "        for epoch in tqdm(range(epochs)):\n",
        "            avg_loss = 0\n",
        "            for x, y in data:\n",
        "                x = x.to(device)\n",
        "                optimizer.zero_grad()\n",
        "                out, mu, sigma = vae(x)\n",
        "                loss = loss_function(out, x, mu, sigma)\n",
        "                avg_loss += loss.item()\n",
        "                loss.backward()\n",
        "                optimizer.step()\n",
        "            print(f\"Epoch: {epoch}, Loss: {avg_loss / len(data)}\")\n",
        "    except KeyboardInterrupt:\n",
        "        print(\"Exiting...\")\n",
        "\n",
        "train(vae, data)"
      ],
      "metadata": {
        "colab": {
          "base_uri": "https://localhost:8080/",
          "height": 406,
          "referenced_widgets": [
            "775dc8f2b0b742218b3ecf3b68de205a",
            "d54540e050b14ebba97c1e08c9a0c1c4",
            "0d0013f6590846b7a513119b1bbbab35",
            "6b51b39ef77f4cdb94f830bcec07414a",
            "6e16d8ddcc9a4379bcd8891b8d3da43e",
            "e6df0056496d4c30bfa8b4423a6f7d49",
            "e37511c53ad84fac8a7e6c38cec57b60",
            "0e7c34c251c24eaa9cc0798bbf3a2034",
            "6687f5aa5cb24bd5ad412ea4a9c4363c",
            "d826764f4fa54e9db15bb4739cbfcc47",
            "592e44c13ed640939f6f5605246261b2"
          ]
        },
        "id": "EadXFrMRK_is",
        "outputId": "8e860660-d47c-47e0-a251-2addb625eaa2"
      },
      "execution_count": 7,
      "outputs": [
        {
          "output_type": "display_data",
          "data": {
            "text/plain": [
              "  0%|          | 0/20 [00:00<?, ?it/s]"
            ],
            "application/vnd.jupyter.widget-view+json": {
              "version_major": 2,
              "version_minor": 0,
              "model_id": "775dc8f2b0b742218b3ecf3b68de205a"
            }
          },
          "metadata": {}
        },
        {
          "output_type": "stream",
          "name": "stdout",
          "text": [
            "Epoch: 0, Loss: 25729.260702625266\n",
            "Epoch: 1, Loss: 18377.61342284115\n",
            "Epoch: 2, Loss: 16681.989101645788\n",
            "Epoch: 3, Loss: 15782.311640041977\n",
            "Epoch: 4, Loss: 15227.700830390459\n",
            "Epoch: 5, Loss: 14870.886985274521\n",
            "Epoch: 6, Loss: 14612.263611490538\n",
            "Epoch: 7, Loss: 14412.986696678438\n",
            "Epoch: 8, Loss: 14253.331858425507\n",
            "Epoch: 9, Loss: 14127.044166028118\n",
            "Epoch: 10, Loss: 14027.895718117004\n",
            "Epoch: 11, Loss: 13941.537690315165\n",
            "Epoch: 12, Loss: 13867.31212936434\n",
            "Epoch: 13, Loss: 13802.333143156982\n",
            "Epoch: 14, Loss: 13748.407742953757\n",
            "Epoch: 15, Loss: 13697.278799223748\n",
            "Epoch: 16, Loss: 13653.683658298907\n",
            "Epoch: 17, Loss: 13619.586239422308\n",
            "Epoch: 18, Loss: 13582.04611290645\n",
            "Epoch: 19, Loss: 13547.680699460288\n"
          ]
        }
      ]
    },
    {
      "cell_type": "code",
      "source": [
        "torch.save(vae.state_dict(), 'vae.pth')"
      ],
      "metadata": {
        "id": "28zV0pYix-aK"
      },
      "execution_count": 8,
      "outputs": []
    },
    {
      "cell_type": "code",
      "source": [
        "for i, (x, y) in enumerate(data):\n",
        "    x = x.to(device)\n",
        "    z = vae.encoder(x)\n",
        "    z = z.to('cpu').detach().numpy()\n",
        "    plt.scatter(z[:, 0], z[:, 1], c=y, cmap='tab10')\n",
        "    if i > 100:\n",
        "        break\n",
        "\n",
        "plt.colorbar()"
      ],
      "metadata": {
        "colab": {
          "base_uri": "https://localhost:8080/",
          "height": 453
        },
        "id": "lYg1CTxhyJaC",
        "outputId": "bb3f465f-43f0-43dd-a848-eb270a379a3d"
      },
      "execution_count": 9,
      "outputs": [
        {
          "output_type": "execute_result",
          "data": {
            "text/plain": [
              "<matplotlib.colorbar.Colorbar at 0x7b2bde4d4670>"
            ]
          },
          "metadata": {},
          "execution_count": 9
        },
        {
          "output_type": "display_data",
          "data": {
            "text/plain": [
              "<Figure size 640x480 with 2 Axes>"
            ],
            "image/png": "[encoded data removed]"
          },
          "metadata": {}
        }
      ]
    },
    {
      "cell_type": "code",
      "source": [
        "from sklearn.svm import SVC\n",
        "from sklearn.model_selection import train_test_split\n",
        "from sklearn.metrics import accuracy_score\n",
        "import pickle\n",
        "\n",
        "latent_representations = []\n",
        "labels = []\n",
        "for x, y in data:\n",
        "    x = x.to(device)\n",
        "    z = vae.encoder(x)\n",
        "    latent_representations.extend(z.cpu().detach().numpy())\n",
        "    labels.extend(y.numpy())\n",
        "\n",
        "latent_representations = np.array(latent_representations)\n",
        "labels = np.array(labels)\n",
        "\n",
        "\n",
        "label_sizes = [100, 600, 1000, 3000]\n",
        "\n",
        "for num_labels in label_sizes:\n",
        "    sampled_idx = np.random.choice(len(labels), size=num_labels, replace=False)\n",
        "    X_train_sampled = latent_representations[sampled_idx]\n",
        "    y_train_sampled = labels[sampled_idx]\n",
        "\n",
        "    X_train, X_test, y_train, y_test = train_test_split(X_train_sampled, y_train_sampled, test_size=0.2, random_state=123)\n",
        "\n",
        "    svm_classifier = SVC(kernel='rbf', gamma='scale')\n",
        "    svm_classifier.fit(X_train, y_train)\n",
        "\n",
        "    y_pred = svm_classifier.predict(X_test)\n",
        "\n",
        "    with open(f'svc{num_labels}.pkl','wb') as f:\n",
        "        pickle.dump(svm_classifier,f)\n",
        "\n",
        "    accuracy = accuracy_score(y_test, y_pred)\n",
        "    print(f\"Accuracy with {num_labels} labels: {accuracy:.4f}\")"
      ],
      "metadata": {
        "colab": {
          "base_uri": "https://localhost:8080/"
        },
        "id": "3TNv-kL2a1__",
        "outputId": "3b738a84-3f59-4227-e427-54979aa5130c"
      },
      "execution_count": 10,
      "outputs": [
        {
          "output_type": "stream",
          "name": "stdout",
          "text": [
            "Accuracy with 100 labels: 0.6500\n",
            "Accuracy with 600 labels: 0.8667\n",
            "Accuracy with 1000 labels: 0.8800\n",
            "Accuracy with 3000 labels: 0.9317\n"
          ]
        }
      ]
    },
    {
      "cell_type": "code",
      "source": [
        "import pickle\n",
        "from sklearn.metrics import accuracy_score\n",
        "\n",
        "vae = VariationalAutoencoder(32).to(device)\n",
        "vae.load_state_dict(torch.load('vae.pth'))\n",
        "\n",
        "with open('svc3000.pkl', 'rb') as f:\n",
        "    svm_classifier = pickle.load(f)\n",
        "\n",
        "for i, (x, y) in enumerate(data):\n",
        "    x = x.to(device)\n",
        "    z = vae.encoder(x)\n",
        "    z = z.cpu().detach().numpy()\n",
        "\n",
        "    y_pred = svm_classifier.predict(z)\n",
        "\n",
        "    accuracy = accuracy_score(y, y_pred)\n",
        "    print(f\"Accuracy: {accuracy:.4f}\")\n",
        "\n",
        "    break\n",
        ""
      ],
      "metadata": {
        "colab": {
          "base_uri": "https://localhost:8080/"
        },
        "id": "LA-i2zG5yZw3",
        "outputId": "7f500f7e-cd3a-4114-fdc4-a2ace2bb3c96"
      },
      "execution_count": 13,
      "outputs": [
        {
          "output_type": "stream",
          "name": "stdout",
          "text": [
            "Accuracy: 0.9375\n"
          ]
        },
        {
          "output_type": "stream",
          "name": "stderr",
          "text": [
            "<ipython-input-13-d61f26f339e0>:5: FutureWarning: You are using `torch.load` with `weights_only=False` (the current default value), which uses the default pickle module implicitly. It is possible to construct malicious pickle data which will execute arbitrary code during unpickling (See https://github.com/pytorch/pytorch/blob/main/SECURITY.md#untrusted-models for more details). In a future release, the default value for `weights_only` will be flipped to `True`. This limits the functions that could be executed during unpickling. Arbitrary objects will no longer be allowed to be loaded via this mode unless they are explicitly allowlisted by the user via `torch.serialization.add_safe_globals`. We recommend you start setting `weights_only=True` for any use case where you don't have full control of the loaded file. Please open an issue on GitHub for any issues related to this experimental feature.\n",
            "  vae.load_state_dict(torch.load('vae.pth'))\n"
          ]
        }
      ]
    },
    {
      "cell_type": "markdown",
      "source": [
        "# GANs"
      ],
      "metadata": {
        "id": "YwsdYb8ssbIt"
      }
    },
    {
      "cell_type": "code",
      "source": [
        "def weight_initialization(module):\n",
        "    if isinstance(module, nn.Conv2d) or isinstance(module, nn.ConvTranspose2d):\n",
        "        nn.init.normal_(module.weight, 0.0, 0.02)\n",
        "    elif isinstance(module, nn.BatchNorm2d):\n",
        "        nn.init.normal_(module.weight, 1.0, 0.02)\n",
        "        nn.init.constant_(module.bias, 0)"
      ],
      "metadata": {
        "id": "z64IEH-Z6bfy"
      },
      "execution_count": 5,
      "outputs": []
    },
    {
      "cell_type": "code",
      "source": [
        "from torch import nn\n",
        "\n",
        "latent_dims = 100\n",
        "\n",
        "class Generator(nn.Module):\n",
        "    def __init__(self):\n",
        "        super().__init__()\n",
        "        gf = 64\n",
        "        self.layers = nn.Sequential(\n",
        "            # +10 for label information (conditional GAN)\n",
        "            nn.ConvTranspose2d(latent_dims + 10, gf*8, 4, 1, 0, bias=False),\n",
        "            nn.BatchNorm2d(gf*8),\n",
        "            nn.ReLU(True),\n",
        "\n",
        "            nn.ConvTranspose2d(gf*8, gf*4, 4, 2, 1, bias=False),\n",
        "            nn.BatchNorm2d(gf*4),\n",
        "            nn.ReLU(True),\n",
        "\n",
        "            nn.ConvTranspose2d(gf*4, gf*2, 4, 2, 1, bias=False),\n",
        "            nn.BatchNorm2d(gf*2),\n",
        "            nn.ReLU(True),\n",
        "\n",
        "            nn.ConvTranspose2d(gf*2, gf, 4, 2, 1, bias=False),\n",
        "            nn.BatchNorm2d(gf),\n",
        "            nn.ReLU(True),\n",
        "\n",
        "            nn.ConvTranspose2d(gf, 1, 4, 2, 1, bias=False),\n",
        "            nn.Tanh()\n",
        "        )\n",
        "\n",
        "    def forward(self, x, labels):\n",
        "        labels = labels.unsqueeze(-1).unsqueeze(-1)\n",
        "        labels = labels.repeat(1, 1, x.shape[2], x.shape[3])\n",
        "        x = torch.cat((x, labels), dim=1)\n",
        "        return self.layers(x)\n",
        "\n",
        "generator = Generator().to(device)\n",
        "generator.apply(weight_initialization)\n",
        "generator"
      ],
      "metadata": {
        "colab": {
          "base_uri": "https://localhost:8080/",
          "height": 0
        },
        "id": "i5urmmKSsZ3T",
        "outputId": "29885ef5-aa50-41ac-e0c1-cd1c8d512712"
      },
      "execution_count": 28,
      "outputs": [
        {
          "output_type": "execute_result",
          "data": {
            "text/plain": [
              "Generator(\n",
              "  (layers): Sequential(\n",
              "    (0): ConvTranspose2d(110, 512, kernel_size=(4, 4), stride=(1, 1), bias=False)\n",
              "    (1): BatchNorm2d(512, eps=1e-05, momentum=0.1, affine=True, track_running_stats=True)\n",
              "    (2): ReLU(inplace=True)\n",
              "    (3): ConvTranspose2d(512, 256, kernel_size=(4, 4), stride=(2, 2), padding=(1, 1), bias=False)\n",
              "    (4): BatchNorm2d(256, eps=1e-05, momentum=0.1, affine=True, track_running_stats=True)\n",
              "    (5): ReLU(inplace=True)\n",
              "    (6): ConvTranspose2d(256, 128, kernel_size=(4, 4), stride=(2, 2), padding=(1, 1), bias=False)\n",
              "    (7): BatchNorm2d(128, eps=1e-05, momentum=0.1, affine=True, track_running_stats=True)\n",
              "    (8): ReLU(inplace=True)\n",
              "    (9): ConvTranspose2d(128, 64, kernel_size=(4, 4), stride=(2, 2), padding=(1, 1), bias=False)\n",
              "    (10): BatchNorm2d(64, eps=1e-05, momentum=0.1, affine=True, track_running_stats=True)\n",
              "    (11): ReLU(inplace=True)\n",
              "    (12): ConvTranspose2d(64, 1, kernel_size=(4, 4), stride=(2, 2), padding=(1, 1), bias=False)\n",
              "    (13): Tanh()\n",
              "  )\n",
              ")"
            ]
          },
          "metadata": {},
          "execution_count": 28
        }
      ]
    },
    {
      "cell_type": "code",
      "source": [
        "class Discriminator(nn.Module):\n",
        "    def __init__(self):\n",
        "        super().__init__()\n",
        "        df = 64\n",
        "        self.layers = nn.Sequential(\n",
        "            nn.Conv2d(1 + 10, df, 4, 2, 1, bias=False),\n",
        "            nn.LeakyReLU(0.2, inplace=True),\n",
        "\n",
        "            nn.Conv2d(df, df * 2, 4, 2, 1, bias=False),\n",
        "            nn.BatchNorm2d(df * 2),\n",
        "            nn.LeakyReLU(0.2, inplace=True),\n",
        "\n",
        "            nn.Conv2d(df * 2, df * 4, 4, 2, 1, bias=False),\n",
        "            nn.BatchNorm2d(df * 4),\n",
        "            nn.LeakyReLU(0.2, inplace=True),\n",
        "\n",
        "            nn.Conv2d(df * 4, df * 8, 4, 2, 1, bias=False),\n",
        "            nn.BatchNorm2d(df * 8),\n",
        "            nn.LeakyReLU(0.2, inplace=True),\n",
        "\n",
        "            nn.Conv2d(df * 8, 1, 4, 1, 0, bias=False),\n",
        "            nn.Sigmoid()\n",
        "        )\n",
        "\n",
        "    def forward(self, x, labels):\n",
        "        labels = labels.unsqueeze(-1).unsqueeze(-1)\n",
        "        labels = labels.repeat(1, 1, x.shape[2], x.shape[3])\n",
        "        x = torch.cat((x, labels), dim=1)\n",
        "        return self.layers(x).view(-1, 1).squeeze(1)\n",
        "\n",
        "discriminator = Discriminator().to(device)\n",
        "discriminator.apply(weight_initialization)\n",
        "discriminator"
      ],
      "metadata": {
        "colab": {
          "base_uri": "https://localhost:8080/",
          "height": 0
        },
        "id": "_Gcca05AsofM",
        "outputId": "a3a1b05b-2d25-47e3-fbd6-31757ad14199"
      },
      "execution_count": 26,
      "outputs": [
        {
          "output_type": "execute_result",
          "data": {
            "text/plain": [
              "Discriminator(\n",
              "  (layers): Sequential(\n",
              "    (0): Conv2d(11, 64, kernel_size=(4, 4), stride=(2, 2), padding=(1, 1), bias=False)\n",
              "    (1): LeakyReLU(negative_slope=0.2, inplace=True)\n",
              "    (2): Conv2d(64, 128, kernel_size=(4, 4), stride=(2, 2), padding=(1, 1), bias=False)\n",
              "    (3): BatchNorm2d(128, eps=1e-05, momentum=0.1, affine=True, track_running_stats=True)\n",
              "    (4): LeakyReLU(negative_slope=0.2, inplace=True)\n",
              "    (5): Conv2d(128, 256, kernel_size=(4, 4), stride=(2, 2), padding=(1, 1), bias=False)\n",
              "    (6): BatchNorm2d(256, eps=1e-05, momentum=0.1, affine=True, track_running_stats=True)\n",
              "    (7): LeakyReLU(negative_slope=0.2, inplace=True)\n",
              "    (8): Conv2d(256, 512, kernel_size=(4, 4), stride=(2, 2), padding=(1, 1), bias=False)\n",
              "    (9): BatchNorm2d(512, eps=1e-05, momentum=0.1, affine=True, track_running_stats=True)\n",
              "    (10): LeakyReLU(negative_slope=0.2, inplace=True)\n",
              "    (11): Conv2d(512, 1, kernel_size=(4, 4), stride=(1, 1), bias=False)\n",
              "    (12): Sigmoid()\n",
              "  )\n",
              ")"
            ]
          },
          "metadata": {},
          "execution_count": 26
        }
      ]
    },
    {
      "cell_type": "code",
      "source": [
        "import torchvision\n",
        "import torchvision.transforms as transforms\n",
        "\n",
        "fashion_mnist_data = torch.utils.data.DataLoader(\n",
        "    torchvision.datasets.FashionMNIST('./data', download=True,\n",
        "                                      transform=transforms.Compose([\n",
        "                                          torchvision.transforms.Resize(64),\n",
        "                                          torchvision.transforms.ToTensor(),\n",
        "                                          transforms.Normalize((0.5,), (0.5,))\n",
        "                                      ])),\n",
        "    batch_size=128,\n",
        "    shuffle=True\n",
        ")"
      ],
      "metadata": {
        "colab": {
          "base_uri": "https://localhost:8080/"
        },
        "id": "0iFo7ndu02nu",
        "outputId": "cfd2d6ee-6bd0-4217-b788-d23b18812518",
        "collapsed": true
      },
      "execution_count": 6,
      "outputs": [
        {
          "output_type": "stream",
          "name": "stdout",
          "text": [
            "Downloading http://fashion-mnist.s3-website.eu-central-1.amazonaws.com/train-images-idx3-ubyte.gz\n",
            "Downloading http://fashion-mnist.s3-website.eu-central-1.amazonaws.com/train-images-idx3-ubyte.gz to ./data/FashionMNIST/raw/train-images-idx3-ubyte.gz\n"
          ]
        },
        {
          "output_type": "stream",
          "name": "stderr",
          "text": [
            "100%|██████████| 26421880/26421880 [00:02<00:00, 12797287.15it/s]\n"
          ]
        },
        {
          "output_type": "stream",
          "name": "stdout",
          "text": [
            "Extracting ./data/FashionMNIST/raw/train-images-idx3-ubyte.gz to ./data/FashionMNIST/raw\n",
            "\n",
            "Downloading http://fashion-mnist.s3-website.eu-central-1.amazonaws.com/train-labels-idx1-ubyte.gz\n",
            "Downloading http://fashion-mnist.s3-website.eu-central-1.amazonaws.com/train-labels-idx1-ubyte.gz to ./data/FashionMNIST/raw/train-labels-idx1-ubyte.gz\n"
          ]
        },
        {
          "output_type": "stream",
          "name": "stderr",
          "text": [
            "100%|██████████| 29515/29515 [00:00<00:00, 205282.99it/s]\n"
          ]
        },
        {
          "output_type": "stream",
          "name": "stdout",
          "text": [
            "Extracting ./data/FashionMNIST/raw/train-labels-idx1-ubyte.gz to ./data/FashionMNIST/raw\n",
            "\n",
            "Downloading http://fashion-mnist.s3-website.eu-central-1.amazonaws.com/t10k-images-idx3-ubyte.gz\n",
            "Downloading http://fashion-mnist.s3-website.eu-central-1.amazonaws.com/t10k-images-idx3-ubyte.gz to ./data/FashionMNIST/raw/t10k-images-idx3-ubyte.gz\n"
          ]
        },
        {
          "output_type": "stream",
          "name": "stderr",
          "text": [
            "100%|██████████| 4422102/4422102 [00:01<00:00, 3718526.11it/s]\n"
          ]
        },
        {
          "output_type": "stream",
          "name": "stdout",
          "text": [
            "Extracting ./data/FashionMNIST/raw/t10k-images-idx3-ubyte.gz to ./data/FashionMNIST/raw\n",
            "\n",
            "Downloading http://fashion-mnist.s3-website.eu-central-1.amazonaws.com/t10k-labels-idx1-ubyte.gz\n",
            "Downloading http://fashion-mnist.s3-website.eu-central-1.amazonaws.com/t10k-labels-idx1-ubyte.gz to ./data/FashionMNIST/raw/t10k-labels-idx1-ubyte.gz\n"
          ]
        },
        {
          "output_type": "stream",
          "name": "stderr",
          "text": [
            "100%|██████████| 5148/5148 [00:00<00:00, 23520998.90it/s]\n"
          ]
        },
        {
          "output_type": "stream",
          "name": "stdout",
          "text": [
            "Extracting ./data/FashionMNIST/raw/t10k-labels-idx1-ubyte.gz to ./data/FashionMNIST/raw\n",
            "\n"
          ]
        }
      ]
    },
    {
      "cell_type": "code",
      "source": [
        "from functools import total_ordering\n",
        "from tqdm.notebook import tqdm\n",
        "\n",
        "def dcgan_train(discriminator, generator, data, epochs):\n",
        "    criterion = nn.BCELoss()\n",
        "    discriminatorOptimizer = torch.optim.Adam(discriminator.parameters(), lr=2e-4, betas=(0.5, 0.999))\n",
        "    generatorOptimizer = torch.optim.Adam(generator.parameters(), lr=2e-4, betas=(0.5, 0.999))\n",
        "\n",
        "    generator_losses = []\n",
        "    discriminator_losses = []\n",
        "\n",
        "    try:\n",
        "        for epoch in tqdm(range(epochs)):\n",
        "            epoch_generator_loss = 0\n",
        "            epoch_discriminator_loss = 0\n",
        "            for i, (x, y) in enumerate(data):\n",
        "                # update discriminator\n",
        "                # maximize log(D(x)) + log(1 - D(G(z)))\n",
        "                x = x.to(device)\n",
        "                y = F.one_hot(y, num_classes=10).to(device).float()\n",
        "                discriminatorOptimizer.zero_grad()\n",
        "                real_labels = torch.ones(x.shape[0]).to(device)\n",
        "                real_preds = discriminator(x, y)\n",
        "                real_loss = criterion(real_preds, real_labels)\n",
        "                real_loss.backward()\n",
        "\n",
        "                noise = torch.randn(x.shape[0], latent_dims, 1, 1, device=device)\n",
        "                fake_images = generator(noise, y)\n",
        "                fake_labels = torch.zeros(x.shape[0]).to(device)\n",
        "                fake_preds = discriminator(fake_images.detach(), y)\n",
        "                fake_loss = criterion(fake_preds, fake_labels)\n",
        "                fake_loss.backward()\n",
        "                total_loss = real_loss + fake_loss\n",
        "\n",
        "                discriminatorOptimizer.step()\n",
        "\n",
        "                if i % 100 == 0:\n",
        "                  print(f\"Epoch: {epoch}, Discriminator Loss: {total_loss.item()}\")\n",
        "                epoch_discriminator_loss += total_loss.item()\n",
        "\n",
        "                # update generator\n",
        "                # maximize log(D(G(z)))\n",
        "                generatorOptimizer.zero_grad()\n",
        "                # ones because generator wants to generate \"real\" images\n",
        "                fake_labels = torch.ones(x.shape[0]).to(device)\n",
        "                fake_preds = discriminator(fake_images, y)\n",
        "                generatorLoss = criterion(fake_preds, fake_labels)\n",
        "                generatorLoss.backward()\n",
        "                generatorOptimizer.step()\n",
        "\n",
        "                if i % 100 == 0:\n",
        "                  print(f\"Epoch: {epoch}, Generator Loss: {generatorLoss.item()}\")\n",
        "                epoch_generator_loss += generatorLoss.item()\n",
        "\n",
        "            generator_losses.append(epoch_generator_loss / len(data))\n",
        "            discriminator_losses.append(epoch_discriminator_loss / len(data))\n",
        "    except KeyboardInterrupt:\n",
        "        print(\"Exiting...\")\n",
        "    return generator_losses, discriminator_losses"
      ],
      "metadata": {
        "id": "Hn69Y3_30sZE"
      },
      "execution_count": 30,
      "outputs": []
    },
    {
      "cell_type": "code",
      "source": [
        "dcgan_train(discriminator, generator, fashion_mnist_data, 5)"
      ],
      "metadata": {
        "colab": {
          "base_uri": "https://localhost:8080/",
          "height": 942,
          "referenced_widgets": [
            "65fddf8c463f4062acab0db5b5cc386e",
            "4d8823ee3dea40b89dc4483e095557fa",
            "20f3e97dc202422282d75ae82fd4ae0f",
            "9376a0cbb7fa4519ac88622c4876ac5c",
            "3a4647900c1d4ab59e90d9702b7fce1b",
            "8d681da84d5c4a1091204bc003f601b5",
            "433e22695c2e4278958dff79b9a11236",
            "a3183d1180b545aeb2e4fa0bb6439cd0",
            "49cccf203a954fd5a1b8e7eb6f3b475c",
            "1f54c44eb4af44caae559c8a65f3498f",
            "b8e34335569246ed87553c9c0d9ab6bb"
          ]
        },
        "id": "LaAibzJb4YKg",
        "outputId": "742e3e35-ab21-4531-997f-8eab4bf6da74"
      },
      "execution_count": 29,
      "outputs": [
        {
          "output_type": "display_data",
          "data": {
            "text/plain": [
              "  0%|          | 0/5 [00:00<?, ?it/s]"
            ],
            "application/vnd.jupyter.widget-view+json": {
              "version_major": 2,
              "version_minor": 0,
              "model_id": "65fddf8c463f4062acab0db5b5cc386e"
            }
          },
          "metadata": {}
        },
        {
          "output_type": "stream",
          "name": "stdout",
          "text": [
            "Epoch: 0, Discriminator Loss: 1.8607463836669922\n",
            "Epoch: 0, Generator Loss: 3.5238800048828125\n",
            "Epoch: 0, Discriminator Loss: 1.0886633396148682\n",
            "Epoch: 0, Generator Loss: 1.4305453300476074\n",
            "Epoch: 0, Discriminator Loss: 0.8703469634056091\n",
            "Epoch: 0, Generator Loss: 2.4266200065612793\n",
            "Epoch: 0, Discriminator Loss: 0.9699304103851318\n",
            "Epoch: 0, Generator Loss: 1.5857411623001099\n",
            "Epoch: 0, Discriminator Loss: 0.8238922357559204\n",
            "Epoch: 0, Generator Loss: 3.0079731941223145\n",
            "Epoch: 1, Discriminator Loss: 0.7557032108306885\n",
            "Epoch: 1, Generator Loss: 2.6999480724334717\n",
            "Epoch: 1, Discriminator Loss: 0.7438527345657349\n",
            "Epoch: 1, Generator Loss: 2.0464277267456055\n",
            "Epoch: 1, Discriminator Loss: 0.7675840258598328\n",
            "Epoch: 1, Generator Loss: 1.6041362285614014\n",
            "Epoch: 1, Discriminator Loss: 0.9978684186935425\n",
            "Epoch: 1, Generator Loss: 1.841173768043518\n",
            "Epoch: 1, Discriminator Loss: 0.7160906791687012\n",
            "Epoch: 1, Generator Loss: 2.6581783294677734\n",
            "Epoch: 2, Discriminator Loss: 0.690212607383728\n",
            "Epoch: 2, Generator Loss: 2.5883870124816895\n",
            "Epoch: 2, Discriminator Loss: 0.911387026309967\n",
            "Epoch: 2, Generator Loss: 2.673961639404297\n",
            "Epoch: 2, Discriminator Loss: 0.8812166452407837\n",
            "Epoch: 2, Generator Loss: 1.8104052543640137\n",
            "Epoch: 2, Discriminator Loss: 0.8134146332740784\n",
            "Epoch: 2, Generator Loss: 2.2489378452301025\n",
            "Epoch: 2, Discriminator Loss: 0.5861489772796631\n",
            "Epoch: 2, Generator Loss: 2.605318784713745\n",
            "Epoch: 3, Discriminator Loss: 0.4004786014556885\n",
            "Epoch: 3, Generator Loss: 3.0144870281219482\n",
            "Epoch: 3, Discriminator Loss: 0.7864896059036255\n",
            "Epoch: 3, Generator Loss: 2.9990458488464355\n",
            "Epoch: 3, Discriminator Loss: 1.4659234285354614\n",
            "Epoch: 3, Generator Loss: 1.9750089645385742\n",
            "Epoch: 3, Discriminator Loss: 0.1480182707309723\n",
            "Epoch: 3, Generator Loss: 3.649109125137329\n",
            "Epoch: 3, Discriminator Loss: 0.25200819969177246\n",
            "Epoch: 3, Generator Loss: 2.699519395828247\n",
            "Epoch: 4, Discriminator Loss: 1.576591968536377\n",
            "Epoch: 4, Generator Loss: 3.146669387817383\n",
            "Epoch: 4, Discriminator Loss: 0.09546896815299988\n",
            "Epoch: 4, Generator Loss: 3.9540905952453613\n",
            "Epoch: 4, Discriminator Loss: 1.3852088451385498\n",
            "Epoch: 4, Generator Loss: 3.565959930419922\n",
            "Epoch: 4, Discriminator Loss: 0.1677057445049286\n",
            "Epoch: 4, Generator Loss: 4.050991535186768\n",
            "Epoch: 4, Discriminator Loss: 0.07826219499111176\n",
            "Epoch: 4, Generator Loss: 3.8030176162719727\n"
          ]
        }
      ]
    },
    {
      "cell_type": "code",
      "source": [
        "def inference(generator, latent_dims, label):\n",
        "    z = torch.randn(1, latent_dims, 1, 1, device=device)\n",
        "    one_hot_label = F.one_hot(torch.tensor([label]), num_classes=10).to(device).float()\n",
        "    generated_image = generator(z, one_hot_label)\n",
        "    plt.imshow(generated_image.cpu().detach().numpy().reshape(64, 64), cmap='gray')\n",
        "    plt.show()\n",
        "\n",
        "inference(generator, latent_dims, 0)\n",
        "inference(generator, latent_dims, 3)"
      ],
      "metadata": {
        "colab": {
          "base_uri": "https://localhost:8080/",
          "height": 847
        },
        "id": "utetmaHY7c7Z",
        "outputId": "35893ade-dce5-4c0a-acc7-f77a5cdb6bef"
      },
      "execution_count": 19,
      "outputs": [
        {
          "output_type": "display_data",
          "data": {
            "text/plain": [
              "<Figure size 640x480 with 1 Axes>"
            ],
            "image/png": "[encoded data removed]"
          },
          "metadata": {}
        },
        {
          "output_type": "display_data",
          "data": {
            "text/plain": [
              "<Figure size 640x480 with 1 Axes>"
            ],
            "image/png": "[encoded data removed]"
          },
          "metadata": {}
        }
      ]
    },
    {
      "cell_type": "code",
      "source": [
        "from torch import nn\n",
        "\n",
        "latent_dims = 100\n",
        "\n",
        "class DCGANGenerator(nn.Module):\n",
        "    def __init__(self, base_filter_count):\n",
        "        super().__init__()\n",
        "        self.layers = nn.Sequential(\n",
        "            # +10 for label information (conditional GAN)\n",
        "            nn.ConvTranspose2d(latent_dims + 10, base_filter_count*8, 4, 1, 0, bias=False),\n",
        "            nn.BatchNorm2d(base_filter_count*8),\n",
        "            nn.ReLU(True),\n",
        "\n",
        "            nn.ConvTranspose2d(base_filter_count*8, base_filter_count*4, 4, 2, 1, bias=False),\n",
        "            nn.BatchNorm2d(base_filter_count*4),\n",
        "            nn.ReLU(True),\n",
        "\n",
        "            nn.ConvTranspose2d(base_filter_count*4, base_filter_count*2, 4, 2, 1, bias=False),\n",
        "            nn.BatchNorm2d(base_filter_count*2),\n",
        "            nn.ReLU(True),\n",
        "\n",
        "            nn.ConvTranspose2d(base_filter_count*2, base_filter_count, 4, 2, 1, bias=False),\n",
        "            nn.BatchNorm2d(base_filter_count),\n",
        "            nn.ReLU(True),\n",
        "\n",
        "            nn.ConvTranspose2d(base_filter_count, 1, 4, 2, 1, bias=False),\n",
        "            nn.Tanh()\n",
        "        )\n",
        "\n",
        "    def forward(self, x, labels):\n",
        "        labels = labels.unsqueeze(-1).unsqueeze(-1)\n",
        "        labels = labels.repeat(1, 1, x.shape[2], x.shape[3])\n",
        "        x = torch.cat((x, labels), dim=1)\n",
        "        return self.layers(x)\n",
        "\n",
        "class DCGANDiscriminator(nn.Module):\n",
        "    def __init__(self, base_filter_count):\n",
        "        super().__init__()\n",
        "        self.layers = nn.Sequential(\n",
        "            nn.Conv2d(1 + 10, base_filter_count, 4, 2, 1, bias=False),\n",
        "            nn.LeakyReLU(0.2, inplace=True),\n",
        "\n",
        "            nn.Conv2d(base_filter_count, base_filter_count * 2, 4, 2, 1, bias=False),\n",
        "            nn.BatchNorm2d(base_filter_count * 2),\n",
        "            nn.LeakyReLU(0.2, inplace=True),\n",
        "\n",
        "            nn.Conv2d(base_filter_count * 2, base_filter_count * 4, 4, 2, 1, bias=False),\n",
        "            nn.BatchNorm2d(base_filter_count * 4),\n",
        "            nn.LeakyReLU(0.2, inplace=True),\n",
        "\n",
        "            nn.Conv2d(base_filter_count * 4, base_filter_count * 8, 4, 2, 1, bias=False),\n",
        "            nn.BatchNorm2d(base_filter_count * 8),\n",
        "            nn.LeakyReLU(0.2, inplace=True),\n",
        "\n",
        "            nn.Conv2d(base_filter_count * 8, 1, 4, 1, 0, bias=False),\n",
        "            nn.Sigmoid()\n",
        "        )\n",
        "\n",
        "    def forward(self, x, labels):\n",
        "        labels = labels.unsqueeze(-1).unsqueeze(-1)\n",
        "        labels = labels.repeat(1, 1, x.shape[2], x.shape[3])\n",
        "        x = torch.cat((x, labels), dim=1)\n",
        "        return self.layers(x).view(-1, 1).squeeze(1)\n",
        "\n"
      ],
      "metadata": {
        "id": "4xZ25O1OJPvQ"
      },
      "execution_count": 28,
      "outputs": []
    },
    {
      "cell_type": "code",
      "source": [
        "generator = DCGANGenerator(base_filter_count=64).to(device)\n",
        "generator.apply(weight_initialization)\n",
        "\n",
        "discriminator = DCGANDiscriminator(base_filter_count=64).to(device)\n",
        "discriminator.apply(weight_initialization)\n",
        "\n",
        "dcganA_generator_losses, dcganA_discriminator_losses = dcgan_train(discriminator, generator, fashion_mnist_data, 5)\n",
        "\n",
        "torch.save(generator.state_dict(), 'dcgan_A_generator.pth')"
      ],
      "metadata": {
        "colab": {
          "base_uri": "https://localhost:8080/",
          "height": 942,
          "referenced_widgets": [
            "177ac48566984ae38381d93f360a4eb7",
            "7ac37cf4566a4a1abd8fad4cec106acb",
            "536ffb28a1574fd4a4913a4bf9ceaebf",
            "9662c0b4648c4943b1b4e2fd05a80969",
            "d75cc202744740f3866d1637026b7748",
            "ffdda9ea81fb4cdca9a7cd0f2b615d75",
            "e079f9819f674fc5b89c15cb8fa108a6",
            "804870c549b54bbf9cf9726b9ee7641d",
            "970533688c9b4084b477c604358bb633",
            "c0228e6b6d1945b6869567d03119f768",
            "30f7c695952c481f8026364bdf96896d"
          ]
        },
        "id": "0or824AbX7ns",
        "outputId": "093c7f25-7d34-4dac-b825-121e09763b05"
      },
      "execution_count": 33,
      "outputs": [
        {
          "output_type": "display_data",
          "data": {
            "text/plain": [
              "  0%|          | 0/5 [00:00<?, ?it/s]"
            ],
            "application/vnd.jupyter.widget-view+json": {
              "version_major": 2,
              "version_minor": 0,
              "model_id": "177ac48566984ae38381d93f360a4eb7"
            }
          },
          "metadata": {}
        },
        {
          "output_type": "stream",
          "name": "stdout",
          "text": [
            "Epoch: 0, Discriminator Loss: 1.8076808452606201\n",
            "Epoch: 0, Generator Loss: 1.120621681213379\n",
            "Epoch: 0, Discriminator Loss: 1.3552607297897339\n",
            "Epoch: 0, Generator Loss: 5.92374324798584\n",
            "Epoch: 0, Discriminator Loss: 1.7703959941864014\n",
            "Epoch: 0, Generator Loss: 1.2402763366699219\n",
            "Epoch: 0, Discriminator Loss: 0.9704018831253052\n",
            "Epoch: 0, Generator Loss: 3.3119871616363525\n",
            "Epoch: 0, Discriminator Loss: 0.8477067947387695\n",
            "Epoch: 0, Generator Loss: 3.1086947917938232\n",
            "Epoch: 1, Discriminator Loss: 0.8371939659118652\n",
            "Epoch: 1, Generator Loss: 1.9637832641601562\n",
            "Epoch: 1, Discriminator Loss: 0.9715927243232727\n",
            "Epoch: 1, Generator Loss: 1.8034610748291016\n",
            "Epoch: 1, Discriminator Loss: 0.7473317384719849\n",
            "Epoch: 1, Generator Loss: 2.122248888015747\n",
            "Epoch: 1, Discriminator Loss: 0.7649606466293335\n",
            "Epoch: 1, Generator Loss: 3.0818495750427246\n",
            "Epoch: 1, Discriminator Loss: 0.7724745273590088\n",
            "Epoch: 1, Generator Loss: 2.417386531829834\n",
            "Epoch: 2, Discriminator Loss: 0.8500264286994934\n",
            "Epoch: 2, Generator Loss: 3.7250771522521973\n",
            "Epoch: 2, Discriminator Loss: 0.547360360622406\n",
            "Epoch: 2, Generator Loss: 2.5448122024536133\n",
            "Epoch: 2, Discriminator Loss: 0.8996179699897766\n",
            "Epoch: 2, Generator Loss: 2.8086299896240234\n",
            "Epoch: 2, Discriminator Loss: 0.7097563743591309\n",
            "Epoch: 2, Generator Loss: 3.6669528484344482\n",
            "Epoch: 2, Discriminator Loss: 0.5347488522529602\n",
            "Epoch: 2, Generator Loss: 2.5457653999328613\n",
            "Epoch: 3, Discriminator Loss: 0.36734676361083984\n",
            "Epoch: 3, Generator Loss: 4.584697723388672\n",
            "Epoch: 3, Discriminator Loss: 0.2855464518070221\n",
            "Epoch: 3, Generator Loss: 3.2077383995056152\n",
            "Epoch: 3, Discriminator Loss: 0.2829817533493042\n",
            "Epoch: 3, Generator Loss: 2.635880470275879\n",
            "Epoch: 3, Discriminator Loss: 0.14030906558036804\n",
            "Epoch: 3, Generator Loss: 4.0874409675598145\n",
            "Epoch: 3, Discriminator Loss: 0.36383914947509766\n",
            "Epoch: 3, Generator Loss: 3.349923610687256\n",
            "Epoch: 4, Discriminator Loss: 0.5642678141593933\n",
            "Epoch: 4, Generator Loss: 3.480167865753174\n",
            "Epoch: 4, Discriminator Loss: 0.10773852467536926\n",
            "Epoch: 4, Generator Loss: 3.9287776947021484\n",
            "Epoch: 4, Discriminator Loss: 0.908189058303833\n",
            "Epoch: 4, Generator Loss: 2.1079249382019043\n",
            "Epoch: 4, Discriminator Loss: 0.1367560625076294\n",
            "Epoch: 4, Generator Loss: 3.625218391418457\n",
            "Epoch: 4, Discriminator Loss: 0.07783578336238861\n",
            "Epoch: 4, Generator Loss: 4.154469013214111\n"
          ]
        }
      ]
    },
    {
      "cell_type": "code",
      "source": [
        "generator = DCGANGenerator(base_filter_count=32).to(device)\n",
        "generator.apply(weight_initialization)\n",
        "\n",
        "discriminator = DCGANDiscriminator(base_filter_count=32).to(device)\n",
        "discriminator.apply(weight_initialization)\n",
        "\n",
        "dcganB_generator_losses, dcganB_discriminator_losses = dcgan_train(discriminator, generator, fashion_mnist_data, 5)\n",
        "\n",
        "torch.save(generator.state_dict(), 'dcgan_B_generator.pth')"
      ],
      "metadata": {
        "colab": {
          "base_uri": "https://localhost:8080/",
          "height": 942,
          "referenced_widgets": [
            "3f82a6dcb9014c6bb03a0f7138698742",
            "3af88a9a0e9d4d7c94c52ce97e664e46",
            "b6aafd5f19ca4cc0b79e2967201404eb",
            "8de014b4a8a44d239e174b7e9a7883d5",
            "ed5889e54c23471e8a009d7dede04ce2",
            "b1ce0f9ce72e49d2b476a81ca3cfffdd",
            "2de8be1265994a9fb43f6dc0260e2450",
            "6ca32a28c69f4c99a68090ed50959120",
            "531f98b637094e27a530db3ee2539ec1",
            "31a9f9b236d14c4f973e2c4d876c58f4",
            "60b4539388c7499e85a0ad6ffde2035f"
          ]
        },
        "id": "6e6-phvNX_KR",
        "outputId": "2e198c21-42a4-4ada-a238-93b2b4e1921b"
      },
      "execution_count": 34,
      "outputs": [
        {
          "output_type": "display_data",
          "data": {
            "text/plain": [
              "  0%|          | 0/5 [00:00<?, ?it/s]"
            ],
            "application/vnd.jupyter.widget-view+json": {
              "version_major": 2,
              "version_minor": 0,
              "model_id": "3f82a6dcb9014c6bb03a0f7138698742"
            }
          },
          "metadata": {}
        },
        {
          "output_type": "stream",
          "name": "stdout",
          "text": [
            "Epoch: 0, Discriminator Loss: 1.604900598526001\n",
            "Epoch: 0, Generator Loss: 0.9963231086730957\n",
            "Epoch: 0, Discriminator Loss: 0.4125259518623352\n",
            "Epoch: 0, Generator Loss: 2.567887783050537\n",
            "Epoch: 0, Discriminator Loss: 0.48625749349594116\n",
            "Epoch: 0, Generator Loss: 2.6301357746124268\n",
            "Epoch: 0, Discriminator Loss: 0.6870574355125427\n",
            "Epoch: 0, Generator Loss: 2.520141124725342\n",
            "Epoch: 0, Discriminator Loss: 0.7611772418022156\n",
            "Epoch: 0, Generator Loss: 2.323683261871338\n",
            "Epoch: 1, Discriminator Loss: 0.7192952632904053\n",
            "Epoch: 1, Generator Loss: 1.813262939453125\n",
            "Epoch: 1, Discriminator Loss: 0.9092075228691101\n",
            "Epoch: 1, Generator Loss: 2.089275598526001\n",
            "Epoch: 1, Discriminator Loss: 1.1373342275619507\n",
            "Epoch: 1, Generator Loss: 3.360884666442871\n",
            "Epoch: 1, Discriminator Loss: 0.8190151453018188\n",
            "Epoch: 1, Generator Loss: 1.83290433883667\n",
            "Epoch: 1, Discriminator Loss: 0.885334849357605\n",
            "Epoch: 1, Generator Loss: 1.6953948736190796\n",
            "Epoch: 2, Discriminator Loss: 0.7690562009811401\n",
            "Epoch: 2, Generator Loss: 1.492484450340271\n",
            "Epoch: 2, Discriminator Loss: 0.8937618732452393\n",
            "Epoch: 2, Generator Loss: 1.4514176845550537\n",
            "Epoch: 2, Discriminator Loss: 0.9989942312240601\n",
            "Epoch: 2, Generator Loss: 2.5563268661499023\n",
            "Epoch: 2, Discriminator Loss: 0.6863404512405396\n",
            "Epoch: 2, Generator Loss: 1.3918055295944214\n",
            "Epoch: 2, Discriminator Loss: 0.7207954525947571\n",
            "Epoch: 2, Generator Loss: 3.080256462097168\n",
            "Epoch: 3, Discriminator Loss: 0.5355494618415833\n",
            "Epoch: 3, Generator Loss: 1.667000651359558\n",
            "Epoch: 3, Discriminator Loss: 0.3971785008907318\n",
            "Epoch: 3, Generator Loss: 2.6308863162994385\n",
            "Epoch: 3, Discriminator Loss: 0.2901664078235626\n",
            "Epoch: 3, Generator Loss: 2.7031965255737305\n",
            "Epoch: 3, Discriminator Loss: 0.4507980942726135\n",
            "Epoch: 3, Generator Loss: 4.68471097946167\n",
            "Epoch: 3, Discriminator Loss: 0.16533437371253967\n",
            "Epoch: 3, Generator Loss: 3.3575167655944824\n",
            "Epoch: 4, Discriminator Loss: 0.2552676200866699\n",
            "Epoch: 4, Generator Loss: 2.9137840270996094\n",
            "Epoch: 4, Discriminator Loss: 0.15228775143623352\n",
            "Epoch: 4, Generator Loss: 3.7809629440307617\n",
            "Epoch: 4, Discriminator Loss: 0.20723210275173187\n",
            "Epoch: 4, Generator Loss: 3.2518985271453857\n",
            "Epoch: 4, Discriminator Loss: 0.11245448887348175\n",
            "Epoch: 4, Generator Loss: 3.358579635620117\n",
            "Epoch: 4, Discriminator Loss: 0.660905122756958\n",
            "Epoch: 4, Generator Loss: 3.1704132556915283\n"
          ]
        }
      ]
    },
    {
      "cell_type": "code",
      "source": [
        "from functools import total_ordering\n",
        "from tqdm.notebook import tqdm\n",
        "\n",
        "def wgan_train(discriminator, generator, data, epochs):\n",
        "    discriminatorOptimizer = torch.optim.RMSprop(discriminator.parameters(), lr=2e-4)\n",
        "    generatorOptimizer = torch.optim.RMSprop(generator.parameters(), lr=2e-4)\n",
        "\n",
        "    wc_limit = 0.01\n",
        "\n",
        "    generator_losses = []\n",
        "    discriminator_losses = []\n",
        "\n",
        "    try:\n",
        "        for epoch in tqdm(range(epochs)):\n",
        "            epoch_generator_loss = 0\n",
        "            epoch_discriminator_loss = 0\n",
        "            for i, (x, y) in enumerate(data):\n",
        "                # update discriminator\n",
        "                # maximize log(D(x)) + log(1 - D(G(z)))\n",
        "                x = x.to(device)\n",
        "                y = F.one_hot(y, num_classes=10).to(device).float()\n",
        "                discriminatorOptimizer.zero_grad()\n",
        "\n",
        "                for p in discriminator.parameters():\n",
        "                    p.data.clamp_(-wc_limit, wc_limit)\n",
        "\n",
        "                real_preds = discriminator(x, y)\n",
        "                real_loss = -torch.mean(real_preds)\n",
        "                real_loss.backward()\n",
        "\n",
        "                noise = torch.randn(x.shape[0], latent_dims, 1, 1, device=device)\n",
        "                fake_images = generator(noise, y)\n",
        "                fake_preds = discriminator(fake_images.detach(), y)\n",
        "                fake_loss = torch.mean(fake_preds)\n",
        "                fake_loss.backward()\n",
        "                total_loss = real_loss + fake_loss\n",
        "\n",
        "                discriminatorOptimizer.step()\n",
        "\n",
        "                if i % 100 == 0:\n",
        "                  print(f\"Epoch: {epoch}, Discriminator Loss: {total_loss.item()}\")\n",
        "                epoch_discriminator_loss += total_loss.item()\n",
        "\n",
        "                # update generator\n",
        "                # maximize log(D(G(z)))\n",
        "                generatorOptimizer.zero_grad()\n",
        "                # ones because generator wants to generate \"real\" images\n",
        "                fake_preds = discriminator(fake_images, y)\n",
        "                generatorLoss = -torch.mean(fake_preds)\n",
        "                generatorLoss.backward()\n",
        "                generatorOptimizer.step()\n",
        "\n",
        "                if i % 100 == 0:\n",
        "                  print(f\"Epoch: {epoch}, Generator Loss: {generatorLoss.item()}\")\n",
        "                epoch_generator_loss += generatorLoss.item()\n",
        "\n",
        "            generator_losses.append(epoch_generator_loss / len(data))\n",
        "            discriminator_losses.append(epoch_discriminator_loss / len(data))\n",
        "    except KeyboardInterrupt:\n",
        "        print(\"Exiting...\")\n",
        "    return generator_losses, discriminator_losses"
      ],
      "metadata": {
        "id": "Fl77vuE6P3vO"
      },
      "execution_count": 35,
      "outputs": []
    },
    {
      "cell_type": "code",
      "source": [
        "from torch import nn\n",
        "\n",
        "latent_dims = 100\n",
        "\n",
        "class WGANGenerator(nn.Module):\n",
        "    def __init__(self, base_filter_count):\n",
        "        super().__init__()\n",
        "        self.layers = nn.Sequential(\n",
        "            # +10 for label information (conditional GAN)\n",
        "            nn.ConvTranspose2d(latent_dims + 10, base_filter_count*8, 4, 1, 0, bias=False),\n",
        "            nn.BatchNorm2d(base_filter_count*8),\n",
        "            nn.ReLU(True),\n",
        "\n",
        "            nn.ConvTranspose2d(base_filter_count*8, base_filter_count*4, 4, 2, 1, bias=False),\n",
        "            nn.BatchNorm2d(base_filter_count*4),\n",
        "            nn.ReLU(True),\n",
        "\n",
        "            nn.ConvTranspose2d(base_filter_count*4, base_filter_count*2, 4, 2, 1, bias=False),\n",
        "            nn.BatchNorm2d(base_filter_count*2),\n",
        "            nn.ReLU(True),\n",
        "\n",
        "            nn.ConvTranspose2d(base_filter_count*2, base_filter_count, 4, 2, 1, bias=False),\n",
        "            nn.BatchNorm2d(base_filter_count),\n",
        "            nn.ReLU(True),\n",
        "\n",
        "            nn.ConvTranspose2d(base_filter_count, 1, 4, 2, 1, bias=False),\n",
        "            nn.Tanh()\n",
        "        )\n",
        "\n",
        "    def forward(self, x, labels):\n",
        "        labels = labels.unsqueeze(-1).unsqueeze(-1)\n",
        "        labels = labels.repeat(1, 1, x.shape[2], x.shape[3])\n",
        "        x = torch.cat((x, labels), dim=1)\n",
        "        return self.layers(x)\n",
        "\n",
        "class WGANDiscriminator(nn.Module):\n",
        "    def __init__(self, base_filter_count):\n",
        "        super().__init__()\n",
        "        self.layers = nn.Sequential(\n",
        "            nn.Conv2d(1 + 10, base_filter_count, 4, 2, 1, bias=False),\n",
        "            nn.LeakyReLU(0.2, inplace=True),\n",
        "\n",
        "            nn.Conv2d(base_filter_count, base_filter_count * 2, 4, 2, 1, bias=False),\n",
        "            nn.BatchNorm2d(base_filter_count * 2),\n",
        "            nn.LeakyReLU(0.2, inplace=True),\n",
        "\n",
        "            nn.Conv2d(base_filter_count * 2, base_filter_count * 4, 4, 2, 1, bias=False),\n",
        "            nn.BatchNorm2d(base_filter_count * 4),\n",
        "            nn.LeakyReLU(0.2, inplace=True),\n",
        "\n",
        "            nn.Conv2d(base_filter_count * 4, base_filter_count * 8, 4, 2, 1, bias=False),\n",
        "            nn.BatchNorm2d(base_filter_count * 8),\n",
        "            nn.LeakyReLU(0.2, inplace=True),\n",
        "\n",
        "            nn.Conv2d(base_filter_count * 8, 1, 4, 1, 0, bias=False),\n",
        "        )\n",
        "\n",
        "    def forward(self, x, labels):\n",
        "        labels = labels.unsqueeze(-1).unsqueeze(-1)\n",
        "        labels = labels.repeat(1, 1, x.shape[2], x.shape[3])\n",
        "        x = torch.cat((x, labels), dim=1)\n",
        "        return self.layers(x).view(-1, 1).squeeze(1)\n"
      ],
      "metadata": {
        "id": "cPIg1NjYOaZr"
      },
      "execution_count": 36,
      "outputs": []
    },
    {
      "cell_type": "code",
      "source": [
        "generator = WGANGenerator(base_filter_count=64).to(device)\n",
        "generator.apply(weight_initialization)\n",
        "\n",
        "discriminator = WGANDiscriminator(base_filter_count=64).to(device)\n",
        "discriminator.apply(weight_initialization)\n",
        "\n",
        "wganA_generator_losses, wganA_discriminator_losses = wgan_train(discriminator, generator, fashion_mnist_data, 5)\n",
        "\n",
        "torch.save(generator.state_dict(), 'wgan_A_generator.pth')"
      ],
      "metadata": {
        "colab": {
          "base_uri": "https://localhost:8080/",
          "height": 942,
          "referenced_widgets": [
            "e6d77260f0134f73b5e1bed768b6e026",
            "619faff8d59441cd9b18ac4334cdd3b6",
            "6c4105294f7f4fefbc8b682c8d5f9737",
            "b7a49822fcf44ee78a3172bfd044b9ee",
            "9fe4ff97c05748cabbea8d166913baef",
            "469bc900a72144e4b691b3759d71d61b",
            "7bcf6fc109df4c63b8f4f22b22bdac00",
            "eecba428a2a541d2ae4cbed9137e5852",
            "a573577a543e41689208f85fe82c8ef2",
            "19cdf0bea1714e3baf68db0ec07f6f72",
            "857fefd6441d4ddfabb5ed214e9873c8"
          ]
        },
        "id": "4BYXvdgYQROe",
        "outputId": "c6560b1f-3810-4da7-c029-af1aac581e42"
      },
      "execution_count": 37,
      "outputs": [
        {
          "output_type": "display_data",
          "data": {
            "text/plain": [
              "  0%|          | 0/5 [00:00<?, ?it/s]"
            ],
            "application/vnd.jupyter.widget-view+json": {
              "version_major": 2,
              "version_minor": 0,
              "model_id": "e6d77260f0134f73b5e1bed768b6e026"
            }
          },
          "metadata": {}
        },
        {
          "output_type": "stream",
          "name": "stdout",
          "text": [
            "Epoch: 0, Discriminator Loss: -0.0004281827714294195\n",
            "Epoch: 0, Generator Loss: -0.0021037710830569267\n",
            "Epoch: 0, Discriminator Loss: -0.0326559841632843\n",
            "Epoch: 0, Generator Loss: 0.2067558616399765\n",
            "Epoch: 0, Discriminator Loss: -0.1528545320034027\n",
            "Epoch: 0, Generator Loss: 0.3812074065208435\n",
            "Epoch: 0, Discriminator Loss: -0.1527366191148758\n",
            "Epoch: 0, Generator Loss: 0.2865220308303833\n",
            "Epoch: 0, Discriminator Loss: -0.17547784745693207\n",
            "Epoch: 0, Generator Loss: 0.3609451949596405\n",
            "Epoch: 1, Discriminator Loss: -0.12536509335041046\n",
            "Epoch: 1, Generator Loss: 0.2893705368041992\n",
            "Epoch: 1, Discriminator Loss: -0.31871476769447327\n",
            "Epoch: 1, Generator Loss: 0.02143789641559124\n",
            "Epoch: 1, Discriminator Loss: -0.3277653753757477\n",
            "Epoch: 1, Generator Loss: 0.46330541372299194\n",
            "Epoch: 1, Discriminator Loss: -0.3910967707633972\n",
            "Epoch: 1, Generator Loss: 0.0307651087641716\n",
            "Epoch: 1, Discriminator Loss: -0.46974074840545654\n",
            "Epoch: 1, Generator Loss: 0.06111019849777222\n",
            "Epoch: 2, Discriminator Loss: -0.3665789067745209\n",
            "Epoch: 2, Generator Loss: 0.4739973545074463\n",
            "Epoch: 2, Discriminator Loss: -0.45114800333976746\n",
            "Epoch: 2, Generator Loss: 0.5247005820274353\n",
            "Epoch: 2, Discriminator Loss: -0.3546963036060333\n",
            "Epoch: 2, Generator Loss: 0.4881440997123718\n",
            "Epoch: 2, Discriminator Loss: -0.4831872284412384\n",
            "Epoch: 2, Generator Loss: 0.4834105372428894\n",
            "Epoch: 2, Discriminator Loss: -0.3832286298274994\n",
            "Epoch: 2, Generator Loss: 0.4927575886249542\n",
            "Epoch: 3, Discriminator Loss: -0.38084331154823303\n",
            "Epoch: 3, Generator Loss: 0.5257574319839478\n",
            "Epoch: 3, Discriminator Loss: -0.3522462844848633\n",
            "Epoch: 3, Generator Loss: 0.4752638041973114\n",
            "Epoch: 3, Discriminator Loss: -0.4980804920196533\n",
            "Epoch: 3, Generator Loss: 0.45354440808296204\n",
            "Epoch: 3, Discriminator Loss: -0.3747684359550476\n",
            "Epoch: 3, Generator Loss: 0.14005735516548157\n",
            "Epoch: 3, Discriminator Loss: -0.40628042817115784\n",
            "Epoch: 3, Generator Loss: 0.11463932693004608\n",
            "Epoch: 4, Discriminator Loss: -0.4254409670829773\n",
            "Epoch: 4, Generator Loss: 0.49525803327560425\n",
            "Epoch: 4, Discriminator Loss: -0.39876848459243774\n",
            "Epoch: 4, Generator Loss: 0.49105310440063477\n",
            "Epoch: 4, Discriminator Loss: -0.5419806241989136\n",
            "Epoch: 4, Generator Loss: 0.5571913719177246\n",
            "Epoch: 4, Discriminator Loss: -0.3936139941215515\n",
            "Epoch: 4, Generator Loss: 0.5181457996368408\n",
            "Epoch: 4, Discriminator Loss: -0.4077399969100952\n",
            "Epoch: 4, Generator Loss: 0.5227001905441284\n"
          ]
        }
      ]
    },
    {
      "cell_type": "code",
      "source": [
        "generator = WGANGenerator(base_filter_count=64).to(device)\n",
        "generator.load_state_dict(torch.load('wgan_A_generator.pth'))\n",
        "\n",
        "inference(generator, latent_dims, 0)\n",
        "inference(generator, latent_dims, 3)"
      ],
      "metadata": {
        "colab": {
          "base_uri": "https://localhost:8080/",
          "height": 903
        },
        "id": "4ACMD-u8Uz7X",
        "outputId": "d3c7abdc-a161-40fd-b2aa-7481344d3ba6"
      },
      "execution_count": 38,
      "outputs": [
        {
          "output_type": "stream",
          "name": "stderr",
          "text": [
            "<ipython-input-38-cbfc70a0e4d6>:2: FutureWarning: You are using `torch.load` with `weights_only=False` (the current default value), which uses the default pickle module implicitly. It is possible to construct malicious pickle data which will execute arbitrary code during unpickling (See https://github.com/pytorch/pytorch/blob/main/SECURITY.md#untrusted-models for more details). In a future release, the default value for `weights_only` will be flipped to `True`. This limits the functions that could be executed during unpickling. Arbitrary objects will no longer be allowed to be loaded via this mode unless they are explicitly allowlisted by the user via `torch.serialization.add_safe_globals`. We recommend you start setting `weights_only=True` for any use case where you don't have full control of the loaded file. Please open an issue on GitHub for any issues related to this experimental feature.\n",
            "  generator.load_state_dict(torch.load('wgan_A_generator.pth'))\n"
          ]
        },
        {
          "output_type": "display_data",
          "data": {
            "text/plain": [
              "<Figure size 640x480 with 1 Axes>"
            ],
            "image/png": "[encoded data removed]"
          },
          "metadata": {}
        },
        {
          "output_type": "display_data",
          "data": {
            "text/plain": [
              "<Figure size 640x480 with 1 Axes>"
            ],
            "image/png": "[encoded data removed]"
          },
          "metadata": {}
        }
      ]
    },
    {
      "cell_type": "code",
      "source": [
        "generator = WGANGenerator(base_filter_count=32).to(device)\n",
        "generator.apply(weight_initialization)\n",
        "\n",
        "discriminator = WGANDiscriminator(base_filter_count=32).to(device)\n",
        "discriminator.apply(weight_initialization)\n",
        "\n",
        "wganB_generator_losses, wganB_discriminator_losses = wgan_train(discriminator, generator, fashion_mnist_data, 5)\n",
        "\n",
        "torch.save(generator.state_dict(), 'wgan_B_generator.pth')"
      ],
      "metadata": {
        "colab": {
          "base_uri": "https://localhost:8080/",
          "height": 942,
          "referenced_widgets": [
            "d53eab56a78e4762858a8218366cf895",
            "358aa005f4364e1eb022a3c87021b104",
            "51b3d5232ce9456ea5ca1b99868b5bef",
            "7759319ca1b9494ab7ef471c41872a7a",
            "e6eef73bef214e8a99338a21ad6f0d28",
            "96f272bb328f48ff89f800941659f7ce",
            "15f5219c3a154a7a8738f82301dad45a",
            "38747cffb5ba42a1a391d7dfc8a29a36",
            "67eecf1a0f484ab8a7939800175d5636",
            "c3c8d9b277c8443db0e3cb702e612773",
            "fe049d859ea84475a2b31d10df178b55"
          ]
        },
        "id": "J9lwuFrPQXdT",
        "outputId": "03425c5c-4f00-46e5-bb91-1fc96b690eb3"
      },
      "execution_count": 39,
      "outputs": [
        {
          "output_type": "display_data",
          "data": {
            "text/plain": [
              "  0%|          | 0/5 [00:00<?, ?it/s]"
            ],
            "application/vnd.jupyter.widget-view+json": {
              "version_major": 2,
              "version_minor": 0,
              "model_id": "d53eab56a78e4762858a8218366cf895"
            }
          },
          "metadata": {}
        },
        {
          "output_type": "stream",
          "name": "stdout",
          "text": [
            "Epoch: 0, Discriminator Loss: 7.583654951304197e-05\n",
            "Epoch: 0, Generator Loss: -0.006070706062018871\n",
            "Epoch: 0, Discriminator Loss: -0.06338338553905487\n",
            "Epoch: 0, Generator Loss: 0.2310732901096344\n",
            "Epoch: 0, Discriminator Loss: -0.0754852145910263\n",
            "Epoch: 0, Generator Loss: -0.07190841436386108\n",
            "Epoch: 0, Discriminator Loss: -0.07611697912216187\n",
            "Epoch: 0, Generator Loss: 0.05768422782421112\n",
            "Epoch: 0, Discriminator Loss: -0.0711202621459961\n",
            "Epoch: 0, Generator Loss: 0.00289367139339447\n",
            "Epoch: 1, Discriminator Loss: -0.05653300881385803\n",
            "Epoch: 1, Generator Loss: 0.0044121635146439075\n",
            "Epoch: 1, Discriminator Loss: -0.04854874312877655\n",
            "Epoch: 1, Generator Loss: 0.1357012391090393\n",
            "Epoch: 1, Discriminator Loss: -0.0722694993019104\n",
            "Epoch: 1, Generator Loss: 0.05131077021360397\n",
            "Epoch: 1, Discriminator Loss: -0.07124476879835129\n",
            "Epoch: 1, Generator Loss: -0.064389169216156\n",
            "Epoch: 1, Discriminator Loss: -0.07366156578063965\n",
            "Epoch: 1, Generator Loss: 0.14607371389865875\n",
            "Epoch: 2, Discriminator Loss: -0.08864684402942657\n",
            "Epoch: 2, Generator Loss: 0.07945936173200607\n",
            "Epoch: 2, Discriminator Loss: -0.08277793973684311\n",
            "Epoch: 2, Generator Loss: 0.011061605997383595\n",
            "Epoch: 2, Discriminator Loss: -0.09682050347328186\n",
            "Epoch: 2, Generator Loss: 0.09091803431510925\n",
            "Epoch: 2, Discriminator Loss: -0.09958050400018692\n",
            "Epoch: 2, Generator Loss: 0.001864720368757844\n",
            "Epoch: 2, Discriminator Loss: -0.0861968994140625\n",
            "Epoch: 2, Generator Loss: 0.21369124948978424\n",
            "Epoch: 3, Discriminator Loss: -0.07939302921295166\n",
            "Epoch: 3, Generator Loss: 0.1645147204399109\n",
            "Epoch: 3, Discriminator Loss: -0.07459310442209244\n",
            "Epoch: 3, Generator Loss: 0.1758604794740677\n",
            "Epoch: 3, Discriminator Loss: -0.10675707459449768\n",
            "Epoch: 3, Generator Loss: 0.22554850578308105\n",
            "Epoch: 3, Discriminator Loss: -0.09807150810956955\n",
            "Epoch: 3, Generator Loss: 0.17783987522125244\n",
            "Epoch: 3, Discriminator Loss: -0.10395471006631851\n",
            "Epoch: 3, Generator Loss: 0.18556614220142365\n",
            "Epoch: 4, Discriminator Loss: -0.11027683317661285\n",
            "Epoch: 4, Generator Loss: -0.044925518333911896\n",
            "Epoch: 4, Discriminator Loss: -0.11904372274875641\n",
            "Epoch: 4, Generator Loss: 0.0007475658785551786\n",
            "Epoch: 4, Discriminator Loss: -0.11075303703546524\n",
            "Epoch: 4, Generator Loss: -0.027407176792621613\n",
            "Epoch: 4, Discriminator Loss: -0.12567630410194397\n",
            "Epoch: 4, Generator Loss: -0.011531537398695946\n",
            "Epoch: 4, Discriminator Loss: -0.1202932596206665\n",
            "Epoch: 4, Generator Loss: -0.0014024400152266026\n"
          ]
        }
      ]
    },
    {
      "cell_type": "code",
      "source": [
        "generator = WGANGenerator(base_filter_count=32).to(device)\n",
        "generator.load_state_dict(torch.load('wgan_B_generator.pth'))\n",
        "\n",
        "inference(generator, latent_dims, 0)\n",
        "inference(generator, latent_dims, 3)"
      ],
      "metadata": {
        "colab": {
          "base_uri": "https://localhost:8080/",
          "height": 903
        },
        "id": "pVa79ZL2QWo8",
        "outputId": "6b333d7e-82de-4dfb-d2c3-b90e0fb47170"
      },
      "execution_count": 40,
      "outputs": [
        {
          "output_type": "stream",
          "name": "stderr",
          "text": [
            "<ipython-input-40-9e877c3e51be>:2: FutureWarning: You are using `torch.load` with `weights_only=False` (the current default value), which uses the default pickle module implicitly. It is possible to construct malicious pickle data which will execute arbitrary code during unpickling (See https://github.com/pytorch/pytorch/blob/main/SECURITY.md#untrusted-models for more details). In a future release, the default value for `weights_only` will be flipped to `True`. This limits the functions that could be executed during unpickling. Arbitrary objects will no longer be allowed to be loaded via this mode unless they are explicitly allowlisted by the user via `torch.serialization.add_safe_globals`. We recommend you start setting `weights_only=True` for any use case where you don't have full control of the loaded file. Please open an issue on GitHub for any issues related to this experimental feature.\n",
            "  generator.load_state_dict(torch.load('wgan_B_generator.pth'))\n"
          ]
        },
        {
          "output_type": "display_data",
          "data": {
            "text/plain": [
              "<Figure size 640x480 with 1 Axes>"
            ],
            "image/png": "[encoded data removed]"
          },
          "metadata": {}
        },
        {
          "output_type": "display_data",
          "data": {
            "text/plain": [
              "<Figure size 640x480 with 1 Axes>"
            ],
            "image/png": "[encoded data removed]"
          },
          "metadata": {}
        }
      ]
    },
    {
      "cell_type": "code",
      "source": [
        "from functools import total_ordering\n",
        "from tqdm.notebook import tqdm\n",
        "\n",
        "def wgangp_train(discriminator, generator, data, epochs):\n",
        "    discriminatorOptimizer = torch.optim.Adam(discriminator.parameters(), lr=2e-4, betas=(0.5, 0.999))\n",
        "    generatorOptimizer = torch.optim.Adam(generator.parameters(), lr=2e-4, betas=(0.5, 0.999))\n",
        "\n",
        "    _lambda = 10\n",
        "\n",
        "    generator_losses = []\n",
        "    discriminator_losses = []\n",
        "\n",
        "    try:\n",
        "        for epoch in tqdm(range(epochs)):\n",
        "            epoch_generator_loss = 0\n",
        "            epoch_discriminator_loss = 0\n",
        "            for i, (x, y) in enumerate(data):\n",
        "                # update discriminator\n",
        "                # maximize log(D(x)) + log(1 - D(G(z)))\n",
        "                x = x.to(device)\n",
        "                y = F.one_hot(y, num_classes=10).to(device).float()\n",
        "                discriminatorOptimizer.zero_grad()\n",
        "                real_preds = discriminator(x, y)\n",
        "                real_loss = -torch.mean(real_preds)\n",
        "                real_loss.backward()\n",
        "\n",
        "                noise = torch.randn(x.shape[0], latent_dims, 1, 1, device=device)\n",
        "                fake_images = generator(noise, y)\n",
        "                fake_preds = discriminator(fake_images.detach(), y)\n",
        "                fake_loss = torch.mean(fake_preds)\n",
        "                fake_loss.backward()\n",
        "                total_loss = real_loss + fake_loss\n",
        "\n",
        "                # gradient penalty\n",
        "                epsilon = torch.rand(x.shape[0], 1, 1, 1, device=device)\n",
        "                interpolated_images = epsilon * x.data + (1 - epsilon) * fake_images.data\n",
        "                interpolated_images = torch.autograd.Variable(interpolated_images, requires_grad=True)\n",
        "                interpolated_preds = discriminator(interpolated_images, y)\n",
        "                gradient = torch.autograd.grad(outputs=interpolated_preds, inputs=interpolated_images,\n",
        "                                              grad_outputs=torch.ones(interpolated_preds.size()).to(device),\n",
        "                                              create_graph=True, retain_graph=True, only_inputs=True)[0]\n",
        "                gradient = gradient.view(x.shape[0], -1)\n",
        "                gradient_norm = torch.norm(gradient, 2, 1)\n",
        "                gradient_penalty = _lambda * torch.mean((gradient_norm - 1) ** 2)\n",
        "                gradient_penalty.backward()\n",
        "                total_loss += gradient_penalty\n",
        "\n",
        "                discriminatorOptimizer.step()\n",
        "\n",
        "                if i % 100 == 0:\n",
        "                  print(f\"Epoch: {epoch}, Discriminator Loss: {total_loss.item()}\")\n",
        "                epoch_discriminator_loss += total_loss.item()\n",
        "\n",
        "                # update generator\n",
        "                # maximize log(D(G(z)))\n",
        "                generatorOptimizer.zero_grad()\n",
        "                # ones because generator wants to generate \"real\" images\n",
        "                fake_preds = discriminator(fake_images, y)\n",
        "                generatorLoss = -torch.mean(fake_preds)\n",
        "                generatorLoss.backward()\n",
        "                generatorOptimizer.step()\n",
        "\n",
        "                if i % 100 == 0:\n",
        "                  print(f\"Epoch: {epoch}, Generator Loss: {generatorLoss.item()}\")\n",
        "                epoch_generator_loss += generatorLoss.item()\n",
        "\n",
        "            generator_losses.append(epoch_generator_loss / len(data))\n",
        "            discriminator_losses.append(epoch_discriminator_loss / len(data))\n",
        "    except KeyboardInterrupt:\n",
        "        print(\"Exiting...\")\n",
        "    return generator_losses, discriminator_losses"
      ],
      "metadata": {
        "id": "hSbO9-ZKY8dx"
      },
      "execution_count": 15,
      "outputs": []
    },
    {
      "cell_type": "code",
      "source": [
        "from torch import nn\n",
        "\n",
        "latent_dims = 100\n",
        "\n",
        "class WGANGPGenerator(nn.Module):\n",
        "    def __init__(self, base_filter_count):\n",
        "        super().__init__()\n",
        "        self.layers = nn.Sequential(\n",
        "            # +10 for label information (conditional GAN)\n",
        "            nn.ConvTranspose2d(latent_dims + 10, base_filter_count*8, 4, 1, 0, bias=False),\n",
        "            nn.BatchNorm2d(base_filter_count*8),\n",
        "            nn.ReLU(True),\n",
        "\n",
        "            nn.ConvTranspose2d(base_filter_count*8, base_filter_count*4, 4, 2, 1, bias=False),\n",
        "            nn.BatchNorm2d(base_filter_count*4),\n",
        "            nn.ReLU(True),\n",
        "\n",
        "            nn.ConvTranspose2d(base_filter_count*4, base_filter_count*2, 4, 2, 1, bias=False),\n",
        "            nn.BatchNorm2d(base_filter_count*2),\n",
        "            nn.ReLU(True),\n",
        "\n",
        "            nn.ConvTranspose2d(base_filter_count*2, base_filter_count, 4, 2, 1, bias=False),\n",
        "            nn.BatchNorm2d(base_filter_count),\n",
        "            nn.ReLU(True),\n",
        "\n",
        "            nn.ConvTranspose2d(base_filter_count, 1, 4, 2, 1, bias=False),\n",
        "            nn.Tanh()\n",
        "        )\n",
        "\n",
        "    def forward(self, x, labels):\n",
        "        labels = labels.unsqueeze(-1).unsqueeze(-1)\n",
        "        labels = labels.repeat(1, 1, x.shape[2], x.shape[3])\n",
        "        x = torch.cat((x, labels), dim=1)\n",
        "        return self.layers(x)\n",
        "\n",
        "class WGANGPDiscriminator(nn.Module):\n",
        "    def __init__(self, base_filter_count):\n",
        "        super().__init__()\n",
        "        self.layers = nn.Sequential(\n",
        "            nn.Conv2d(1 + 10, base_filter_count, 4, 2, 1, bias=False),\n",
        "            nn.LeakyReLU(0.2, inplace=True),\n",
        "\n",
        "            nn.Conv2d(base_filter_count, base_filter_count * 2, 4, 2, 1, bias=False),\n",
        "            # nn.LayerNorm(base_filter_count * 2),\n",
        "            nn.InstanceNorm2d(base_filter_count * 2, affine=True),\n",
        "            nn.LeakyReLU(0.2, inplace=True),\n",
        "\n",
        "            nn.Conv2d(base_filter_count * 2, base_filter_count * 4, 4, 2, 1, bias=False),\n",
        "            # nn.LayerNorm(base_filter_count * 4),\n",
        "            nn.InstanceNorm2d(base_filter_count * 4, affine=True),\n",
        "            nn.LeakyReLU(0.2, inplace=True),\n",
        "\n",
        "            nn.Conv2d(base_filter_count * 4, base_filter_count * 8, 4, 2, 1, bias=False),\n",
        "            # nn.LayerNorm(base_filter_count * 8),\n",
        "            nn.InstanceNorm2d(base_filter_count * 8, affine=True),\n",
        "            nn.LeakyReLU(0.2, inplace=True),\n",
        "\n",
        "            nn.Conv2d(base_filter_count * 8, 1, 4, 1, 0, bias=False),\n",
        "        )\n",
        "\n",
        "    def forward(self, x, labels):\n",
        "        labels = labels.unsqueeze(-1).unsqueeze(-1)\n",
        "        labels = labels.repeat(1, 1, x.shape[2], x.shape[3])\n",
        "        x = torch.cat((x, labels), dim=1)\n",
        "        return self.layers(x).view(-1, 1).squeeze(1)\n"
      ],
      "metadata": {
        "id": "buvQORqbaqiV"
      },
      "execution_count": 10,
      "outputs": []
    },
    {
      "cell_type": "code",
      "source": [
        "generator = WGANGPGenerator(base_filter_count=64).to(device)\n",
        "generator.apply(weight_initialization)\n",
        "\n",
        "discriminator = WGANGPDiscriminator(base_filter_count=64).to(device)\n",
        "discriminator.apply(weight_initialization)\n",
        "\n",
        "wgangpA_generator_losses, wgangpA_discriminator_losses = wgangp_train(discriminator, generator, fashion_mnist_data, 5)\n",
        "\n",
        "torch.save(generator.state_dict(), 'wgan_gp_A_generator.pth')"
      ],
      "metadata": {
        "colab": {
          "base_uri": "https://localhost:8080/",
          "height": 942,
          "referenced_widgets": [
            "6426a7f7039f40f8a82a37e72cc86f8b",
            "04ead38a50b24db1a07881726468d799",
            "695fddf8c6034925ac38af5a7b043c33",
            "434cdfb234c54c88a5ad502606f53c6d",
            "a380263875b44578857fffe4bbd84fba",
            "5d492e08df7b4ce4ba8accd983744cd7",
            "a81d836d5a2144b1817d0bf5bb9714c3",
            "62f69ef7cfed4ca9b559ffddf733a5b9",
            "141ed24b30c548f8bcd6549a2ffb3fff",
            "6366552eaeac4bb0b2a5ed0d1664692a",
            "4020b047f3ef47188cb6c99e0e41d354"
          ]
        },
        "id": "Fz1ZsGwCLKNI",
        "outputId": "b4fd93e8-ba46-4128-e4c6-72465d852772"
      },
      "execution_count": 16,
      "outputs": [
        {
          "output_type": "display_data",
          "data": {
            "text/plain": [
              "  0%|          | 0/5 [00:00<?, ?it/s]"
            ],
            "application/vnd.jupyter.widget-view+json": {
              "version_major": 2,
              "version_minor": 0,
              "model_id": "6426a7f7039f40f8a82a37e72cc86f8b"
            }
          },
          "metadata": {}
        },
        {
          "output_type": "stream",
          "name": "stdout",
          "text": [
            "Epoch: 0, Discriminator Loss: 365.4768371582031\n",
            "Epoch: 0, Generator Loss: 1.5156712532043457\n",
            "Epoch: 0, Discriminator Loss: -6.883376121520996\n",
            "Epoch: 0, Generator Loss: 5.758906364440918\n",
            "Epoch: 0, Discriminator Loss: -7.962987899780273\n",
            "Epoch: 0, Generator Loss: 11.749496459960938\n",
            "Epoch: 0, Discriminator Loss: -7.496118545532227\n",
            "Epoch: 0, Generator Loss: 15.44859790802002\n",
            "Epoch: 0, Discriminator Loss: -4.223422050476074\n",
            "Epoch: 0, Generator Loss: 10.22480583190918\n",
            "Epoch: 1, Discriminator Loss: -3.8589632511138916\n",
            "Epoch: 1, Generator Loss: 13.24649429321289\n",
            "Epoch: 1, Discriminator Loss: -3.458585023880005\n",
            "Epoch: 1, Generator Loss: 7.245616912841797\n",
            "Epoch: 1, Discriminator Loss: -4.05993127822876\n",
            "Epoch: 1, Generator Loss: 11.700982093811035\n",
            "Epoch: 1, Discriminator Loss: -4.419233322143555\n",
            "Epoch: 1, Generator Loss: 17.073562622070312\n",
            "Epoch: 1, Discriminator Loss: -4.488574504852295\n",
            "Epoch: 1, Generator Loss: 13.636674880981445\n",
            "Epoch: 2, Discriminator Loss: -2.913569450378418\n",
            "Epoch: 2, Generator Loss: 7.854959487915039\n",
            "Epoch: 2, Discriminator Loss: -2.820831775665283\n",
            "Epoch: 2, Generator Loss: 11.55673885345459\n",
            "Epoch: 2, Discriminator Loss: -2.931734323501587\n",
            "Epoch: 2, Generator Loss: 21.166912078857422\n",
            "Epoch: 2, Discriminator Loss: -2.2238001823425293\n",
            "Epoch: 2, Generator Loss: 13.593816757202148\n",
            "Epoch: 2, Discriminator Loss: -1.9819937944412231\n",
            "Epoch: 2, Generator Loss: 17.04224395751953\n",
            "Epoch: 3, Discriminator Loss: -3.5990757942199707\n",
            "Epoch: 3, Generator Loss: 13.15267562866211\n",
            "Epoch: 3, Discriminator Loss: -2.5720503330230713\n",
            "Epoch: 3, Generator Loss: 10.994470596313477\n",
            "Epoch: 3, Discriminator Loss: -2.488436460494995\n",
            "Epoch: 3, Generator Loss: 16.41275405883789\n",
            "Epoch: 3, Discriminator Loss: -1.8489296436309814\n",
            "Epoch: 3, Generator Loss: 8.770713806152344\n",
            "Epoch: 3, Discriminator Loss: -2.5531582832336426\n",
            "Epoch: 3, Generator Loss: 7.050053596496582\n",
            "Epoch: 4, Discriminator Loss: -2.440389633178711\n",
            "Epoch: 4, Generator Loss: 19.41366195678711\n",
            "Epoch: 4, Discriminator Loss: -1.2061394453048706\n",
            "Epoch: 4, Generator Loss: 16.318532943725586\n",
            "Epoch: 4, Discriminator Loss: -1.8615918159484863\n",
            "Epoch: 4, Generator Loss: 8.618609428405762\n",
            "Epoch: 4, Discriminator Loss: -1.758618950843811\n",
            "Epoch: 4, Generator Loss: 17.09160614013672\n",
            "Epoch: 4, Discriminator Loss: -1.3454657793045044\n",
            "Epoch: 4, Generator Loss: 18.883325576782227\n"
          ]
        }
      ]
    },
    {
      "cell_type": "code",
      "source": [
        "generator = WGANGPGenerator(base_filter_count=64).to(device)\n",
        "generator.load_state_dict(torch.load('wgan_gp_A_generator.pth'))\n",
        "\n",
        "inference(generator, latent_dims, 0)\n",
        "inference(generator, latent_dims, 3)"
      ],
      "metadata": {
        "colab": {
          "base_uri": "https://localhost:8080/",
          "height": 903
        },
        "id": "uKwSM7CaM-os",
        "outputId": "51084769-f196-461a-bb69-64e0e7caa075"
      },
      "execution_count": 23,
      "outputs": [
        {
          "output_type": "stream",
          "name": "stderr",
          "text": [
            "<ipython-input-23-20a828ba454e>:2: FutureWarning: You are using `torch.load` with `weights_only=False` (the current default value), which uses the default pickle module implicitly. It is possible to construct malicious pickle data which will execute arbitrary code during unpickling (See https://github.com/pytorch/pytorch/blob/main/SECURITY.md#untrusted-models for more details). In a future release, the default value for `weights_only` will be flipped to `True`. This limits the functions that could be executed during unpickling. Arbitrary objects will no longer be allowed to be loaded via this mode unless they are explicitly allowlisted by the user via `torch.serialization.add_safe_globals`. We recommend you start setting `weights_only=True` for any use case where you don't have full control of the loaded file. Please open an issue on GitHub for any issues related to this experimental feature.\n",
            "  generator.load_state_dict(torch.load('wgan_gp_A_generator.pth'))\n"
          ]
        },
        {
          "output_type": "display_data",
          "data": {
            "text/plain": [
              "<Figure size 640x480 with 1 Axes>"
            ],
            "image/png": "[encoded data removed]"
          },
          "metadata": {}
        },
        {
          "output_type": "display_data",
          "data": {
            "text/plain": [
              "<Figure size 640x480 with 1 Axes>"
            ],
            "image/png": "[encoded data removed]"
          },
          "metadata": {}
        }
      ]
    },
    {
      "cell_type": "code",
      "source": [
        "generator = WGANGPGenerator(base_filter_count=32).to(device)\n",
        "generator.apply(weight_initialization)\n",
        "\n",
        "discriminator = WGANGPDiscriminator(base_filter_count=32).to(device)\n",
        "discriminator.apply(weight_initialization)\n",
        "\n",
        "wgangpB_generator_losses, wgangpB_discriminator_losses = wgangp_train(discriminator, generator, fashion_mnist_data, 5)\n",
        "\n",
        "torch.save(generator.state_dict(), 'wgan_gp_B_generator.pth')"
      ],
      "metadata": {
        "colab": {
          "base_uri": "https://localhost:8080/",
          "height": 942,
          "referenced_widgets": [
            "3f1c8f999ac74bb69122faf1192557d3",
            "fd83a6d3f5944b2cb678c19b1b60848b",
            "484f49822e9c46f9a88844a048fe7670",
            "29fc94653ed9458ebc58ee529d877871",
            "f0d6d01336f740c5a0196f83ccdfdf98",
            "71535e809d0c4fb8b68e09a66f08ecf0",
            "5c32f8fc366448208fa56090c15da880",
            "831c6c265ae84be9b87597342599b91a",
            "095d91977d174cbfbeb0009882d0e3f5",
            "826a13af12cd4d09871ba8d5329048aa",
            "d4a39f5cb2c940319d1983a80bd46add"
          ]
        },
        "id": "jgAKpnbdMgOG",
        "outputId": "ec232cbc-6b80-4b01-c302-6a5ef2cd748b"
      },
      "execution_count": 24,
      "outputs": [
        {
          "output_type": "display_data",
          "data": {
            "text/plain": [
              "  0%|          | 0/5 [00:00<?, ?it/s]"
            ],
            "application/vnd.jupyter.widget-view+json": {
              "version_major": 2,
              "version_minor": 0,
              "model_id": "3f1c8f999ac74bb69122faf1192557d3"
            }
          },
          "metadata": {}
        },
        {
          "output_type": "stream",
          "name": "stdout",
          "text": [
            "Epoch: 0, Discriminator Loss: 249.7655792236328\n",
            "Epoch: 0, Generator Loss: -0.6305446624755859\n",
            "Epoch: 0, Discriminator Loss: -8.51806640625\n",
            "Epoch: 0, Generator Loss: 6.763260841369629\n",
            "Epoch: 0, Discriminator Loss: -10.129999160766602\n",
            "Epoch: 0, Generator Loss: 6.594407081604004\n",
            "Epoch: 0, Discriminator Loss: -5.283559322357178\n",
            "Epoch: 0, Generator Loss: 7.012096881866455\n",
            "Epoch: 0, Discriminator Loss: -3.8956966400146484\n",
            "Epoch: 0, Generator Loss: 3.9740090370178223\n",
            "Epoch: 1, Discriminator Loss: -1.8821039199829102\n",
            "Epoch: 1, Generator Loss: 9.291836738586426\n",
            "Epoch: 1, Discriminator Loss: -3.1435189247131348\n",
            "Epoch: 1, Generator Loss: 8.436063766479492\n",
            "Epoch: 1, Discriminator Loss: -2.499525308609009\n",
            "Epoch: 1, Generator Loss: 4.610074043273926\n",
            "Epoch: 1, Discriminator Loss: -2.1906204223632812\n",
            "Epoch: 1, Generator Loss: 3.859293222427368\n",
            "Epoch: 1, Discriminator Loss: -2.6013591289520264\n",
            "Epoch: 1, Generator Loss: -0.16991668939590454\n",
            "Epoch: 2, Discriminator Loss: -2.099278211593628\n",
            "Epoch: 2, Generator Loss: 7.796626091003418\n",
            "Epoch: 2, Discriminator Loss: -3.0772132873535156\n",
            "Epoch: 2, Generator Loss: 10.650870323181152\n",
            "Epoch: 2, Discriminator Loss: -3.422475814819336\n",
            "Epoch: 2, Generator Loss: 8.04472541809082\n",
            "Epoch: 2, Discriminator Loss: -1.4968366622924805\n",
            "Epoch: 2, Generator Loss: 5.910093307495117\n",
            "Epoch: 2, Discriminator Loss: -2.4217710494995117\n",
            "Epoch: 2, Generator Loss: 10.898261070251465\n",
            "Epoch: 3, Discriminator Loss: -2.5422050952911377\n",
            "Epoch: 3, Generator Loss: 11.28714370727539\n",
            "Epoch: 3, Discriminator Loss: -2.104243755340576\n",
            "Epoch: 3, Generator Loss: 9.707558631896973\n",
            "Epoch: 3, Discriminator Loss: -2.719679594039917\n",
            "Epoch: 3, Generator Loss: 1.3253883123397827\n",
            "Epoch: 3, Discriminator Loss: -1.4112939834594727\n",
            "Epoch: 3, Generator Loss: 4.019893646240234\n",
            "Epoch: 3, Discriminator Loss: -1.1321077346801758\n",
            "Epoch: 3, Generator Loss: 3.191903591156006\n",
            "Epoch: 4, Discriminator Loss: -2.3012537956237793\n",
            "Epoch: 4, Generator Loss: 8.113226890563965\n",
            "Epoch: 4, Discriminator Loss: -1.720379114151001\n",
            "Epoch: 4, Generator Loss: 9.336151123046875\n",
            "Epoch: 4, Discriminator Loss: -1.7179664373397827\n",
            "Epoch: 4, Generator Loss: 10.163898468017578\n",
            "Epoch: 4, Discriminator Loss: -1.6169201135635376\n",
            "Epoch: 4, Generator Loss: 11.165218353271484\n",
            "Epoch: 4, Discriminator Loss: -1.215605616569519\n",
            "Epoch: 4, Generator Loss: 5.818655967712402\n"
          ]
        }
      ]
    },
    {
      "cell_type": "code",
      "source": [
        "generator = WGANGPGenerator(base_filter_count=32).to(device)\n",
        "generator.load_state_dict(torch.load('wgan_gp_B_generator.pth'))\n",
        "\n",
        "inference(generator, latent_dims, 0)\n",
        "inference(generator, latent_dims, 3)"
      ],
      "metadata": {
        "colab": {
          "base_uri": "https://localhost:8080/",
          "height": 903
        },
        "id": "5ZxLS7JcQSu9",
        "outputId": "52e3fdf5-b6d9-4dbd-cf4f-0c094edc3376"
      },
      "execution_count": 26,
      "outputs": [
        {
          "output_type": "stream",
          "name": "stderr",
          "text": [
            "<ipython-input-26-027ec4715177>:2: FutureWarning: You are using `torch.load` with `weights_only=False` (the current default value), which uses the default pickle module implicitly. It is possible to construct malicious pickle data which will execute arbitrary code during unpickling (See https://github.com/pytorch/pytorch/blob/main/SECURITY.md#untrusted-models for more details). In a future release, the default value for `weights_only` will be flipped to `True`. This limits the functions that could be executed during unpickling. Arbitrary objects will no longer be allowed to be loaded via this mode unless they are explicitly allowlisted by the user via `torch.serialization.add_safe_globals`. We recommend you start setting `weights_only=True` for any use case where you don't have full control of the loaded file. Please open an issue on GitHub for any issues related to this experimental feature.\n",
            "  generator.load_state_dict(torch.load('wgan_gp_B_generator.pth'))\n"
          ]
        },
        {
          "output_type": "display_data",
          "data": {
            "text/plain": [
              "<Figure size 640x480 with 1 Axes>"
            ],
            "image/png": "[encoded data removed]"
          },
          "metadata": {}
        },
        {
          "output_type": "display_data",
          "data": {
            "text/plain": [
              "<Figure size 640x480 with 1 Axes>"
            ],
            "image/png": "[encoded data removed]"
          },
          "metadata": {}
        }
      ]
    },
    {
      "cell_type": "code",
      "source": [
        "plt.figure(figsize=(12, 4))\n",
        "plt.subplot(1, 4, 1)\n",
        "plt.title('Generator A')\n",
        "plt.plot(dcganA_generator_losses, label='DCGAN')\n",
        "plt.plot(wganA_generator_losses, label='WGAN')\n",
        "plt.plot(wgangpA_generator_losses, label='WGAN-GP')\n",
        "plt.xlabel('Epochs')\n",
        "plt.ylabel('Loss')\n",
        "plt.legend()\n",
        "\n",
        "plt.subplot(1, 4, 2)\n",
        "plt.title('Generator B')\n",
        "plt.plot(dcganB_generator_losses, label='DCGAN')\n",
        "plt.plot(wganB_generator_losses, label='WGAN')\n",
        "plt.plot(wgangpB_generator_losses, label='WGAN-GP')\n",
        "plt.xlabel('Epochs')\n",
        "plt.ylabel('Loss')\n",
        "plt.legend()\n",
        "\n",
        "plt.subplot(1, 4, 3)\n",
        "plt.title('Discriminator A')\n",
        "plt.plot(dcganA_discriminator_losses, label='DCGAN')\n",
        "plt.plot(wganA_discriminator_losses, label='WGAN')\n",
        "plt.plot(wgangpA_discriminator_losses, label='WGAN-GP')\n",
        "plt.xlabel('Epochs')\n",
        "plt.ylabel('Loss')\n",
        "plt.legend()\n",
        "\n",
        "plt.subplot(1, 4, 4)\n",
        "plt.title('Discriminator B')\n",
        "plt.plot(dcganB_discriminator_losses, label='DCGAN')\n",
        "plt.plot(wganB_discriminator_losses, label='WGAN')\n",
        "plt.plot(wgangpB_discriminator_losses, label='WGAN-GP')\n",
        "plt.xlabel('Epochs')\n",
        "plt.ylabel('Loss')\n",
        "plt.legend()\n",
        "\n",
        "plt.tight_layout()\n",
        "plt.show()"
      ],
      "metadata": {
        "colab": {
          "base_uri": "https://localhost:8080/",
          "height": 407
        },
        "id": "RCDO5MVKOVoH",
        "outputId": "a29ed10b-e951-4ae0-bf3d-6b3a17b1d158"
      },
      "execution_count": 41,
      "outputs": [
        {
          "output_type": "display_data",
          "data": {
            "text/plain": [
              "<Figure size 1200x400 with 4 Axes>"
            ],
            "image/png": "[encoded data removed]"
          },
          "metadata": {}
        }
      ]
    },
    {
      "cell_type": "code",
      "source": [
        "generator_dcgan_A = DCGANGenerator(base_filter_count=64).to(device)\n",
        "generator_dcgan_A.load_state_dict(torch.load('dcgan_A_generator.pth'))\n",
        "generator_wgan_A = WGANGenerator(base_filter_count=64).to(device)\n",
        "generator_wgan_A.load_state_dict(torch.load('wgan_A_generator.pth'))\n",
        "generator_wgangp_A = WGANGPGenerator(base_filter_count=64).to(device)\n",
        "generator_wgangp_A.load_state_dict(torch.load('wgan_gp_A_generator.pth'))\n",
        "\n",
        "print(\"Generating T-Shirt Images for Architecture A\")\n",
        "inference(generator_dcgan_A, latent_dims, 0)\n",
        "inference(generator_wgan_A, latent_dims, 0)\n",
        "inference(generator_wgangp_A, latent_dims, 0)\n",
        "\n",
        "print(\"Generating Dress Images for Architecture A\")\n",
        "inference(generator_dcgan_A, latent_dims, 3)\n",
        "inference(generator_wgan_A, latent_dims, 3)\n",
        "inference(generator_wgangp_A, latent_dims, 3)\n"
      ],
      "metadata": {
        "colab": {
          "base_uri": "https://localhost:8080/",
          "height": 1000
        },
        "id": "xy77pLEoPK71",
        "outputId": "53d534f4-d453-474f-b8d9-a4819a55ea90"
      },
      "execution_count": 43,
      "outputs": [
        {
          "output_type": "stream",
          "name": "stderr",
          "text": [
            "<ipython-input-43-6aca22f40b0d>:2: FutureWarning: You are using `torch.load` with `weights_only=False` (the current default value), which uses the default pickle module implicitly. It is possible to construct malicious pickle data which will execute arbitrary code during unpickling (See https://github.com/pytorch/pytorch/blob/main/SECURITY.md#untrusted-models for more details). In a future release, the default value for `weights_only` will be flipped to `True`. This limits the functions that could be executed during unpickling. Arbitrary objects will no longer be allowed to be loaded via this mode unless they are explicitly allowlisted by the user via `torch.serialization.add_safe_globals`. We recommend you start setting `weights_only=True` for any use case where you don't have full control of the loaded file. Please open an issue on GitHub for any issues related to this experimental feature.\n",
            "  generator_dcgan_A.load_state_dict(torch.load('dcgan_A_generator.pth'))\n",
            "<ipython-input-43-6aca22f40b0d>:4: FutureWarning: You are using `torch.load` with `weights_only=False` (the current default value), which uses the default pickle module implicitly. It is possible to construct malicious pickle data which will execute arbitrary code during unpickling (See https://github.com/pytorch/pytorch/blob/main/SECURITY.md#untrusted-models for more details). In a future release, the default value for `weights_only` will be flipped to `True`. This limits the functions that could be executed during unpickling. Arbitrary objects will no longer be allowed to be loaded via this mode unless they are explicitly allowlisted by the user via `torch.serialization.add_safe_globals`. We recommend you start setting `weights_only=True` for any use case where you don't have full control of the loaded file. Please open an issue on GitHub for any issues related to this experimental feature.\n",
            "  generator_wgan_A.load_state_dict(torch.load('wgan_A_generator.pth'))\n",
            "<ipython-input-43-6aca22f40b0d>:6: FutureWarning: You are using `torch.load` with `weights_only=False` (the current default value), which uses the default pickle module implicitly. It is possible to construct malicious pickle data which will execute arbitrary code during unpickling (See https://github.com/pytorch/pytorch/blob/main/SECURITY.md#untrusted-models for more details). In a future release, the default value for `weights_only` will be flipped to `True`. This limits the functions that could be executed during unpickling. Arbitrary objects will no longer be allowed to be loaded via this mode unless they are explicitly allowlisted by the user via `torch.serialization.add_safe_globals`. We recommend you start setting `weights_only=True` for any use case where you don't have full control of the loaded file. Please open an issue on GitHub for any issues related to this experimental feature.\n",
            "  generator_wgangp_A.load_state_dict(torch.load('wgan_gp_A_generator.pth'))\n"
          ]
        },
        {
          "output_type": "stream",
          "name": "stdout",
          "text": [
            "Generating T-Shirt Images for Architecture A\n"
          ]
        },
        {
          "output_type": "display_data",
          "data": {
            "text/plain": [
              "<Figure size 640x480 with 1 Axes>"
            ],
            "image/png": "[encoded data removed]"
          },
          "metadata": {}
        },
        {
          "output_type": "display_data",
          "data": {
            "text/plain": [
              "<Figure size 640x480 with 1 Axes>"
            ],
            "image/png": "[encoded data removed]"
          },
          "metadata": {}
        },
        {
          "output_type": "display_data",
          "data": {
            "text/plain": [
              "<Figure size 640x480 with 1 Axes>"
            ],
            "image/png": "[encoded data removed]"
          },
          "metadata": {}
        },
        {
          "output_type": "stream",
          "name": "stdout",
          "text": [
            "Generating Dress Images for Architecture A\n"
          ]
        },
        {
          "output_type": "display_data",
          "data": {
            "text/plain": [
              "<Figure size 640x480 with 1 Axes>"
            ],
            "image/png": "[encoded data removed]"
          },
          "metadata": {}
        },
        {
          "output_type": "display_data",
          "data": {
            "text/plain": [
              "<Figure size 640x480 with 1 Axes>"
            ],
            "image/png": "[encoded data removed]"
          },
          "metadata": {}
        },
        {
          "output_type": "display_data",
          "data": {
            "text/plain": [
              "<Figure size 640x480 with 1 Axes>"
            ],
            "image/png": "[encoded data removed]"
          },
          "metadata": {}
        }
      ]
    },
    {
      "cell_type": "code",
      "source": [
        "n = 3\n",
        "i = 0\n",
        "for x, y in fashion_mnist_data:\n",
        "    if i == n:\n",
        "        break\n",
        "    if y[0].item() == 0:\n",
        "        plt.imshow(x[0].reshape(64, 64), cmap='gray')\n",
        "        i += 1\n",
        "        continue\n",
        "    plt.show()"
      ],
      "metadata": {
        "colab": {
          "base_uri": "https://localhost:8080/",
          "height": 1000
        },
        "id": "pwqYjDQBcHri",
        "outputId": "98f3eba8-e483-405a-a3fa-5f00c67b7812"
      },
      "execution_count": 51,
      "outputs": [
        {
          "output_type": "display_data",
          "data": {
            "text/plain": [
              "<Figure size 640x480 with 1 Axes>"
            ],
            "image/png": "[encoded data removed]"
          },
          "metadata": {}
        },
        {
          "output_type": "display_data",
          "data": {
            "text/plain": [
              "<Figure size 640x480 with 1 Axes>"
            ],
            "image/png": "[encoded data removed]"
          },
          "metadata": {}
        },
        {
          "output_type": "display_data",
          "data": {
            "text/plain": [
              "<Figure size 640x480 with 1 Axes>"
            ],
            "image/png": "[encoded data removed]"
          },
          "metadata": {}
        }
      ]
    },
    {
      "cell_type": "code",
      "source": [
        "n = 3\n",
        "i = 0\n",
        "for x, y in fashion_mnist_data:\n",
        "    if i == n:\n",
        "        break\n",
        "    if y[0].item() == 3:\n",
        "        plt.imshow(x[0].reshape(64, 64), cmap='gray')\n",
        "        i += 1\n",
        "        continue\n",
        "    plt.show()"
      ],
      "metadata": {
        "colab": {
          "base_uri": "https://localhost:8080/",
          "height": 1000
        },
        "id": "xA6fBkRcdCQQ",
        "outputId": "5923715c-aef0-479d-946f-b00579676a65"
      },
      "execution_count": 52,
      "outputs": [
        {
          "output_type": "display_data",
          "data": {
            "text/plain": [
              "<Figure size 640x480 with 1 Axes>"
            ],
            "image/png": "[encoded data removed]"
          },
          "metadata": {}
        },
        {
          "output_type": "display_data",
          "data": {
            "text/plain": [
              "<Figure size 640x480 with 1 Axes>"
            ],
            "image/png": "[encoded data removed]"
          },
          "metadata": {}
        },
        {
          "output_type": "display_data",
          "data": {
            "text/plain": [
              "<Figure size 640x480 with 1 Axes>"
            ],
            "image/png": "[encoded data removed]"
          },
          "metadata": {}
        }
      ]
    }
  ]
}