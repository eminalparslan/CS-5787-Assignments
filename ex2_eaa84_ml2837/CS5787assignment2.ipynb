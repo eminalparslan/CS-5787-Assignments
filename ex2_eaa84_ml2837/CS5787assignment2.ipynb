{
  "nbformat": 4,
  "nbformat_minor": 0,
  "metadata": {
    "colab": {
      "provenance": [],
      "gpuType": "T4"
    },
    "kernelspec": {
      "name": "python3",
      "display_name": "Python 3"
    },
    "language_info": {
      "name": "python"
    },
    "widgets": {
      "application/vnd.jupyter.widget-state+json": {
        "eac147cb296046ecba13cb47b7f0d176": {
          "model_module": "@jupyter-widgets/controls",
          "model_name": "HBoxModel",
          "model_module_version": "1.5.0",
          "state": {
            "_dom_classes": [],
            "_model_module": "@jupyter-widgets/controls",
            "_model_module_version": "1.5.0",
            "_model_name": "HBoxModel",
            "_view_count": null,
            "_view_module": "@jupyter-widgets/controls",
            "_view_module_version": "1.5.0",
            "_view_name": "HBoxView",
            "box_style": "",
            "children": [
              "IPY_MODEL_29978e12d0ee4b3294697a799bee48d5",
              "IPY_MODEL_238d6f1ee2314210a32f97078e729354",
              "IPY_MODEL_4e8f28e6cc3b400582c28b891ab26e1a"
            ],
            "layout": "IPY_MODEL_270027236eb1419a8481b80918cd9628"
          }
        },
        "29978e12d0ee4b3294697a799bee48d5": {
          "model_module": "@jupyter-widgets/controls",
          "model_name": "HTMLModel",
          "model_module_version": "1.5.0",
          "state": {
            "_dom_classes": [],
            "_model_module": "@jupyter-widgets/controls",
            "_model_module_version": "1.5.0",
            "_model_name": "HTMLModel",
            "_view_count": null,
            "_view_module": "@jupyter-widgets/controls",
            "_view_module_version": "1.5.0",
            "_view_name": "HTMLView",
            "description": "",
            "description_tooltip": null,
            "layout": "IPY_MODEL_88c09411b6b3435ba6dd4be8cac44c41",
            "placeholder": "​",
            "style": "IPY_MODEL_abc156291fc042ebbad222d5459e8d21",
            "value": "100%"
          }
        },
        "238d6f1ee2314210a32f97078e729354": {
          "model_module": "@jupyter-widgets/controls",
          "model_name": "FloatProgressModel",
          "model_module_version": "1.5.0",
          "state": {
            "_dom_classes": [],
            "_model_module": "@jupyter-widgets/controls",
            "_model_module_version": "1.5.0",
            "_model_name": "FloatProgressModel",
            "_view_count": null,
            "_view_module": "@jupyter-widgets/controls",
            "_view_module_version": "1.5.0",
            "_view_name": "ProgressView",
            "bar_style": "success",
            "description": "",
            "description_tooltip": null,
            "layout": "IPY_MODEL_c8443e68b4f4407c81fdaf71b06f2acb",
            "max": 15,
            "min": 0,
            "orientation": "horizontal",
            "style": "IPY_MODEL_61f556497ae74f0b957017d4ee994533",
            "value": 15
          }
        },
        "4e8f28e6cc3b400582c28b891ab26e1a": {
          "model_module": "@jupyter-widgets/controls",
          "model_name": "HTMLModel",
          "model_module_version": "1.5.0",
          "state": {
            "_dom_classes": [],
            "_model_module": "@jupyter-widgets/controls",
            "_model_module_version": "1.5.0",
            "_model_name": "HTMLModel",
            "_view_count": null,
            "_view_module": "@jupyter-widgets/controls",
            "_view_module_version": "1.5.0",
            "_view_name": "HTMLView",
            "description": "",
            "description_tooltip": null,
            "layout": "IPY_MODEL_d8b8ce42667c44b294e08b0f6a97a3d6",
            "placeholder": "​",
            "style": "IPY_MODEL_144d4f444de148318fba4ad970180fb9",
            "value": " 15/15 [03:25&lt;00:00, 13.60s/it]"
          }
        },
        "270027236eb1419a8481b80918cd9628": {
          "model_module": "@jupyter-widgets/base",
          "model_name": "LayoutModel",
          "model_module_version": "1.2.0",
          "state": {
            "_model_module": "@jupyter-widgets/base",
            "_model_module_version": "1.2.0",
            "_model_name": "LayoutModel",
            "_view_count": null,
            "_view_module": "@jupyter-widgets/base",
            "_view_module_version": "1.2.0",
            "_view_name": "LayoutView",
            "align_content": null,
            "align_items": null,
            "align_self": null,
            "border": null,
            "bottom": null,
            "display": null,
            "flex": null,
            "flex_flow": null,
            "grid_area": null,
            "grid_auto_columns": null,
            "grid_auto_flow": null,
            "grid_auto_rows": null,
            "grid_column": null,
            "grid_gap": null,
            "grid_row": null,
            "grid_template_areas": null,
            "grid_template_columns": null,
            "grid_template_rows": null,
            "height": null,
            "justify_content": null,
            "justify_items": null,
            "left": null,
            "margin": null,
            "max_height": null,
            "max_width": null,
            "min_height": null,
            "min_width": null,
            "object_fit": null,
            "object_position": null,
            "order": null,
            "overflow": null,
            "overflow_x": null,
            "overflow_y": null,
            "padding": null,
            "right": null,
            "top": null,
            "visibility": null,
            "width": null
          }
        },
        "88c09411b6b3435ba6dd4be8cac44c41": {
          "model_module": "@jupyter-widgets/base",
          "model_name": "LayoutModel",
          "model_module_version": "1.2.0",
          "state": {
            "_model_module": "@jupyter-widgets/base",
            "_model_module_version": "1.2.0",
            "_model_name": "LayoutModel",
            "_view_count": null,
            "_view_module": "@jupyter-widgets/base",
            "_view_module_version": "1.2.0",
            "_view_name": "LayoutView",
            "align_content": null,
            "align_items": null,
            "align_self": null,
            "border": null,
            "bottom": null,
            "display": null,
            "flex": null,
            "flex_flow": null,
            "grid_area": null,
            "grid_auto_columns": null,
            "grid_auto_flow": null,
            "grid_auto_rows": null,
            "grid_column": null,
            "grid_gap": null,
            "grid_row": null,
            "grid_template_areas": null,
            "grid_template_columns": null,
            "grid_template_rows": null,
            "height": null,
            "justify_content": null,
            "justify_items": null,
            "left": null,
            "margin": null,
            "max_height": null,
            "max_width": null,
            "min_height": null,
            "min_width": null,
            "object_fit": null,
            "object_position": null,
            "order": null,
            "overflow": null,
            "overflow_x": null,
            "overflow_y": null,
            "padding": null,
            "right": null,
            "top": null,
            "visibility": null,
            "width": null
          }
        },
        "abc156291fc042ebbad222d5459e8d21": {
          "model_module": "@jupyter-widgets/controls",
          "model_name": "DescriptionStyleModel",
          "model_module_version": "1.5.0",
          "state": {
            "_model_module": "@jupyter-widgets/controls",
            "_model_module_version": "1.5.0",
            "_model_name": "DescriptionStyleModel",
            "_view_count": null,
            "_view_module": "@jupyter-widgets/base",
            "_view_module_version": "1.2.0",
            "_view_name": "StyleView",
            "description_width": ""
          }
        },
        "c8443e68b4f4407c81fdaf71b06f2acb": {
          "model_module": "@jupyter-widgets/base",
          "model_name": "LayoutModel",
          "model_module_version": "1.2.0",
          "state": {
            "_model_module": "@jupyter-widgets/base",
            "_model_module_version": "1.2.0",
            "_model_name": "LayoutModel",
            "_view_count": null,
            "_view_module": "@jupyter-widgets/base",
            "_view_module_version": "1.2.0",
            "_view_name": "LayoutView",
            "align_content": null,
            "align_items": null,
            "align_self": null,
            "border": null,
            "bottom": null,
            "display": null,
            "flex": null,
            "flex_flow": null,
            "grid_area": null,
            "grid_auto_columns": null,
            "grid_auto_flow": null,
            "grid_auto_rows": null,
            "grid_column": null,
            "grid_gap": null,
            "grid_row": null,
            "grid_template_areas": null,
            "grid_template_columns": null,
            "grid_template_rows": null,
            "height": null,
            "justify_content": null,
            "justify_items": null,
            "left": null,
            "margin": null,
            "max_height": null,
            "max_width": null,
            "min_height": null,
            "min_width": null,
            "object_fit": null,
            "object_position": null,
            "order": null,
            "overflow": null,
            "overflow_x": null,
            "overflow_y": null,
            "padding": null,
            "right": null,
            "top": null,
            "visibility": null,
            "width": null
          }
        },
        "61f556497ae74f0b957017d4ee994533": {
          "model_module": "@jupyter-widgets/controls",
          "model_name": "ProgressStyleModel",
          "model_module_version": "1.5.0",
          "state": {
            "_model_module": "@jupyter-widgets/controls",
            "_model_module_version": "1.5.0",
            "_model_name": "ProgressStyleModel",
            "_view_count": null,
            "_view_module": "@jupyter-widgets/base",
            "_view_module_version": "1.2.0",
            "_view_name": "StyleView",
            "bar_color": null,
            "description_width": ""
          }
        },
        "d8b8ce42667c44b294e08b0f6a97a3d6": {
          "model_module": "@jupyter-widgets/base",
          "model_name": "LayoutModel",
          "model_module_version": "1.2.0",
          "state": {
            "_model_module": "@jupyter-widgets/base",
            "_model_module_version": "1.2.0",
            "_model_name": "LayoutModel",
            "_view_count": null,
            "_view_module": "@jupyter-widgets/base",
            "_view_module_version": "1.2.0",
            "_view_name": "LayoutView",
            "align_content": null,
            "align_items": null,
            "align_self": null,
            "border": null,
            "bottom": null,
            "display": null,
            "flex": null,
            "flex_flow": null,
            "grid_area": null,
            "grid_auto_columns": null,
            "grid_auto_flow": null,
            "grid_auto_rows": null,
            "grid_column": null,
            "grid_gap": null,
            "grid_row": null,
            "grid_template_areas": null,
            "grid_template_columns": null,
            "grid_template_rows": null,
            "height": null,
            "justify_content": null,
            "justify_items": null,
            "left": null,
            "margin": null,
            "max_height": null,
            "max_width": null,
            "min_height": null,
            "min_width": null,
            "object_fit": null,
            "object_position": null,
            "order": null,
            "overflow": null,
            "overflow_x": null,
            "overflow_y": null,
            "padding": null,
            "right": null,
            "top": null,
            "visibility": null,
            "width": null
          }
        },
        "144d4f444de148318fba4ad970180fb9": {
          "model_module": "@jupyter-widgets/controls",
          "model_name": "DescriptionStyleModel",
          "model_module_version": "1.5.0",
          "state": {
            "_model_module": "@jupyter-widgets/controls",
            "_model_module_version": "1.5.0",
            "_model_name": "DescriptionStyleModel",
            "_view_count": null,
            "_view_module": "@jupyter-widgets/base",
            "_view_module_version": "1.2.0",
            "_view_name": "StyleView",
            "description_width": ""
          }
        },
        "1c580f550fcd4ac583793345c5013342": {
          "model_module": "@jupyter-widgets/controls",
          "model_name": "HBoxModel",
          "model_module_version": "1.5.0",
          "state": {
            "_dom_classes": [],
            "_model_module": "@jupyter-widgets/controls",
            "_model_module_version": "1.5.0",
            "_model_name": "HBoxModel",
            "_view_count": null,
            "_view_module": "@jupyter-widgets/controls",
            "_view_module_version": "1.5.0",
            "_view_name": "HBoxView",
            "box_style": "",
            "children": [
              "IPY_MODEL_70f6884ebd5a4b1e8411cc1479045a7c",
              "IPY_MODEL_fccdbed570f546bfbcfb25f384033b0f",
              "IPY_MODEL_01687fb7065c49b6bdf62d25d407e31b"
            ],
            "layout": "IPY_MODEL_8f314bfe94cb458f8854b2187b69d76b"
          }
        },
        "70f6884ebd5a4b1e8411cc1479045a7c": {
          "model_module": "@jupyter-widgets/controls",
          "model_name": "HTMLModel",
          "model_module_version": "1.5.0",
          "state": {
            "_dom_classes": [],
            "_model_module": "@jupyter-widgets/controls",
            "_model_module_version": "1.5.0",
            "_model_name": "HTMLModel",
            "_view_count": null,
            "_view_module": "@jupyter-widgets/controls",
            "_view_module_version": "1.5.0",
            "_view_name": "HTMLView",
            "description": "",
            "description_tooltip": null,
            "layout": "IPY_MODEL_48f544dce1094a3bb41b4416070cb938",
            "placeholder": "​",
            "style": "IPY_MODEL_516f9731735d456180ce011ec5dfc35d",
            "value": "100%"
          }
        },
        "fccdbed570f546bfbcfb25f384033b0f": {
          "model_module": "@jupyter-widgets/controls",
          "model_name": "FloatProgressModel",
          "model_module_version": "1.5.0",
          "state": {
            "_dom_classes": [],
            "_model_module": "@jupyter-widgets/controls",
            "_model_module_version": "1.5.0",
            "_model_name": "FloatProgressModel",
            "_view_count": null,
            "_view_module": "@jupyter-widgets/controls",
            "_view_module_version": "1.5.0",
            "_view_name": "ProgressView",
            "bar_style": "success",
            "description": "",
            "description_tooltip": null,
            "layout": "IPY_MODEL_28505ae13169454bab238bb3baa209fa",
            "max": 15,
            "min": 0,
            "orientation": "horizontal",
            "style": "IPY_MODEL_4291ceb389464e4496d1d00d60dabe7c",
            "value": 15
          }
        },
        "01687fb7065c49b6bdf62d25d407e31b": {
          "model_module": "@jupyter-widgets/controls",
          "model_name": "HTMLModel",
          "model_module_version": "1.5.0",
          "state": {
            "_dom_classes": [],
            "_model_module": "@jupyter-widgets/controls",
            "_model_module_version": "1.5.0",
            "_model_name": "HTMLModel",
            "_view_count": null,
            "_view_module": "@jupyter-widgets/controls",
            "_view_module_version": "1.5.0",
            "_view_name": "HTMLView",
            "description": "",
            "description_tooltip": null,
            "layout": "IPY_MODEL_12b76c09beb54a159d049ee269de0694",
            "placeholder": "​",
            "style": "IPY_MODEL_d56de3dc2a6a4e768a5ea9be596d0cd1",
            "value": " 15/15 [03:31&lt;00:00, 13.77s/it]"
          }
        },
        "8f314bfe94cb458f8854b2187b69d76b": {
          "model_module": "@jupyter-widgets/base",
          "model_name": "LayoutModel",
          "model_module_version": "1.2.0",
          "state": {
            "_model_module": "@jupyter-widgets/base",
            "_model_module_version": "1.2.0",
            "_model_name": "LayoutModel",
            "_view_count": null,
            "_view_module": "@jupyter-widgets/base",
            "_view_module_version": "1.2.0",
            "_view_name": "LayoutView",
            "align_content": null,
            "align_items": null,
            "align_self": null,
            "border": null,
            "bottom": null,
            "display": null,
            "flex": null,
            "flex_flow": null,
            "grid_area": null,
            "grid_auto_columns": null,
            "grid_auto_flow": null,
            "grid_auto_rows": null,
            "grid_column": null,
            "grid_gap": null,
            "grid_row": null,
            "grid_template_areas": null,
            "grid_template_columns": null,
            "grid_template_rows": null,
            "height": null,
            "justify_content": null,
            "justify_items": null,
            "left": null,
            "margin": null,
            "max_height": null,
            "max_width": null,
            "min_height": null,
            "min_width": null,
            "object_fit": null,
            "object_position": null,
            "order": null,
            "overflow": null,
            "overflow_x": null,
            "overflow_y": null,
            "padding": null,
            "right": null,
            "top": null,
            "visibility": null,
            "width": null
          }
        },
        "48f544dce1094a3bb41b4416070cb938": {
          "model_module": "@jupyter-widgets/base",
          "model_name": "LayoutModel",
          "model_module_version": "1.2.0",
          "state": {
            "_model_module": "@jupyter-widgets/base",
            "_model_module_version": "1.2.0",
            "_model_name": "LayoutModel",
            "_view_count": null,
            "_view_module": "@jupyter-widgets/base",
            "_view_module_version": "1.2.0",
            "_view_name": "LayoutView",
            "align_content": null,
            "align_items": null,
            "align_self": null,
            "border": null,
            "bottom": null,
            "display": null,
            "flex": null,
            "flex_flow": null,
            "grid_area": null,
            "grid_auto_columns": null,
            "grid_auto_flow": null,
            "grid_auto_rows": null,
            "grid_column": null,
            "grid_gap": null,
            "grid_row": null,
            "grid_template_areas": null,
            "grid_template_columns": null,
            "grid_template_rows": null,
            "height": null,
            "justify_content": null,
            "justify_items": null,
            "left": null,
            "margin": null,
            "max_height": null,
            "max_width": null,
            "min_height": null,
            "min_width": null,
            "object_fit": null,
            "object_position": null,
            "order": null,
            "overflow": null,
            "overflow_x": null,
            "overflow_y": null,
            "padding": null,
            "right": null,
            "top": null,
            "visibility": null,
            "width": null
          }
        },
        "516f9731735d456180ce011ec5dfc35d": {
          "model_module": "@jupyter-widgets/controls",
          "model_name": "DescriptionStyleModel",
          "model_module_version": "1.5.0",
          "state": {
            "_model_module": "@jupyter-widgets/controls",
            "_model_module_version": "1.5.0",
            "_model_name": "DescriptionStyleModel",
            "_view_count": null,
            "_view_module": "@jupyter-widgets/base",
            "_view_module_version": "1.2.0",
            "_view_name": "StyleView",
            "description_width": ""
          }
        },
        "28505ae13169454bab238bb3baa209fa": {
          "model_module": "@jupyter-widgets/base",
          "model_name": "LayoutModel",
          "model_module_version": "1.2.0",
          "state": {
            "_model_module": "@jupyter-widgets/base",
            "_model_module_version": "1.2.0",
            "_model_name": "LayoutModel",
            "_view_count": null,
            "_view_module": "@jupyter-widgets/base",
            "_view_module_version": "1.2.0",
            "_view_name": "LayoutView",
            "align_content": null,
            "align_items": null,
            "align_self": null,
            "border": null,
            "bottom": null,
            "display": null,
            "flex": null,
            "flex_flow": null,
            "grid_area": null,
            "grid_auto_columns": null,
            "grid_auto_flow": null,
            "grid_auto_rows": null,
            "grid_column": null,
            "grid_gap": null,
            "grid_row": null,
            "grid_template_areas": null,
            "grid_template_columns": null,
            "grid_template_rows": null,
            "height": null,
            "justify_content": null,
            "justify_items": null,
            "left": null,
            "margin": null,
            "max_height": null,
            "max_width": null,
            "min_height": null,
            "min_width": null,
            "object_fit": null,
            "object_position": null,
            "order": null,
            "overflow": null,
            "overflow_x": null,
            "overflow_y": null,
            "padding": null,
            "right": null,
            "top": null,
            "visibility": null,
            "width": null
          }
        },
        "4291ceb389464e4496d1d00d60dabe7c": {
          "model_module": "@jupyter-widgets/controls",
          "model_name": "ProgressStyleModel",
          "model_module_version": "1.5.0",
          "state": {
            "_model_module": "@jupyter-widgets/controls",
            "_model_module_version": "1.5.0",
            "_model_name": "ProgressStyleModel",
            "_view_count": null,
            "_view_module": "@jupyter-widgets/base",
            "_view_module_version": "1.2.0",
            "_view_name": "StyleView",
            "bar_color": null,
            "description_width": ""
          }
        },
        "12b76c09beb54a159d049ee269de0694": {
          "model_module": "@jupyter-widgets/base",
          "model_name": "LayoutModel",
          "model_module_version": "1.2.0",
          "state": {
            "_model_module": "@jupyter-widgets/base",
            "_model_module_version": "1.2.0",
            "_model_name": "LayoutModel",
            "_view_count": null,
            "_view_module": "@jupyter-widgets/base",
            "_view_module_version": "1.2.0",
            "_view_name": "LayoutView",
            "align_content": null,
            "align_items": null,
            "align_self": null,
            "border": null,
            "bottom": null,
            "display": null,
            "flex": null,
            "flex_flow": null,
            "grid_area": null,
            "grid_auto_columns": null,
            "grid_auto_flow": null,
            "grid_auto_rows": null,
            "grid_column": null,
            "grid_gap": null,
            "grid_row": null,
            "grid_template_areas": null,
            "grid_template_columns": null,
            "grid_template_rows": null,
            "height": null,
            "justify_content": null,
            "justify_items": null,
            "left": null,
            "margin": null,
            "max_height": null,
            "max_width": null,
            "min_height": null,
            "min_width": null,
            "object_fit": null,
            "object_position": null,
            "order": null,
            "overflow": null,
            "overflow_x": null,
            "overflow_y": null,
            "padding": null,
            "right": null,
            "top": null,
            "visibility": null,
            "width": null
          }
        },
        "d56de3dc2a6a4e768a5ea9be596d0cd1": {
          "model_module": "@jupyter-widgets/controls",
          "model_name": "DescriptionStyleModel",
          "model_module_version": "1.5.0",
          "state": {
            "_model_module": "@jupyter-widgets/controls",
            "_model_module_version": "1.5.0",
            "_model_name": "DescriptionStyleModel",
            "_view_count": null,
            "_view_module": "@jupyter-widgets/base",
            "_view_module_version": "1.2.0",
            "_view_name": "StyleView",
            "description_width": ""
          }
        },
        "d882625372634f59a92a3b15dfe9973a": {
          "model_module": "@jupyter-widgets/controls",
          "model_name": "HBoxModel",
          "model_module_version": "1.5.0",
          "state": {
            "_dom_classes": [],
            "_model_module": "@jupyter-widgets/controls",
            "_model_module_version": "1.5.0",
            "_model_name": "HBoxModel",
            "_view_count": null,
            "_view_module": "@jupyter-widgets/controls",
            "_view_module_version": "1.5.0",
            "_view_name": "HBoxView",
            "box_style": "",
            "children": [
              "IPY_MODEL_6272ff7553ee41a8b2568a0b26d6b1cd",
              "IPY_MODEL_375562a6863e4aea95df3d49f56e7f1e",
              "IPY_MODEL_248f8fe8affd440b9b9980f50a9adac2"
            ],
            "layout": "IPY_MODEL_9d6ad6ada60b429ebeff56400982055b"
          }
        },
        "6272ff7553ee41a8b2568a0b26d6b1cd": {
          "model_module": "@jupyter-widgets/controls",
          "model_name": "HTMLModel",
          "model_module_version": "1.5.0",
          "state": {
            "_dom_classes": [],
            "_model_module": "@jupyter-widgets/controls",
            "_model_module_version": "1.5.0",
            "_model_name": "HTMLModel",
            "_view_count": null,
            "_view_module": "@jupyter-widgets/controls",
            "_view_module_version": "1.5.0",
            "_view_name": "HTMLView",
            "description": "",
            "description_tooltip": null,
            "layout": "IPY_MODEL_4eb61ad7fa0e441fbc30790205d39aad",
            "placeholder": "​",
            "style": "IPY_MODEL_2c758c0df8ce42b8b70809f5782c0b7b",
            "value": "100%"
          }
        },
        "375562a6863e4aea95df3d49f56e7f1e": {
          "model_module": "@jupyter-widgets/controls",
          "model_name": "FloatProgressModel",
          "model_module_version": "1.5.0",
          "state": {
            "_dom_classes": [],
            "_model_module": "@jupyter-widgets/controls",
            "_model_module_version": "1.5.0",
            "_model_name": "FloatProgressModel",
            "_view_count": null,
            "_view_module": "@jupyter-widgets/controls",
            "_view_module_version": "1.5.0",
            "_view_name": "ProgressView",
            "bar_style": "success",
            "description": "",
            "description_tooltip": null,
            "layout": "IPY_MODEL_63b7478413cc4bceacfaeab5135460ce",
            "max": 15,
            "min": 0,
            "orientation": "horizontal",
            "style": "IPY_MODEL_007fc857413d415a8e5bcdba12da5b0c",
            "value": 15
          }
        },
        "248f8fe8affd440b9b9980f50a9adac2": {
          "model_module": "@jupyter-widgets/controls",
          "model_name": "HTMLModel",
          "model_module_version": "1.5.0",
          "state": {
            "_dom_classes": [],
            "_model_module": "@jupyter-widgets/controls",
            "_model_module_version": "1.5.0",
            "_model_name": "HTMLModel",
            "_view_count": null,
            "_view_module": "@jupyter-widgets/controls",
            "_view_module_version": "1.5.0",
            "_view_name": "HTMLView",
            "description": "",
            "description_tooltip": null,
            "layout": "IPY_MODEL_8a7269da666644f69ce9f7173318c7b0",
            "placeholder": "​",
            "style": "IPY_MODEL_dea348aa61744353a1a11247e3a02ea0",
            "value": " 15/15 [03:17&lt;00:00, 13.08s/it]"
          }
        },
        "9d6ad6ada60b429ebeff56400982055b": {
          "model_module": "@jupyter-widgets/base",
          "model_name": "LayoutModel",
          "model_module_version": "1.2.0",
          "state": {
            "_model_module": "@jupyter-widgets/base",
            "_model_module_version": "1.2.0",
            "_model_name": "LayoutModel",
            "_view_count": null,
            "_view_module": "@jupyter-widgets/base",
            "_view_module_version": "1.2.0",
            "_view_name": "LayoutView",
            "align_content": null,
            "align_items": null,
            "align_self": null,
            "border": null,
            "bottom": null,
            "display": null,
            "flex": null,
            "flex_flow": null,
            "grid_area": null,
            "grid_auto_columns": null,
            "grid_auto_flow": null,
            "grid_auto_rows": null,
            "grid_column": null,
            "grid_gap": null,
            "grid_row": null,
            "grid_template_areas": null,
            "grid_template_columns": null,
            "grid_template_rows": null,
            "height": null,
            "justify_content": null,
            "justify_items": null,
            "left": null,
            "margin": null,
            "max_height": null,
            "max_width": null,
            "min_height": null,
            "min_width": null,
            "object_fit": null,
            "object_position": null,
            "order": null,
            "overflow": null,
            "overflow_x": null,
            "overflow_y": null,
            "padding": null,
            "right": null,
            "top": null,
            "visibility": null,
            "width": null
          }
        },
        "4eb61ad7fa0e441fbc30790205d39aad": {
          "model_module": "@jupyter-widgets/base",
          "model_name": "LayoutModel",
          "model_module_version": "1.2.0",
          "state": {
            "_model_module": "@jupyter-widgets/base",
            "_model_module_version": "1.2.0",
            "_model_name": "LayoutModel",
            "_view_count": null,
            "_view_module": "@jupyter-widgets/base",
            "_view_module_version": "1.2.0",
            "_view_name": "LayoutView",
            "align_content": null,
            "align_items": null,
            "align_self": null,
            "border": null,
            "bottom": null,
            "display": null,
            "flex": null,
            "flex_flow": null,
            "grid_area": null,
            "grid_auto_columns": null,
            "grid_auto_flow": null,
            "grid_auto_rows": null,
            "grid_column": null,
            "grid_gap": null,
            "grid_row": null,
            "grid_template_areas": null,
            "grid_template_columns": null,
            "grid_template_rows": null,
            "height": null,
            "justify_content": null,
            "justify_items": null,
            "left": null,
            "margin": null,
            "max_height": null,
            "max_width": null,
            "min_height": null,
            "min_width": null,
            "object_fit": null,
            "object_position": null,
            "order": null,
            "overflow": null,
            "overflow_x": null,
            "overflow_y": null,
            "padding": null,
            "right": null,
            "top": null,
            "visibility": null,
            "width": null
          }
        },
        "2c758c0df8ce42b8b70809f5782c0b7b": {
          "model_module": "@jupyter-widgets/controls",
          "model_name": "DescriptionStyleModel",
          "model_module_version": "1.5.0",
          "state": {
            "_model_module": "@jupyter-widgets/controls",
            "_model_module_version": "1.5.0",
            "_model_name": "DescriptionStyleModel",
            "_view_count": null,
            "_view_module": "@jupyter-widgets/base",
            "_view_module_version": "1.2.0",
            "_view_name": "StyleView",
            "description_width": ""
          }
        },
        "63b7478413cc4bceacfaeab5135460ce": {
          "model_module": "@jupyter-widgets/base",
          "model_name": "LayoutModel",
          "model_module_version": "1.2.0",
          "state": {
            "_model_module": "@jupyter-widgets/base",
            "_model_module_version": "1.2.0",
            "_model_name": "LayoutModel",
            "_view_count": null,
            "_view_module": "@jupyter-widgets/base",
            "_view_module_version": "1.2.0",
            "_view_name": "LayoutView",
            "align_content": null,
            "align_items": null,
            "align_self": null,
            "border": null,
            "bottom": null,
            "display": null,
            "flex": null,
            "flex_flow": null,
            "grid_area": null,
            "grid_auto_columns": null,
            "grid_auto_flow": null,
            "grid_auto_rows": null,
            "grid_column": null,
            "grid_gap": null,
            "grid_row": null,
            "grid_template_areas": null,
            "grid_template_columns": null,
            "grid_template_rows": null,
            "height": null,
            "justify_content": null,
            "justify_items": null,
            "left": null,
            "margin": null,
            "max_height": null,
            "max_width": null,
            "min_height": null,
            "min_width": null,
            "object_fit": null,
            "object_position": null,
            "order": null,
            "overflow": null,
            "overflow_x": null,
            "overflow_y": null,
            "padding": null,
            "right": null,
            "top": null,
            "visibility": null,
            "width": null
          }
        },
        "007fc857413d415a8e5bcdba12da5b0c": {
          "model_module": "@jupyter-widgets/controls",
          "model_name": "ProgressStyleModel",
          "model_module_version": "1.5.0",
          "state": {
            "_model_module": "@jupyter-widgets/controls",
            "_model_module_version": "1.5.0",
            "_model_name": "ProgressStyleModel",
            "_view_count": null,
            "_view_module": "@jupyter-widgets/base",
            "_view_module_version": "1.2.0",
            "_view_name": "StyleView",
            "bar_color": null,
            "description_width": ""
          }
        },
        "8a7269da666644f69ce9f7173318c7b0": {
          "model_module": "@jupyter-widgets/base",
          "model_name": "LayoutModel",
          "model_module_version": "1.2.0",
          "state": {
            "_model_module": "@jupyter-widgets/base",
            "_model_module_version": "1.2.0",
            "_model_name": "LayoutModel",
            "_view_count": null,
            "_view_module": "@jupyter-widgets/base",
            "_view_module_version": "1.2.0",
            "_view_name": "LayoutView",
            "align_content": null,
            "align_items": null,
            "align_self": null,
            "border": null,
            "bottom": null,
            "display": null,
            "flex": null,
            "flex_flow": null,
            "grid_area": null,
            "grid_auto_columns": null,
            "grid_auto_flow": null,
            "grid_auto_rows": null,
            "grid_column": null,
            "grid_gap": null,
            "grid_row": null,
            "grid_template_areas": null,
            "grid_template_columns": null,
            "grid_template_rows": null,
            "height": null,
            "justify_content": null,
            "justify_items": null,
            "left": null,
            "margin": null,
            "max_height": null,
            "max_width": null,
            "min_height": null,
            "min_width": null,
            "object_fit": null,
            "object_position": null,
            "order": null,
            "overflow": null,
            "overflow_x": null,
            "overflow_y": null,
            "padding": null,
            "right": null,
            "top": null,
            "visibility": null,
            "width": null
          }
        },
        "dea348aa61744353a1a11247e3a02ea0": {
          "model_module": "@jupyter-widgets/controls",
          "model_name": "DescriptionStyleModel",
          "model_module_version": "1.5.0",
          "state": {
            "_model_module": "@jupyter-widgets/controls",
            "_model_module_version": "1.5.0",
            "_model_name": "DescriptionStyleModel",
            "_view_count": null,
            "_view_module": "@jupyter-widgets/base",
            "_view_module_version": "1.2.0",
            "_view_name": "StyleView",
            "description_width": ""
          }
        },
        "8285624205b748a4b132e3c600211eb6": {
          "model_module": "@jupyter-widgets/controls",
          "model_name": "HBoxModel",
          "model_module_version": "1.5.0",
          "state": {
            "_dom_classes": [],
            "_model_module": "@jupyter-widgets/controls",
            "_model_module_version": "1.5.0",
            "_model_name": "HBoxModel",
            "_view_count": null,
            "_view_module": "@jupyter-widgets/controls",
            "_view_module_version": "1.5.0",
            "_view_name": "HBoxView",
            "box_style": "",
            "children": [
              "IPY_MODEL_d0c9579585554fcab8ba4ae35808a2e7",
              "IPY_MODEL_34c17778d9ca471bbf3287f82944de2f",
              "IPY_MODEL_38c0058e70584ca2a86b1165d50dd4d4"
            ],
            "layout": "IPY_MODEL_eb3c2d7083184bd399738205e8155631"
          }
        },
        "d0c9579585554fcab8ba4ae35808a2e7": {
          "model_module": "@jupyter-widgets/controls",
          "model_name": "HTMLModel",
          "model_module_version": "1.5.0",
          "state": {
            "_dom_classes": [],
            "_model_module": "@jupyter-widgets/controls",
            "_model_module_version": "1.5.0",
            "_model_name": "HTMLModel",
            "_view_count": null,
            "_view_module": "@jupyter-widgets/controls",
            "_view_module_version": "1.5.0",
            "_view_name": "HTMLView",
            "description": "",
            "description_tooltip": null,
            "layout": "IPY_MODEL_c8afe332bc154d50a1270d99c0fda742",
            "placeholder": "​",
            "style": "IPY_MODEL_d4c3cd0b660a4330b176ea7682d2b159",
            "value": "100%"
          }
        },
        "34c17778d9ca471bbf3287f82944de2f": {
          "model_module": "@jupyter-widgets/controls",
          "model_name": "FloatProgressModel",
          "model_module_version": "1.5.0",
          "state": {
            "_dom_classes": [],
            "_model_module": "@jupyter-widgets/controls",
            "_model_module_version": "1.5.0",
            "_model_name": "FloatProgressModel",
            "_view_count": null,
            "_view_module": "@jupyter-widgets/controls",
            "_view_module_version": "1.5.0",
            "_view_name": "ProgressView",
            "bar_style": "success",
            "description": "",
            "description_tooltip": null,
            "layout": "IPY_MODEL_bacb623831f844d69b1c2aa87e6e0d83",
            "max": 15,
            "min": 0,
            "orientation": "horizontal",
            "style": "IPY_MODEL_b47d4c0c4b0c499cb420e9a0b8a197e0",
            "value": 15
          }
        },
        "38c0058e70584ca2a86b1165d50dd4d4": {
          "model_module": "@jupyter-widgets/controls",
          "model_name": "HTMLModel",
          "model_module_version": "1.5.0",
          "state": {
            "_dom_classes": [],
            "_model_module": "@jupyter-widgets/controls",
            "_model_module_version": "1.5.0",
            "_model_name": "HTMLModel",
            "_view_count": null,
            "_view_module": "@jupyter-widgets/controls",
            "_view_module_version": "1.5.0",
            "_view_name": "HTMLView",
            "description": "",
            "description_tooltip": null,
            "layout": "IPY_MODEL_705e54413d7d40dab96fbc780b53607d",
            "placeholder": "​",
            "style": "IPY_MODEL_fe9ba5b2eaf849dab24358d0ad6804dd",
            "value": " 15/15 [03:23&lt;00:00, 13.27s/it]"
          }
        },
        "eb3c2d7083184bd399738205e8155631": {
          "model_module": "@jupyter-widgets/base",
          "model_name": "LayoutModel",
          "model_module_version": "1.2.0",
          "state": {
            "_model_module": "@jupyter-widgets/base",
            "_model_module_version": "1.2.0",
            "_model_name": "LayoutModel",
            "_view_count": null,
            "_view_module": "@jupyter-widgets/base",
            "_view_module_version": "1.2.0",
            "_view_name": "LayoutView",
            "align_content": null,
            "align_items": null,
            "align_self": null,
            "border": null,
            "bottom": null,
            "display": null,
            "flex": null,
            "flex_flow": null,
            "grid_area": null,
            "grid_auto_columns": null,
            "grid_auto_flow": null,
            "grid_auto_rows": null,
            "grid_column": null,
            "grid_gap": null,
            "grid_row": null,
            "grid_template_areas": null,
            "grid_template_columns": null,
            "grid_template_rows": null,
            "height": null,
            "justify_content": null,
            "justify_items": null,
            "left": null,
            "margin": null,
            "max_height": null,
            "max_width": null,
            "min_height": null,
            "min_width": null,
            "object_fit": null,
            "object_position": null,
            "order": null,
            "overflow": null,
            "overflow_x": null,
            "overflow_y": null,
            "padding": null,
            "right": null,
            "top": null,
            "visibility": null,
            "width": null
          }
        },
        "c8afe332bc154d50a1270d99c0fda742": {
          "model_module": "@jupyter-widgets/base",
          "model_name": "LayoutModel",
          "model_module_version": "1.2.0",
          "state": {
            "_model_module": "@jupyter-widgets/base",
            "_model_module_version": "1.2.0",
            "_model_name": "LayoutModel",
            "_view_count": null,
            "_view_module": "@jupyter-widgets/base",
            "_view_module_version": "1.2.0",
            "_view_name": "LayoutView",
            "align_content": null,
            "align_items": null,
            "align_self": null,
            "border": null,
            "bottom": null,
            "display": null,
            "flex": null,
            "flex_flow": null,
            "grid_area": null,
            "grid_auto_columns": null,
            "grid_auto_flow": null,
            "grid_auto_rows": null,
            "grid_column": null,
            "grid_gap": null,
            "grid_row": null,
            "grid_template_areas": null,
            "grid_template_columns": null,
            "grid_template_rows": null,
            "height": null,
            "justify_content": null,
            "justify_items": null,
            "left": null,
            "margin": null,
            "max_height": null,
            "max_width": null,
            "min_height": null,
            "min_width": null,
            "object_fit": null,
            "object_position": null,
            "order": null,
            "overflow": null,
            "overflow_x": null,
            "overflow_y": null,
            "padding": null,
            "right": null,
            "top": null,
            "visibility": null,
            "width": null
          }
        },
        "d4c3cd0b660a4330b176ea7682d2b159": {
          "model_module": "@jupyter-widgets/controls",
          "model_name": "DescriptionStyleModel",
          "model_module_version": "1.5.0",
          "state": {
            "_model_module": "@jupyter-widgets/controls",
            "_model_module_version": "1.5.0",
            "_model_name": "DescriptionStyleModel",
            "_view_count": null,
            "_view_module": "@jupyter-widgets/base",
            "_view_module_version": "1.2.0",
            "_view_name": "StyleView",
            "description_width": ""
          }
        },
        "bacb623831f844d69b1c2aa87e6e0d83": {
          "model_module": "@jupyter-widgets/base",
          "model_name": "LayoutModel",
          "model_module_version": "1.2.0",
          "state": {
            "_model_module": "@jupyter-widgets/base",
            "_model_module_version": "1.2.0",
            "_model_name": "LayoutModel",
            "_view_count": null,
            "_view_module": "@jupyter-widgets/base",
            "_view_module_version": "1.2.0",
            "_view_name": "LayoutView",
            "align_content": null,
            "align_items": null,
            "align_self": null,
            "border": null,
            "bottom": null,
            "display": null,
            "flex": null,
            "flex_flow": null,
            "grid_area": null,
            "grid_auto_columns": null,
            "grid_auto_flow": null,
            "grid_auto_rows": null,
            "grid_column": null,
            "grid_gap": null,
            "grid_row": null,
            "grid_template_areas": null,
            "grid_template_columns": null,
            "grid_template_rows": null,
            "height": null,
            "justify_content": null,
            "justify_items": null,
            "left": null,
            "margin": null,
            "max_height": null,
            "max_width": null,
            "min_height": null,
            "min_width": null,
            "object_fit": null,
            "object_position": null,
            "order": null,
            "overflow": null,
            "overflow_x": null,
            "overflow_y": null,
            "padding": null,
            "right": null,
            "top": null,
            "visibility": null,
            "width": null
          }
        },
        "b47d4c0c4b0c499cb420e9a0b8a197e0": {
          "model_module": "@jupyter-widgets/controls",
          "model_name": "ProgressStyleModel",
          "model_module_version": "1.5.0",
          "state": {
            "_model_module": "@jupyter-widgets/controls",
            "_model_module_version": "1.5.0",
            "_model_name": "ProgressStyleModel",
            "_view_count": null,
            "_view_module": "@jupyter-widgets/base",
            "_view_module_version": "1.2.0",
            "_view_name": "StyleView",
            "bar_color": null,
            "description_width": ""
          }
        },
        "705e54413d7d40dab96fbc780b53607d": {
          "model_module": "@jupyter-widgets/base",
          "model_name": "LayoutModel",
          "model_module_version": "1.2.0",
          "state": {
            "_model_module": "@jupyter-widgets/base",
            "_model_module_version": "1.2.0",
            "_model_name": "LayoutModel",
            "_view_count": null,
            "_view_module": "@jupyter-widgets/base",
            "_view_module_version": "1.2.0",
            "_view_name": "LayoutView",
            "align_content": null,
            "align_items": null,
            "align_self": null,
            "border": null,
            "bottom": null,
            "display": null,
            "flex": null,
            "flex_flow": null,
            "grid_area": null,
            "grid_auto_columns": null,
            "grid_auto_flow": null,
            "grid_auto_rows": null,
            "grid_column": null,
            "grid_gap": null,
            "grid_row": null,
            "grid_template_areas": null,
            "grid_template_columns": null,
            "grid_template_rows": null,
            "height": null,
            "justify_content": null,
            "justify_items": null,
            "left": null,
            "margin": null,
            "max_height": null,
            "max_width": null,
            "min_height": null,
            "min_width": null,
            "object_fit": null,
            "object_position": null,
            "order": null,
            "overflow": null,
            "overflow_x": null,
            "overflow_y": null,
            "padding": null,
            "right": null,
            "top": null,
            "visibility": null,
            "width": null
          }
        },
        "fe9ba5b2eaf849dab24358d0ad6804dd": {
          "model_module": "@jupyter-widgets/controls",
          "model_name": "DescriptionStyleModel",
          "model_module_version": "1.5.0",
          "state": {
            "_model_module": "@jupyter-widgets/controls",
            "_model_module_version": "1.5.0",
            "_model_name": "DescriptionStyleModel",
            "_view_count": null,
            "_view_module": "@jupyter-widgets/base",
            "_view_module_version": "1.2.0",
            "_view_name": "StyleView",
            "description_width": ""
          }
        }
      }
    },
    "accelerator": "GPU"
  },
  "cells": [
    {
      "cell_type": "code",
      "execution_count": 1,
      "metadata": {
        "colab": {
          "base_uri": "https://localhost:8080/"
        },
        "id": "VciyS7I5WuUi",
        "outputId": "a734a8c7-b00c-45ad-8bb8-dc30e930e836",
        "collapsed": true
      },
      "outputs": [
        {
          "output_type": "stream",
          "name": "stdout",
          "text": [
            "Requirement already satisfied: torch in /usr/local/lib/python3.10/dist-packages (2.4.1+cu121)\n",
            "Requirement already satisfied: matplotlib in /usr/local/lib/python3.10/dist-packages (3.7.1)\n",
            "Requirement already satisfied: numpy in /usr/local/lib/python3.10/dist-packages (1.26.4)\n",
            "Requirement already satisfied: tqdm in /usr/local/lib/python3.10/dist-packages (4.66.5)\n",
            "Requirement already satisfied: filelock in /usr/local/lib/python3.10/dist-packages (from torch) (3.16.1)\n",
            "Requirement already satisfied: typing-extensions>=4.8.0 in /usr/local/lib/python3.10/dist-packages (from torch) (4.12.2)\n",
            "Requirement already satisfied: sympy in /usr/local/lib/python3.10/dist-packages (from torch) (1.13.3)\n",
            "Requirement already satisfied: networkx in /usr/local/lib/python3.10/dist-packages (from torch) (3.3)\n",
            "Requirement already satisfied: jinja2 in /usr/local/lib/python3.10/dist-packages (from torch) (3.1.4)\n",
            "Requirement already satisfied: fsspec in /usr/local/lib/python3.10/dist-packages (from torch) (2024.6.1)\n",
            "Requirement already satisfied: contourpy>=1.0.1 in /usr/local/lib/python3.10/dist-packages (from matplotlib) (1.3.0)\n",
            "Requirement already satisfied: cycler>=0.10 in /usr/local/lib/python3.10/dist-packages (from matplotlib) (0.12.1)\n",
            "Requirement already satisfied: fonttools>=4.22.0 in /usr/local/lib/python3.10/dist-packages (from matplotlib) (4.53.1)\n",
            "Requirement already satisfied: kiwisolver>=1.0.1 in /usr/local/lib/python3.10/dist-packages (from matplotlib) (1.4.7)\n",
            "Requirement already satisfied: packaging>=20.0 in /usr/local/lib/python3.10/dist-packages (from matplotlib) (24.1)\n",
            "Requirement already satisfied: pillow>=6.2.0 in /usr/local/lib/python3.10/dist-packages (from matplotlib) (10.4.0)\n",
            "Requirement already satisfied: pyparsing>=2.3.1 in /usr/local/lib/python3.10/dist-packages (from matplotlib) (3.1.4)\n",
            "Requirement already satisfied: python-dateutil>=2.7 in /usr/local/lib/python3.10/dist-packages (from matplotlib) (2.8.2)\n",
            "Requirement already satisfied: six>=1.5 in /usr/local/lib/python3.10/dist-packages (from python-dateutil>=2.7->matplotlib) (1.16.0)\n",
            "Requirement already satisfied: MarkupSafe>=2.0 in /usr/local/lib/python3.10/dist-packages (from jinja2->torch) (2.1.5)\n",
            "Requirement already satisfied: mpmath<1.4,>=1.1.0 in /usr/local/lib/python3.10/dist-packages (from sympy->torch) (1.3.0)\n"
          ]
        }
      ],
      "source": [
        "%pip install torch matplotlib numpy tqdm"
      ]
    },
    {
      "cell_type": "code",
      "source": [
        "import torch\n",
        "from torch import nn\n",
        "import numpy as np\n",
        "\n",
        "%matplotlib inline\n",
        "import matplotlib.pyplot as plt"
      ],
      "metadata": {
        "id": "-ubIUn_ZW9C0"
      },
      "execution_count": 2,
      "outputs": []
    },
    {
      "cell_type": "code",
      "source": [
        "seed = 123\n",
        "np.random.seed(seed)\n",
        "torch.manual_seed(seed)\n",
        "device = torch.device(\"cuda\" if torch.cuda.is_available() else \"cpu\")"
      ],
      "metadata": {
        "id": "mkD9xlZ2XWwU"
      },
      "execution_count": 3,
      "outputs": []
    },
    {
      "cell_type": "code",
      "source": [
        "from google.colab import drive\n",
        "drive.mount(\"/content/drive\")"
      ],
      "metadata": {
        "colab": {
          "base_uri": "https://localhost:8080/"
        },
        "id": "MphAooRPGNQO",
        "outputId": "895aea3e-34c0-40c6-8baa-311d79d096fe"
      },
      "execution_count": 5,
      "outputs": [
        {
          "output_type": "stream",
          "name": "stdout",
          "text": [
            "Mounted at /content/drive\n"
          ]
        }
      ]
    },
    {
      "cell_type": "code",
      "source": [
        "from zipfile import ZipFile\n",
        "\n",
        "def load_ptb_data(root_dir, which):\n",
        "    \"\"\"\n",
        "    Arguments:\n",
        "        root_dir (string): Directory containing the data files.\n",
        "        which (string): \"train\", \"test\", or \"val\" dataset\n",
        "    \"\"\"\n",
        "    d = {\"train\": 1, \"test\": 5, \"val\": 7}\n",
        "    with ZipFile(root_dir, \"r\") as zip_ref:\n",
        "        file_name = zip_ref.namelist()[d[which]]\n",
        "        with zip_ref.open(file_name) as file:\n",
        "            words = []\n",
        "            for line in file:\n",
        "                words += line.decode(\"utf-8\").split()\n",
        "                words += [\"<eos>\"]\n",
        "            if which == \"train\":\n",
        "              global word_to_index\n",
        "              word_to_index = {word: idx for idx, word in enumerate(set(words))}\n",
        "              global index_to_word\n",
        "              index_to_word = {idx: word for idx, word in enumerate(set(words))}\n",
        "            data = np.array([word_to_index[word] for word in words], dtype=np.int32)\n",
        "            return data\n",
        "\n",
        "\n",
        "train_set = load_ptb_data(root_dir=\"./drive/MyDrive/Colab Notebooks/ptb_data.zip\", which=\"train\")\n",
        "test_set = load_ptb_data(root_dir=\"./drive/MyDrive/Colab Notebooks/ptb_data.zip\", which=\"test\")\n",
        "val_set = load_ptb_data(root_dir=\"./drive/MyDrive/Colab Notebooks/ptb_data.zip\", which=\"val\")\n",
        "\n",
        "x = val_set[:20]\n",
        "[index_to_word[i] for i in x]"
      ],
      "metadata": {
        "colab": {
          "base_uri": "https://localhost:8080/"
        },
        "id": "kPCiKVe8vc6J",
        "outputId": "d5f80589-988c-4b7e-a746-d70769530266"
      },
      "execution_count": 6,
      "outputs": [
        {
          "output_type": "execute_result",
          "data": {
            "text/plain": [
              "['consumers',\n",
              " 'may',\n",
              " 'want',\n",
              " 'to',\n",
              " 'move',\n",
              " 'their',\n",
              " 'telephones',\n",
              " 'a',\n",
              " 'little',\n",
              " 'closer',\n",
              " 'to',\n",
              " 'the',\n",
              " 'tv',\n",
              " 'set',\n",
              " '<eos>',\n",
              " '<unk>',\n",
              " '<unk>',\n",
              " 'watching',\n",
              " 'abc',\n",
              " \"'s\"]"
            ]
          },
          "metadata": {},
          "execution_count": 6
        }
      ]
    },
    {
      "cell_type": "code",
      "source": [
        "assert (len(index_to_word)) == (max(train_set)+1) == (max(val_set)+1)"
      ],
      "metadata": {
        "id": "HaMx0AbK4ODO"
      },
      "execution_count": 7,
      "outputs": []
    },
    {
      "cell_type": "code",
      "source": [
        "from tqdm.notebook import tqdm\n",
        "import math\n",
        "\n",
        "hidden_dim = 200\n",
        "seq_len = 20\n",
        "batch_size = 20\n",
        "\n",
        "def initialize_weights(model):\n",
        "    for name, param in model.named_parameters():\n",
        "        if \"weight\" in name:\n",
        "            nn.init.uniform_(param, -0.1, 0.1)\n",
        "        elif \"bias\" in name:\n",
        "            nn.init.zeros_(param)\n",
        "\n",
        "\n",
        "def train(model, train_set, val_set, loss_fn, optimizer, epochs=15, gru=False):\n",
        "    # initialize_weights(model)\n",
        "\n",
        "    perplexities = []\n",
        "    test_perplexities = []\n",
        "\n",
        "    try:\n",
        "        # move data to GPU\n",
        "        train_set = torch.tensor(train_set).to(device)\n",
        "        val_set = torch.tensor(val_set).to(device)\n",
        "\n",
        "        for epoch in tqdm(range(epochs)):\n",
        "            print(f\"Epoch: {epoch}\")\n",
        "\n",
        "            if epoch > 4:\n",
        "                # reduce learning rate\n",
        "                for g in optimizer.param_groups:\n",
        "                    g[\"lr\"] *= 0.5\n",
        "\n",
        "            model.train()\n",
        "            train_loss = train_epoch(model, train_set, loss_fn, optimizer, gru)\n",
        "            train_perplexity = math.exp(train_loss)\n",
        "            perplexities.append(train_perplexity)\n",
        "            print(f\"Train Perplexity: {train_perplexity:.4f}\")\n",
        "\n",
        "            model.eval()\n",
        "            val_loss = evaluate(model, val_set, loss_fn, gru)\n",
        "            val_perplexity = math.exp(val_loss)\n",
        "            test_perplexities.append(val_perplexity)\n",
        "            print(f\"Val Perplexity: {val_perplexity:.4f}\")\n",
        "\n",
        "    except KeyboardInterrupt:\n",
        "        print(\"Exiting...\")\n",
        "\n",
        "    return perplexities, test_perplexities\n",
        "\n",
        "def train_epoch(model, dataset, loss_fn, optimizer, gru):\n",
        "    total_loss = 0\n",
        "    count = 0\n",
        "    data_ptr = 0\n",
        "\n",
        "    hn = torch.zeros((2, batch_size, hidden_dim)).to(device)\n",
        "    if not gru:\n",
        "        cn = torch.zeros((2, batch_size, hidden_dim)).to(device)\n",
        "\n",
        "    while data_ptr + seq_len * batch_size + 1 <= len(dataset):\n",
        "        optimizer.zero_grad()\n",
        "\n",
        "        data_chunk = dataset[data_ptr:data_ptr + seq_len*batch_size].reshape((batch_size, seq_len))\n",
        "        target = dataset[data_ptr+1:data_ptr+1+seq_len*batch_size].reshape((batch_size, seq_len))\n",
        "\n",
        "        if gru:\n",
        "            outputs, hn = model(data_chunk, hn.detach())\n",
        "        else:\n",
        "            outputs, (hn, cn) = model(data_chunk, (hn.detach(), cn.detach()))\n",
        "        loss = loss_fn(outputs.transpose(1, 2), target.long())\n",
        "\n",
        "        loss.backward()\n",
        "        torch.nn.utils.clip_grad_norm_(model.parameters(), max_norm=5.0)\n",
        "        optimizer.step()\n",
        "\n",
        "        total_loss += loss.item()\n",
        "        count += 1\n",
        "        data_ptr += seq_len * batch_size\n",
        "\n",
        "    return total_loss / count\n",
        "\n",
        "def evaluate(model, dataset, loss_fn, gru):\n",
        "    total_loss = 0\n",
        "    count = 0\n",
        "    data_ptr = 0\n",
        "\n",
        "    hn = torch.zeros((2, batch_size, hidden_dim)).to(device)\n",
        "    if not gru:\n",
        "        cn = torch.zeros((2, batch_size, hidden_dim)).to(device)\n",
        "\n",
        "    with torch.no_grad():\n",
        "        while data_ptr + seq_len * batch_size + 1 <= len(dataset):\n",
        "            data_chunk = dataset[data_ptr:data_ptr + seq_len*batch_size].reshape((batch_size, seq_len))\n",
        "            target = dataset[data_ptr+1:data_ptr+1+seq_len*batch_size].reshape((batch_size, seq_len))\n",
        "\n",
        "            if gru:\n",
        "                outputs, hn = model(data_chunk, hn.detach())\n",
        "            else:\n",
        "                outputs, (hn, cn) = model(data_chunk, (hn, cn))\n",
        "            loss = loss_fn(outputs.transpose(1, 2), target.long())\n",
        "\n",
        "            total_loss += loss.item()\n",
        "            count += 1\n",
        "            data_ptr += seq_len * batch_size\n",
        "\n",
        "    return total_loss / count"
      ],
      "metadata": {
        "id": "NdqntTnJyM52"
      },
      "execution_count": 53,
      "outputs": []
    },
    {
      "cell_type": "code",
      "source": [
        "def test(model, test_set, loss_fn, gru=False):\n",
        "    total_loss = 0\n",
        "    count = 0\n",
        "    data_ptr = 0\n",
        "\n",
        "    model.eval()\n",
        "\n",
        "    test_set = torch.tensor(test_set).to(device)\n",
        "\n",
        "    with torch.no_grad():\n",
        "        hn = torch.zeros((2, batch_size, hidden_dim)).to(device)\n",
        "        if not gru:\n",
        "            cn = torch.zeros((2, batch_size, hidden_dim)).to(device)\n",
        "\n",
        "        while data_ptr + seq_len * batch_size + 1 <= len(test_set):\n",
        "            data_chunk = test_set[data_ptr:data_ptr + seq_len*batch_size].reshape((batch_size, seq_len))\n",
        "            target = test_set[data_ptr+1:data_ptr+1+seq_len*batch_size].reshape((batch_size, seq_len))\n",
        "\n",
        "            if gru:\n",
        "                outputs, hn = model(data_chunk, hn.detach())\n",
        "            else:\n",
        "                outputs, (hn, cn) = model(data_chunk, (hn.detach(), cn.detach()))\n",
        "            total_loss += loss_fn(outputs.transpose(1, 2), target.long())\n",
        "\n",
        "            count += 1\n",
        "            data_ptr += seq_len*batch_size\n",
        "\n",
        "        test_perplexity = math.exp(total_loss / count)\n",
        "        print(f\"Test Perplexity: {test_perplexity:.4}\")\n"
      ],
      "metadata": {
        "id": "77nXbx_jz6FO"
      },
      "execution_count": 28,
      "outputs": []
    },
    {
      "cell_type": "code",
      "source": [
        "class LSTM(nn.Module):\n",
        "    def __init__(self, embedding_dim, hidden_dim, vocab_size):\n",
        "        super().__init__()\n",
        "        self.embedding = nn.Embedding(vocab_size, embedding_dim)\n",
        "        self.lstm = nn.LSTM(embedding_dim, hidden_dim, num_layers=2, batch_first=True)\n",
        "        self.linear = nn.Linear(hidden_dim, vocab_size)\n",
        "\n",
        "    def forward(self, x, hidden_state):\n",
        "        embeds = self.embedding(x)\n",
        "        out, (hn, cn) = self.lstm(embeds, hidden_state)\n",
        "        out = self.linear(out)\n",
        "        return out, (hn, cn)\n"
      ],
      "metadata": {
        "id": "_QuaPshqlWKO"
      },
      "execution_count": 43,
      "outputs": []
    },
    {
      "cell_type": "code",
      "source": [
        "net = LSTM(200, 200, len(index_to_word))\n",
        "net.to(device)\n",
        "\n",
        "loss_fn = nn.CrossEntropyLoss()\n",
        "optimizer = torch.optim.SGD(net.parameters(), lr=2)\n",
        "perplexities, test_perplexities = train(net, train_set, val_set, loss_fn, optimizer)"
      ],
      "metadata": {
        "colab": {
          "base_uri": "https://localhost:8080/",
          "height": 830,
          "referenced_widgets": [
            "eac147cb296046ecba13cb47b7f0d176",
            "29978e12d0ee4b3294697a799bee48d5",
            "238d6f1ee2314210a32f97078e729354",
            "4e8f28e6cc3b400582c28b891ab26e1a",
            "270027236eb1419a8481b80918cd9628",
            "88c09411b6b3435ba6dd4be8cac44c41",
            "abc156291fc042ebbad222d5459e8d21",
            "c8443e68b4f4407c81fdaf71b06f2acb",
            "61f556497ae74f0b957017d4ee994533",
            "d8b8ce42667c44b294e08b0f6a97a3d6",
            "144d4f444de148318fba4ad970180fb9"
          ]
        },
        "id": "pcs-edIzougN",
        "outputId": "b7792c0b-8acb-4488-d62f-223e5547363d"
      },
      "execution_count": 54,
      "outputs": [
        {
          "output_type": "display_data",
          "data": {
            "text/plain": [
              "  0%|          | 0/15 [00:00<?, ?it/s]"
            ],
            "application/vnd.jupyter.widget-view+json": {
              "version_major": 2,
              "version_minor": 0,
              "model_id": "eac147cb296046ecba13cb47b7f0d176"
            }
          },
          "metadata": {}
        },
        {
          "output_type": "stream",
          "name": "stdout",
          "text": [
            "Epoch: 0\n",
            "Train Perplexity: 430.6701\n",
            "Val Perplexity: 279.8416\n",
            "Epoch: 1\n",
            "Train Perplexity: 229.1221\n",
            "Val Perplexity: 213.7598\n",
            "Epoch: 2\n",
            "Train Perplexity: 176.7413\n",
            "Val Perplexity: 189.0534\n",
            "Epoch: 3\n",
            "Train Perplexity: 148.7746\n",
            "Val Perplexity: 177.0664\n",
            "Epoch: 4\n",
            "Train Perplexity: 130.5357\n",
            "Val Perplexity: 170.4979\n",
            "Epoch: 5\n",
            "Train Perplexity: 110.1650\n",
            "Val Perplexity: 163.5219\n",
            "Epoch: 6\n",
            "Train Perplexity: 99.3526\n",
            "Val Perplexity: 160.1635\n",
            "Epoch: 7\n",
            "Train Perplexity: 93.6955\n",
            "Val Perplexity: 158.3993\n",
            "Epoch: 8\n",
            "Train Perplexity: 90.7012\n",
            "Val Perplexity: 157.4920\n",
            "Epoch: 9\n",
            "Train Perplexity: 89.0948\n",
            "Val Perplexity: 157.0349\n",
            "Epoch: 10\n",
            "Train Perplexity: 88.2139\n",
            "Val Perplexity: 156.8537\n",
            "Epoch: 11\n",
            "Train Perplexity: 87.7273\n",
            "Val Perplexity: 156.7723\n",
            "Epoch: 12\n",
            "Train Perplexity: 87.4615\n",
            "Val Perplexity: 156.7203\n",
            "Epoch: 13\n",
            "Train Perplexity: 87.3186\n",
            "Val Perplexity: 156.6962\n",
            "Epoch: 14\n",
            "Train Perplexity: 87.2438\n",
            "Val Perplexity: 156.6874\n"
          ]
        }
      ]
    },
    {
      "cell_type": "code",
      "source": [
        "test(net, test_set, loss_fn)"
      ],
      "metadata": {
        "colab": {
          "base_uri": "https://localhost:8080/"
        },
        "id": "TMMRsMeqpKHC",
        "outputId": "6e3cd94e-a63f-4e60-9950-fca99465099a"
      },
      "execution_count": 55,
      "outputs": [
        {
          "output_type": "stream",
          "name": "stdout",
          "text": [
            "Test Perplexity: 149.4\n"
          ]
        }
      ]
    },
    {
      "cell_type": "code",
      "source": [
        "plt.plot(perplexities, label=\"Train Perplexity\")\n",
        "plt.plot(test_perplexities, label=\"Test Perplexity\")\n",
        "plt.xlabel(\"Epoch\")\n",
        "plt.ylabel(\"Perplexity\")\n",
        "plt.title(\"LSTM\")\n",
        "plt.legend()\n",
        "plt.show()"
      ],
      "metadata": {
        "colab": {
          "base_uri": "https://localhost:8080/",
          "height": 472
        },
        "id": "lNc5USLHEqHt",
        "outputId": "cc840f69-4d9a-474a-e4f3-724b431fd51d"
      },
      "execution_count": 46,
      "outputs": [
        {
          "output_type": "display_data",
          "data": {
            "text/plain": [
              "<Figure size 640x480 with 1 Axes>"
            ],
            "image/png": "[encoded data removed]"
          },
          "metadata": {}
        }
      ]
    },
    {
      "cell_type": "code",
      "source": [
        "class DropoutLSTM(nn.Module):\n",
        "    def __init__(self, embedding_dim, hidden_dim, vocab_size):\n",
        "        super().__init__()\n",
        "        self.embedding = nn.Embedding(vocab_size, embedding_dim)\n",
        "        self.lstm = nn.LSTM(embedding_dim, hidden_dim, num_layers=2, batch_first=True, dropout=0.25)\n",
        "        self.drouput = nn.Dropout(0.25)\n",
        "        self.linear = nn.Linear(hidden_dim, vocab_size)\n",
        "\n",
        "    def forward(self, x, hidden_state):\n",
        "        embeds = self.embedding(x)\n",
        "        out, (hn, cn) = self.lstm(embeds, hidden_state)\n",
        "        out = self.drouput(out)\n",
        "        out = self.linear(out)\n",
        "        return out, (hn, cn)"
      ],
      "metadata": {
        "id": "WpHCDw2VABfT"
      },
      "execution_count": 11,
      "outputs": []
    },
    {
      "cell_type": "code",
      "source": [
        "dropout_net = DropoutLSTM(200, 200, len(index_to_word))\n",
        "dropout_net.to(device)\n",
        "\n",
        "loss_fn = nn.CrossEntropyLoss()\n",
        "optimizer = torch.optim.SGD(dropout_net.parameters(), lr=2)\n",
        "dropout_perplexities, dropout_test_perplexities = train(dropout_net, train_set, val_set, loss_fn, optimizer)"
      ],
      "metadata": {
        "colab": {
          "base_uri": "https://localhost:8080/",
          "height": 830,
          "referenced_widgets": [
            "1c580f550fcd4ac583793345c5013342",
            "70f6884ebd5a4b1e8411cc1479045a7c",
            "fccdbed570f546bfbcfb25f384033b0f",
            "01687fb7065c49b6bdf62d25d407e31b",
            "8f314bfe94cb458f8854b2187b69d76b",
            "48f544dce1094a3bb41b4416070cb938",
            "516f9731735d456180ce011ec5dfc35d",
            "28505ae13169454bab238bb3baa209fa",
            "4291ceb389464e4496d1d00d60dabe7c",
            "12b76c09beb54a159d049ee269de0694",
            "d56de3dc2a6a4e768a5ea9be596d0cd1"
          ]
        },
        "id": "ZJK9F4d_AYjR",
        "outputId": "52036599-ece4-492c-c171-0ff64050cb8c"
      },
      "execution_count": 34,
      "outputs": [
        {
          "output_type": "display_data",
          "data": {
            "text/plain": [
              "  0%|          | 0/15 [00:00<?, ?it/s]"
            ],
            "application/vnd.jupyter.widget-view+json": {
              "version_major": 2,
              "version_minor": 0,
              "model_id": "1c580f550fcd4ac583793345c5013342"
            }
          },
          "metadata": {}
        },
        {
          "output_type": "stream",
          "name": "stdout",
          "text": [
            "Epoch: 0\n",
            "Train Perplexity: 452.4327\n",
            "Val Perplexity: 287.0488\n",
            "Epoch: 1\n",
            "Train Perplexity: 259.3448\n",
            "Val Perplexity: 220.8611\n",
            "Epoch: 2\n",
            "Train Perplexity: 210.8658\n",
            "Val Perplexity: 194.5108\n",
            "Epoch: 3\n",
            "Train Perplexity: 185.2005\n",
            "Val Perplexity: 178.9751\n",
            "Epoch: 4\n",
            "Train Perplexity: 168.3933\n",
            "Val Perplexity: 169.2314\n",
            "Epoch: 5\n",
            "Train Perplexity: 150.3392\n",
            "Val Perplexity: 159.7329\n",
            "Epoch: 6\n",
            "Train Perplexity: 140.8286\n",
            "Val Perplexity: 154.9548\n",
            "Epoch: 7\n",
            "Train Perplexity: 135.9991\n",
            "Val Perplexity: 152.6498\n",
            "Epoch: 8\n",
            "Train Perplexity: 133.5742\n",
            "Val Perplexity: 151.5769\n",
            "Epoch: 9\n",
            "Train Perplexity: 132.0299\n",
            "Val Perplexity: 151.1221\n",
            "Epoch: 10\n",
            "Train Perplexity: 131.2083\n",
            "Val Perplexity: 150.9729\n",
            "Epoch: 11\n",
            "Train Perplexity: 131.0813\n",
            "Val Perplexity: 150.8738\n",
            "Epoch: 12\n",
            "Train Perplexity: 130.7162\n",
            "Val Perplexity: 150.8181\n",
            "Epoch: 13\n",
            "Train Perplexity: 130.6899\n",
            "Val Perplexity: 150.7942\n",
            "Epoch: 14\n",
            "Train Perplexity: 130.6155\n",
            "Val Perplexity: 150.7874\n"
          ]
        }
      ]
    },
    {
      "cell_type": "code",
      "source": [
        "test(dropout_net, test_set, loss_fn)"
      ],
      "metadata": {
        "colab": {
          "base_uri": "https://localhost:8080/"
        },
        "id": "XvchSW_gBVPu",
        "outputId": "2b305b8f-d834-4cc6-ad20-53ac77b039e6"
      },
      "execution_count": 35,
      "outputs": [
        {
          "output_type": "stream",
          "name": "stdout",
          "text": [
            "Test Perplexity: 144.2\n"
          ]
        }
      ]
    },
    {
      "cell_type": "code",
      "source": [
        "plt.plot(dropout_perplexities, label=\"Train Perplexity\")\n",
        "plt.plot(dropout_test_perplexities, label=\"Test Perplexity\")\n",
        "plt.xlabel(\"Epoch\")\n",
        "plt.ylabel(\"Perplexity\")\n",
        "plt.title(\"LSTM w/ Dropout\")\n",
        "plt.legend()\n",
        "plt.show()"
      ],
      "metadata": {
        "id": "d2AjdweHLjB6",
        "colab": {
          "base_uri": "https://localhost:8080/",
          "height": 472
        },
        "outputId": "a5a58a05-879c-4576-e484-8ee750040cef"
      },
      "execution_count": 47,
      "outputs": [
        {
          "output_type": "display_data",
          "data": {
            "text/plain": [
              "<Figure size 640x480 with 1 Axes>"
            ],
            "image/png": "[encoded data removed]"
          },
          "metadata": {}
        }
      ]
    },
    {
      "cell_type": "code",
      "source": [
        "class GRU(nn.Module):\n",
        "    def __init__(self, embedding_dim, hidden_dim, vocab_size):\n",
        "        super().__init__()\n",
        "        self.embedding = nn.Embedding(vocab_size, embedding_dim)\n",
        "        self.gru = nn.GRU(embedding_dim, hidden_dim, num_layers=2, batch_first=True)\n",
        "        self.linear = nn.Linear(hidden_dim, vocab_size)\n",
        "\n",
        "    def forward(self, x, hidden_state):\n",
        "        embeds = self.embedding(x)\n",
        "        out, hn = self.gru(embeds, hidden_state)\n",
        "        out = self.linear(out)\n",
        "        return out, hn\n"
      ],
      "metadata": {
        "id": "o6WRmCB1r56Y"
      },
      "execution_count": 33,
      "outputs": []
    },
    {
      "cell_type": "code",
      "source": [
        "gru_net = GRU(200, 200, len(index_to_word))\n",
        "gru_net.to(device)\n",
        "\n",
        "loss_fn = nn.CrossEntropyLoss()\n",
        "optimizer = torch.optim.SGD(gru_net.parameters(), lr=1)\n",
        "gru_perplexities, gru_test_perplexities = train(gru_net, train_set, val_set, loss_fn, optimizer, gru=True)"
      ],
      "metadata": {
        "colab": {
          "base_uri": "https://localhost:8080/",
          "height": 830,
          "referenced_widgets": [
            "d882625372634f59a92a3b15dfe9973a",
            "6272ff7553ee41a8b2568a0b26d6b1cd",
            "375562a6863e4aea95df3d49f56e7f1e",
            "248f8fe8affd440b9b9980f50a9adac2",
            "9d6ad6ada60b429ebeff56400982055b",
            "4eb61ad7fa0e441fbc30790205d39aad",
            "2c758c0df8ce42b8b70809f5782c0b7b",
            "63b7478413cc4bceacfaeab5135460ce",
            "007fc857413d415a8e5bcdba12da5b0c",
            "8a7269da666644f69ce9f7173318c7b0",
            "dea348aa61744353a1a11247e3a02ea0"
          ]
        },
        "id": "t1yd0tOJsDb7",
        "outputId": "26156172-80e9-4c5e-e521-74da18c07347"
      },
      "execution_count": 25,
      "outputs": [
        {
          "output_type": "display_data",
          "data": {
            "text/plain": [
              "  0%|          | 0/15 [00:00<?, ?it/s]"
            ],
            "application/vnd.jupyter.widget-view+json": {
              "version_major": 2,
              "version_minor": 0,
              "model_id": "d882625372634f59a92a3b15dfe9973a"
            }
          },
          "metadata": {}
        },
        {
          "output_type": "stream",
          "name": "stdout",
          "text": [
            "Epoch: 0\n",
            "Train Perplexity: 362.7990\n",
            "Val Perplexity: 248.4615\n",
            "Epoch: 1\n",
            "Train Perplexity: 203.4056\n",
            "Val Perplexity: 203.4564\n",
            "Epoch: 2\n",
            "Train Perplexity: 162.3650\n",
            "Val Perplexity: 187.3336\n",
            "Epoch: 3\n",
            "Train Perplexity: 139.1923\n",
            "Val Perplexity: 180.7643\n",
            "Epoch: 4\n",
            "Train Perplexity: 123.3833\n",
            "Val Perplexity: 178.6645\n",
            "Epoch: 5\n",
            "Train Perplexity: 103.9549\n",
            "Val Perplexity: 169.9746\n",
            "Epoch: 6\n",
            "Train Perplexity: 94.1734\n",
            "Val Perplexity: 165.8252\n",
            "Epoch: 7\n",
            "Train Perplexity: 89.0829\n",
            "Val Perplexity: 163.8250\n",
            "Epoch: 8\n",
            "Train Perplexity: 86.3334\n",
            "Val Perplexity: 162.9302\n",
            "Epoch: 9\n",
            "Train Perplexity: 84.8229\n",
            "Val Perplexity: 162.5640\n",
            "Epoch: 10\n",
            "Train Perplexity: 83.9997\n",
            "Val Perplexity: 162.4076\n",
            "Epoch: 11\n",
            "Train Perplexity: 83.5592\n",
            "Val Perplexity: 162.3493\n",
            "Epoch: 12\n",
            "Train Perplexity: 83.3279\n",
            "Val Perplexity: 162.3349\n",
            "Epoch: 13\n",
            "Train Perplexity: 83.2082\n",
            "Val Perplexity: 162.3343\n",
            "Epoch: 14\n",
            "Train Perplexity: 83.1469\n",
            "Val Perplexity: 162.3362\n"
          ]
        }
      ]
    },
    {
      "cell_type": "code",
      "source": [
        "test(gru_net, test_set, loss_fn, gru=True)"
      ],
      "metadata": {
        "colab": {
          "base_uri": "https://localhost:8080/"
        },
        "id": "U6wdqiO6qjQ6",
        "outputId": "4505fae9-aa66-49c9-ba9c-e078ea520706"
      },
      "execution_count": 30,
      "outputs": [
        {
          "output_type": "stream",
          "name": "stdout",
          "text": [
            "Test Perplexity: 154.3\n"
          ]
        }
      ]
    },
    {
      "cell_type": "code",
      "source": [
        "plt.plot(gru_perplexities, label=\"Train Perplexity\")\n",
        "plt.plot(gru_test_perplexities, label=\"Test Perplexity\")\n",
        "plt.xlabel(\"Epoch\")\n",
        "plt.ylabel(\"Perplexity\")\n",
        "plt.title(\"GRU\")\n",
        "plt.legend()\n",
        "plt.show()"
      ],
      "metadata": {
        "colab": {
          "base_uri": "https://localhost:8080/",
          "height": 472
        },
        "id": "1_PUMrioqlKA",
        "outputId": "ec9ae7a0-cb56-442a-f0a8-709408317ea8"
      },
      "execution_count": 48,
      "outputs": [
        {
          "output_type": "display_data",
          "data": {
            "text/plain": [
              "<Figure size 640x480 with 1 Axes>"
            ],
            "image/png": "[encoded data removed]"
          },
          "metadata": {}
        }
      ]
    },
    {
      "cell_type": "code",
      "source": [
        "class DropoutGRU(nn.Module):\n",
        "    def __init__(self, embedding_dim, hidden_dim, vocab_size):\n",
        "        super().__init__()\n",
        "        self.embedding = nn.Embedding(vocab_size, embedding_dim)\n",
        "        self.gru = nn.GRU(embedding_dim, hidden_dim, num_layers=2, batch_first=True, dropout=0.25)\n",
        "        self.dropout = nn.Dropout(0.25)\n",
        "        self.linear = nn.Linear(hidden_dim, vocab_size)\n",
        "\n",
        "    def forward(self, x, hidden_state):\n",
        "        embeds = self.embedding(x)\n",
        "        out, hn = self.gru(embeds, hidden_state)\n",
        "        out = self.dropout(out)\n",
        "        out = self.linear(out)\n",
        "        return out, hn\n"
      ],
      "metadata": {
        "id": "Y-OG9V6st6rk"
      },
      "execution_count": 38,
      "outputs": []
    },
    {
      "cell_type": "code",
      "source": [
        "dropout_gru_net = DropoutGRU(200, 200, len(index_to_word))\n",
        "dropout_gru_net.to(device)\n",
        "\n",
        "loss_fn = nn.CrossEntropyLoss()\n",
        "optimizer = torch.optim.SGD(dropout_gru_net.parameters(), lr=1)\n",
        "dropout_gru_perplexities, dropout_gru_test_perplexities = train(dropout_gru_net, train_set, val_set, loss_fn, optimizer, gru=True)"
      ],
      "metadata": {
        "colab": {
          "base_uri": "https://localhost:8080/",
          "height": 830,
          "referenced_widgets": [
            "8285624205b748a4b132e3c600211eb6",
            "d0c9579585554fcab8ba4ae35808a2e7",
            "34c17778d9ca471bbf3287f82944de2f",
            "38c0058e70584ca2a86b1165d50dd4d4",
            "eb3c2d7083184bd399738205e8155631",
            "c8afe332bc154d50a1270d99c0fda742",
            "d4c3cd0b660a4330b176ea7682d2b159",
            "bacb623831f844d69b1c2aa87e6e0d83",
            "b47d4c0c4b0c499cb420e9a0b8a197e0",
            "705e54413d7d40dab96fbc780b53607d",
            "fe9ba5b2eaf849dab24358d0ad6804dd"
          ]
        },
        "id": "iydV5bIduDfT",
        "outputId": "c8cce68e-06ce-44af-b5dc-af9e0fe91c28"
      },
      "execution_count": 39,
      "outputs": [
        {
          "output_type": "display_data",
          "data": {
            "text/plain": [
              "  0%|          | 0/15 [00:00<?, ?it/s]"
            ],
            "application/vnd.jupyter.widget-view+json": {
              "version_major": 2,
              "version_minor": 0,
              "model_id": "8285624205b748a4b132e3c600211eb6"
            }
          },
          "metadata": {}
        },
        {
          "output_type": "stream",
          "name": "stdout",
          "text": [
            "Epoch: 0\n",
            "Train Perplexity: 406.4415\n",
            "Val Perplexity: 260.1604\n",
            "Epoch: 1\n",
            "Train Perplexity: 247.4064\n",
            "Val Perplexity: 213.5053\n",
            "Epoch: 2\n",
            "Train Perplexity: 208.0483\n",
            "Val Perplexity: 194.1687\n",
            "Epoch: 3\n",
            "Train Perplexity: 186.6074\n",
            "Val Perplexity: 183.0188\n",
            "Epoch: 4\n",
            "Train Perplexity: 172.4827\n",
            "Val Perplexity: 175.9395\n",
            "Epoch: 5\n",
            "Train Perplexity: 153.5518\n",
            "Val Perplexity: 165.5117\n",
            "Epoch: 6\n",
            "Train Perplexity: 143.8797\n",
            "Val Perplexity: 160.6550\n",
            "Epoch: 7\n",
            "Train Perplexity: 138.7225\n",
            "Val Perplexity: 158.4873\n",
            "Epoch: 8\n",
            "Train Perplexity: 136.1476\n",
            "Val Perplexity: 157.5034\n",
            "Epoch: 9\n",
            "Train Perplexity: 134.8843\n",
            "Val Perplexity: 157.0742\n",
            "Epoch: 10\n",
            "Train Perplexity: 134.2775\n",
            "Val Perplexity: 156.8735\n",
            "Epoch: 11\n",
            "Train Perplexity: 133.7833\n",
            "Val Perplexity: 156.8137\n",
            "Epoch: 12\n",
            "Train Perplexity: 133.5924\n",
            "Val Perplexity: 156.7908\n",
            "Epoch: 13\n",
            "Train Perplexity: 133.5016\n",
            "Val Perplexity: 156.7700\n",
            "Epoch: 14\n",
            "Train Perplexity: 133.6009\n",
            "Val Perplexity: 156.7546\n"
          ]
        }
      ]
    },
    {
      "cell_type": "code",
      "source": [
        "test(dropout_gru_net, test_set, loss_fn, gru=True)"
      ],
      "metadata": {
        "colab": {
          "base_uri": "https://localhost:8080/"
        },
        "id": "zB77kqewvYlB",
        "outputId": "ddbfa0dc-ee08-468b-cca8-e2055f348832"
      },
      "execution_count": 40,
      "outputs": [
        {
          "output_type": "stream",
          "name": "stdout",
          "text": [
            "Test Perplexity: 149.4\n"
          ]
        }
      ]
    },
    {
      "cell_type": "code",
      "source": [
        "plt.plot(dropout_gru_perplexities, label=\"Train Perplexity\")\n",
        "plt.plot(dropout_gru_test_perplexities, label=\"Test Perplexity\")\n",
        "plt.xlabel(\"Epoch\")\n",
        "plt.ylabel(\"Perplexity\")\n",
        "plt.title(\"GRU w/ Dropout\")\n",
        "plt.legend()\n",
        "plt.show()"
      ],
      "metadata": {
        "colab": {
          "base_uri": "https://localhost:8080/",
          "height": 472
        },
        "id": "cdQdJQ_DvcCZ",
        "outputId": "290459b9-e30c-489c-d6e8-ec6de383281c"
      },
      "execution_count": 49,
      "outputs": [
        {
          "output_type": "display_data",
          "data": {
            "text/plain": [
              "<Figure size 640x480 with 1 Axes>"
            ],
            "image/png": "[encoded data removed]"
          },
          "metadata": {}
        }
      ]
    }
  ]
}