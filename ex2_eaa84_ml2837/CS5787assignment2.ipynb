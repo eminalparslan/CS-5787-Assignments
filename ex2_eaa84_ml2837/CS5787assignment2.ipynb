{
  "nbformat": 4,
  "nbformat_minor": 0,
  "metadata": {
    "colab": {
      "provenance": [],
      "gpuType": "T4"
    },
    "kernelspec": {
      "name": "python3",
      "display_name": "Python 3"
    },
    "language_info": {
      "name": "python"
    },
    "widgets": {
      "application/vnd.jupyter.widget-state+json": {
        "b19cb2abcad5431390eeec986c57fa3f": {
          "model_module": "@jupyter-widgets/controls",
          "model_name": "HBoxModel",
          "model_module_version": "1.5.0",
          "state": {
            "_dom_classes": [],
            "_model_module": "@jupyter-widgets/controls",
            "_model_module_version": "1.5.0",
            "_model_name": "HBoxModel",
            "_view_count": null,
            "_view_module": "@jupyter-widgets/controls",
            "_view_module_version": "1.5.0",
            "_view_name": "HBoxView",
            "box_style": "",
            "children": [
              "IPY_MODEL_c87c8f9eb3d74670804fce3e926d1c7c",
              "IPY_MODEL_45e430f1441d4adb9b8350dd1865faa6",
              "IPY_MODEL_5ef80227ff3346e897139d502de82de2"
            ],
            "layout": "IPY_MODEL_21e1836207cf43649dc923d90043fa3a"
          }
        },
        "c87c8f9eb3d74670804fce3e926d1c7c": {
          "model_module": "@jupyter-widgets/controls",
          "model_name": "HTMLModel",
          "model_module_version": "1.5.0",
          "state": {
            "_dom_classes": [],
            "_model_module": "@jupyter-widgets/controls",
            "_model_module_version": "1.5.0",
            "_model_name": "HTMLModel",
            "_view_count": null,
            "_view_module": "@jupyter-widgets/controls",
            "_view_module_version": "1.5.0",
            "_view_name": "HTMLView",
            "description": "",
            "description_tooltip": null,
            "layout": "IPY_MODEL_18e7b6bfdd8c43f0ab9e26dd86fe337f",
            "placeholder": "​",
            "style": "IPY_MODEL_f6216f5ff0ed489e8b85110495cc243c",
            "value": "100%"
          }
        },
        "45e430f1441d4adb9b8350dd1865faa6": {
          "model_module": "@jupyter-widgets/controls",
          "model_name": "FloatProgressModel",
          "model_module_version": "1.5.0",
          "state": {
            "_dom_classes": [],
            "_model_module": "@jupyter-widgets/controls",
            "_model_module_version": "1.5.0",
            "_model_name": "FloatProgressModel",
            "_view_count": null,
            "_view_module": "@jupyter-widgets/controls",
            "_view_module_version": "1.5.0",
            "_view_name": "ProgressView",
            "bar_style": "success",
            "description": "",
            "description_tooltip": null,
            "layout": "IPY_MODEL_4c2d7a3602674c3481a44c70a45e443c",
            "max": 15,
            "min": 0,
            "orientation": "horizontal",
            "style": "IPY_MODEL_0653b9aa3fbe4aef9395426f20d57610",
            "value": 15
          }
        },
        "5ef80227ff3346e897139d502de82de2": {
          "model_module": "@jupyter-widgets/controls",
          "model_name": "HTMLModel",
          "model_module_version": "1.5.0",
          "state": {
            "_dom_classes": [],
            "_model_module": "@jupyter-widgets/controls",
            "_model_module_version": "1.5.0",
            "_model_name": "HTMLModel",
            "_view_count": null,
            "_view_module": "@jupyter-widgets/controls",
            "_view_module_version": "1.5.0",
            "_view_name": "HTMLView",
            "description": "",
            "description_tooltip": null,
            "layout": "IPY_MODEL_16b6c11b49cc4bbaa597745f72b64641",
            "placeholder": "​",
            "style": "IPY_MODEL_5602f0f599a642a8ba142c6298e7bcf3",
            "value": " 15/15 [03:47&lt;00:00, 15.21s/it]"
          }
        },
        "21e1836207cf43649dc923d90043fa3a": {
          "model_module": "@jupyter-widgets/base",
          "model_name": "LayoutModel",
          "model_module_version": "1.2.0",
          "state": {
            "_model_module": "@jupyter-widgets/base",
            "_model_module_version": "1.2.0",
            "_model_name": "LayoutModel",
            "_view_count": null,
            "_view_module": "@jupyter-widgets/base",
            "_view_module_version": "1.2.0",
            "_view_name": "LayoutView",
            "align_content": null,
            "align_items": null,
            "align_self": null,
            "border": null,
            "bottom": null,
            "display": null,
            "flex": null,
            "flex_flow": null,
            "grid_area": null,
            "grid_auto_columns": null,
            "grid_auto_flow": null,
            "grid_auto_rows": null,
            "grid_column": null,
            "grid_gap": null,
            "grid_row": null,
            "grid_template_areas": null,
            "grid_template_columns": null,
            "grid_template_rows": null,
            "height": null,
            "justify_content": null,
            "justify_items": null,
            "left": null,
            "margin": null,
            "max_height": null,
            "max_width": null,
            "min_height": null,
            "min_width": null,
            "object_fit": null,
            "object_position": null,
            "order": null,
            "overflow": null,
            "overflow_x": null,
            "overflow_y": null,
            "padding": null,
            "right": null,
            "top": null,
            "visibility": null,
            "width": null
          }
        },
        "18e7b6bfdd8c43f0ab9e26dd86fe337f": {
          "model_module": "@jupyter-widgets/base",
          "model_name": "LayoutModel",
          "model_module_version": "1.2.0",
          "state": {
            "_model_module": "@jupyter-widgets/base",
            "_model_module_version": "1.2.0",
            "_model_name": "LayoutModel",
            "_view_count": null,
            "_view_module": "@jupyter-widgets/base",
            "_view_module_version": "1.2.0",
            "_view_name": "LayoutView",
            "align_content": null,
            "align_items": null,
            "align_self": null,
            "border": null,
            "bottom": null,
            "display": null,
            "flex": null,
            "flex_flow": null,
            "grid_area": null,
            "grid_auto_columns": null,
            "grid_auto_flow": null,
            "grid_auto_rows": null,
            "grid_column": null,
            "grid_gap": null,
            "grid_row": null,
            "grid_template_areas": null,
            "grid_template_columns": null,
            "grid_template_rows": null,
            "height": null,
            "justify_content": null,
            "justify_items": null,
            "left": null,
            "margin": null,
            "max_height": null,
            "max_width": null,
            "min_height": null,
            "min_width": null,
            "object_fit": null,
            "object_position": null,
            "order": null,
            "overflow": null,
            "overflow_x": null,
            "overflow_y": null,
            "padding": null,
            "right": null,
            "top": null,
            "visibility": null,
            "width": null
          }
        },
        "f6216f5ff0ed489e8b85110495cc243c": {
          "model_module": "@jupyter-widgets/controls",
          "model_name": "DescriptionStyleModel",
          "model_module_version": "1.5.0",
          "state": {
            "_model_module": "@jupyter-widgets/controls",
            "_model_module_version": "1.5.0",
            "_model_name": "DescriptionStyleModel",
            "_view_count": null,
            "_view_module": "@jupyter-widgets/base",
            "_view_module_version": "1.2.0",
            "_view_name": "StyleView",
            "description_width": ""
          }
        },
        "4c2d7a3602674c3481a44c70a45e443c": {
          "model_module": "@jupyter-widgets/base",
          "model_name": "LayoutModel",
          "model_module_version": "1.2.0",
          "state": {
            "_model_module": "@jupyter-widgets/base",
            "_model_module_version": "1.2.0",
            "_model_name": "LayoutModel",
            "_view_count": null,
            "_view_module": "@jupyter-widgets/base",
            "_view_module_version": "1.2.0",
            "_view_name": "LayoutView",
            "align_content": null,
            "align_items": null,
            "align_self": null,
            "border": null,
            "bottom": null,
            "display": null,
            "flex": null,
            "flex_flow": null,
            "grid_area": null,
            "grid_auto_columns": null,
            "grid_auto_flow": null,
            "grid_auto_rows": null,
            "grid_column": null,
            "grid_gap": null,
            "grid_row": null,
            "grid_template_areas": null,
            "grid_template_columns": null,
            "grid_template_rows": null,
            "height": null,
            "justify_content": null,
            "justify_items": null,
            "left": null,
            "margin": null,
            "max_height": null,
            "max_width": null,
            "min_height": null,
            "min_width": null,
            "object_fit": null,
            "object_position": null,
            "order": null,
            "overflow": null,
            "overflow_x": null,
            "overflow_y": null,
            "padding": null,
            "right": null,
            "top": null,
            "visibility": null,
            "width": null
          }
        },
        "0653b9aa3fbe4aef9395426f20d57610": {
          "model_module": "@jupyter-widgets/controls",
          "model_name": "ProgressStyleModel",
          "model_module_version": "1.5.0",
          "state": {
            "_model_module": "@jupyter-widgets/controls",
            "_model_module_version": "1.5.0",
            "_model_name": "ProgressStyleModel",
            "_view_count": null,
            "_view_module": "@jupyter-widgets/base",
            "_view_module_version": "1.2.0",
            "_view_name": "StyleView",
            "bar_color": null,
            "description_width": ""
          }
        },
        "16b6c11b49cc4bbaa597745f72b64641": {
          "model_module": "@jupyter-widgets/base",
          "model_name": "LayoutModel",
          "model_module_version": "1.2.0",
          "state": {
            "_model_module": "@jupyter-widgets/base",
            "_model_module_version": "1.2.0",
            "_model_name": "LayoutModel",
            "_view_count": null,
            "_view_module": "@jupyter-widgets/base",
            "_view_module_version": "1.2.0",
            "_view_name": "LayoutView",
            "align_content": null,
            "align_items": null,
            "align_self": null,
            "border": null,
            "bottom": null,
            "display": null,
            "flex": null,
            "flex_flow": null,
            "grid_area": null,
            "grid_auto_columns": null,
            "grid_auto_flow": null,
            "grid_auto_rows": null,
            "grid_column": null,
            "grid_gap": null,
            "grid_row": null,
            "grid_template_areas": null,
            "grid_template_columns": null,
            "grid_template_rows": null,
            "height": null,
            "justify_content": null,
            "justify_items": null,
            "left": null,
            "margin": null,
            "max_height": null,
            "max_width": null,
            "min_height": null,
            "min_width": null,
            "object_fit": null,
            "object_position": null,
            "order": null,
            "overflow": null,
            "overflow_x": null,
            "overflow_y": null,
            "padding": null,
            "right": null,
            "top": null,
            "visibility": null,
            "width": null
          }
        },
        "5602f0f599a642a8ba142c6298e7bcf3": {
          "model_module": "@jupyter-widgets/controls",
          "model_name": "DescriptionStyleModel",
          "model_module_version": "1.5.0",
          "state": {
            "_model_module": "@jupyter-widgets/controls",
            "_model_module_version": "1.5.0",
            "_model_name": "DescriptionStyleModel",
            "_view_count": null,
            "_view_module": "@jupyter-widgets/base",
            "_view_module_version": "1.2.0",
            "_view_name": "StyleView",
            "description_width": ""
          }
        },
        "a85e8fef4de74b6a95bc27e57eaae703": {
          "model_module": "@jupyter-widgets/controls",
          "model_name": "HBoxModel",
          "model_module_version": "1.5.0",
          "state": {
            "_dom_classes": [],
            "_model_module": "@jupyter-widgets/controls",
            "_model_module_version": "1.5.0",
            "_model_name": "HBoxModel",
            "_view_count": null,
            "_view_module": "@jupyter-widgets/controls",
            "_view_module_version": "1.5.0",
            "_view_name": "HBoxView",
            "box_style": "",
            "children": [
              "IPY_MODEL_7b62b2e55fa24100b211d7287350b17f",
              "IPY_MODEL_afe44d611d294be0a3b6f341a53d4767",
              "IPY_MODEL_3e7a3e5708b843ca9e3b57008665c386"
            ],
            "layout": "IPY_MODEL_656d596fb0f54e7586a6babc317c3add"
          }
        },
        "7b62b2e55fa24100b211d7287350b17f": {
          "model_module": "@jupyter-widgets/controls",
          "model_name": "HTMLModel",
          "model_module_version": "1.5.0",
          "state": {
            "_dom_classes": [],
            "_model_module": "@jupyter-widgets/controls",
            "_model_module_version": "1.5.0",
            "_model_name": "HTMLModel",
            "_view_count": null,
            "_view_module": "@jupyter-widgets/controls",
            "_view_module_version": "1.5.0",
            "_view_name": "HTMLView",
            "description": "",
            "description_tooltip": null,
            "layout": "IPY_MODEL_ac9cb4ec10944c00a3737c49f3cde93d",
            "placeholder": "​",
            "style": "IPY_MODEL_d14f5bf7fb0f45a6b517778dea5e0673",
            "value": "100%"
          }
        },
        "afe44d611d294be0a3b6f341a53d4767": {
          "model_module": "@jupyter-widgets/controls",
          "model_name": "FloatProgressModel",
          "model_module_version": "1.5.0",
          "state": {
            "_dom_classes": [],
            "_model_module": "@jupyter-widgets/controls",
            "_model_module_version": "1.5.0",
            "_model_name": "FloatProgressModel",
            "_view_count": null,
            "_view_module": "@jupyter-widgets/controls",
            "_view_module_version": "1.5.0",
            "_view_name": "ProgressView",
            "bar_style": "success",
            "description": "",
            "description_tooltip": null,
            "layout": "IPY_MODEL_190e911beb40475498de6f32aab1a0cd",
            "max": 15,
            "min": 0,
            "orientation": "horizontal",
            "style": "IPY_MODEL_39eb6e1ce77d4c6a9b8862570fb01500",
            "value": 15
          }
        },
        "3e7a3e5708b843ca9e3b57008665c386": {
          "model_module": "@jupyter-widgets/controls",
          "model_name": "HTMLModel",
          "model_module_version": "1.5.0",
          "state": {
            "_dom_classes": [],
            "_model_module": "@jupyter-widgets/controls",
            "_model_module_version": "1.5.0",
            "_model_name": "HTMLModel",
            "_view_count": null,
            "_view_module": "@jupyter-widgets/controls",
            "_view_module_version": "1.5.0",
            "_view_name": "HTMLView",
            "description": "",
            "description_tooltip": null,
            "layout": "IPY_MODEL_0d2a362515d5408ba0d12b66030659a0",
            "placeholder": "​",
            "style": "IPY_MODEL_f6a2c75b161c42ed9dbaf51878358399",
            "value": " 15/15 [03:45&lt;00:00, 15.05s/it]"
          }
        },
        "656d596fb0f54e7586a6babc317c3add": {
          "model_module": "@jupyter-widgets/base",
          "model_name": "LayoutModel",
          "model_module_version": "1.2.0",
          "state": {
            "_model_module": "@jupyter-widgets/base",
            "_model_module_version": "1.2.0",
            "_model_name": "LayoutModel",
            "_view_count": null,
            "_view_module": "@jupyter-widgets/base",
            "_view_module_version": "1.2.0",
            "_view_name": "LayoutView",
            "align_content": null,
            "align_items": null,
            "align_self": null,
            "border": null,
            "bottom": null,
            "display": null,
            "flex": null,
            "flex_flow": null,
            "grid_area": null,
            "grid_auto_columns": null,
            "grid_auto_flow": null,
            "grid_auto_rows": null,
            "grid_column": null,
            "grid_gap": null,
            "grid_row": null,
            "grid_template_areas": null,
            "grid_template_columns": null,
            "grid_template_rows": null,
            "height": null,
            "justify_content": null,
            "justify_items": null,
            "left": null,
            "margin": null,
            "max_height": null,
            "max_width": null,
            "min_height": null,
            "min_width": null,
            "object_fit": null,
            "object_position": null,
            "order": null,
            "overflow": null,
            "overflow_x": null,
            "overflow_y": null,
            "padding": null,
            "right": null,
            "top": null,
            "visibility": null,
            "width": null
          }
        },
        "ac9cb4ec10944c00a3737c49f3cde93d": {
          "model_module": "@jupyter-widgets/base",
          "model_name": "LayoutModel",
          "model_module_version": "1.2.0",
          "state": {
            "_model_module": "@jupyter-widgets/base",
            "_model_module_version": "1.2.0",
            "_model_name": "LayoutModel",
            "_view_count": null,
            "_view_module": "@jupyter-widgets/base",
            "_view_module_version": "1.2.0",
            "_view_name": "LayoutView",
            "align_content": null,
            "align_items": null,
            "align_self": null,
            "border": null,
            "bottom": null,
            "display": null,
            "flex": null,
            "flex_flow": null,
            "grid_area": null,
            "grid_auto_columns": null,
            "grid_auto_flow": null,
            "grid_auto_rows": null,
            "grid_column": null,
            "grid_gap": null,
            "grid_row": null,
            "grid_template_areas": null,
            "grid_template_columns": null,
            "grid_template_rows": null,
            "height": null,
            "justify_content": null,
            "justify_items": null,
            "left": null,
            "margin": null,
            "max_height": null,
            "max_width": null,
            "min_height": null,
            "min_width": null,
            "object_fit": null,
            "object_position": null,
            "order": null,
            "overflow": null,
            "overflow_x": null,
            "overflow_y": null,
            "padding": null,
            "right": null,
            "top": null,
            "visibility": null,
            "width": null
          }
        },
        "d14f5bf7fb0f45a6b517778dea5e0673": {
          "model_module": "@jupyter-widgets/controls",
          "model_name": "DescriptionStyleModel",
          "model_module_version": "1.5.0",
          "state": {
            "_model_module": "@jupyter-widgets/controls",
            "_model_module_version": "1.5.0",
            "_model_name": "DescriptionStyleModel",
            "_view_count": null,
            "_view_module": "@jupyter-widgets/base",
            "_view_module_version": "1.2.0",
            "_view_name": "StyleView",
            "description_width": ""
          }
        },
        "190e911beb40475498de6f32aab1a0cd": {
          "model_module": "@jupyter-widgets/base",
          "model_name": "LayoutModel",
          "model_module_version": "1.2.0",
          "state": {
            "_model_module": "@jupyter-widgets/base",
            "_model_module_version": "1.2.0",
            "_model_name": "LayoutModel",
            "_view_count": null,
            "_view_module": "@jupyter-widgets/base",
            "_view_module_version": "1.2.0",
            "_view_name": "LayoutView",
            "align_content": null,
            "align_items": null,
            "align_self": null,
            "border": null,
            "bottom": null,
            "display": null,
            "flex": null,
            "flex_flow": null,
            "grid_area": null,
            "grid_auto_columns": null,
            "grid_auto_flow": null,
            "grid_auto_rows": null,
            "grid_column": null,
            "grid_gap": null,
            "grid_row": null,
            "grid_template_areas": null,
            "grid_template_columns": null,
            "grid_template_rows": null,
            "height": null,
            "justify_content": null,
            "justify_items": null,
            "left": null,
            "margin": null,
            "max_height": null,
            "max_width": null,
            "min_height": null,
            "min_width": null,
            "object_fit": null,
            "object_position": null,
            "order": null,
            "overflow": null,
            "overflow_x": null,
            "overflow_y": null,
            "padding": null,
            "right": null,
            "top": null,
            "visibility": null,
            "width": null
          }
        },
        "39eb6e1ce77d4c6a9b8862570fb01500": {
          "model_module": "@jupyter-widgets/controls",
          "model_name": "ProgressStyleModel",
          "model_module_version": "1.5.0",
          "state": {
            "_model_module": "@jupyter-widgets/controls",
            "_model_module_version": "1.5.0",
            "_model_name": "ProgressStyleModel",
            "_view_count": null,
            "_view_module": "@jupyter-widgets/base",
            "_view_module_version": "1.2.0",
            "_view_name": "StyleView",
            "bar_color": null,
            "description_width": ""
          }
        },
        "0d2a362515d5408ba0d12b66030659a0": {
          "model_module": "@jupyter-widgets/base",
          "model_name": "LayoutModel",
          "model_module_version": "1.2.0",
          "state": {
            "_model_module": "@jupyter-widgets/base",
            "_model_module_version": "1.2.0",
            "_model_name": "LayoutModel",
            "_view_count": null,
            "_view_module": "@jupyter-widgets/base",
            "_view_module_version": "1.2.0",
            "_view_name": "LayoutView",
            "align_content": null,
            "align_items": null,
            "align_self": null,
            "border": null,
            "bottom": null,
            "display": null,
            "flex": null,
            "flex_flow": null,
            "grid_area": null,
            "grid_auto_columns": null,
            "grid_auto_flow": null,
            "grid_auto_rows": null,
            "grid_column": null,
            "grid_gap": null,
            "grid_row": null,
            "grid_template_areas": null,
            "grid_template_columns": null,
            "grid_template_rows": null,
            "height": null,
            "justify_content": null,
            "justify_items": null,
            "left": null,
            "margin": null,
            "max_height": null,
            "max_width": null,
            "min_height": null,
            "min_width": null,
            "object_fit": null,
            "object_position": null,
            "order": null,
            "overflow": null,
            "overflow_x": null,
            "overflow_y": null,
            "padding": null,
            "right": null,
            "top": null,
            "visibility": null,
            "width": null
          }
        },
        "f6a2c75b161c42ed9dbaf51878358399": {
          "model_module": "@jupyter-widgets/controls",
          "model_name": "DescriptionStyleModel",
          "model_module_version": "1.5.0",
          "state": {
            "_model_module": "@jupyter-widgets/controls",
            "_model_module_version": "1.5.0",
            "_model_name": "DescriptionStyleModel",
            "_view_count": null,
            "_view_module": "@jupyter-widgets/base",
            "_view_module_version": "1.2.0",
            "_view_name": "StyleView",
            "description_width": ""
          }
        },
        "e58e0dbfcc704715bb25081de9de5559": {
          "model_module": "@jupyter-widgets/controls",
          "model_name": "HBoxModel",
          "model_module_version": "1.5.0",
          "state": {
            "_dom_classes": [],
            "_model_module": "@jupyter-widgets/controls",
            "_model_module_version": "1.5.0",
            "_model_name": "HBoxModel",
            "_view_count": null,
            "_view_module": "@jupyter-widgets/controls",
            "_view_module_version": "1.5.0",
            "_view_name": "HBoxView",
            "box_style": "",
            "children": [
              "IPY_MODEL_6c48cdb409a149d9b346a3cbd977d14b",
              "IPY_MODEL_7f5056acc43f44918f17b56b77d4d6e6",
              "IPY_MODEL_1472b1f2769246ac861ad7f8859ba048"
            ],
            "layout": "IPY_MODEL_7a36a9ffe0d14c0685eb368c78898fcb"
          }
        },
        "6c48cdb409a149d9b346a3cbd977d14b": {
          "model_module": "@jupyter-widgets/controls",
          "model_name": "HTMLModel",
          "model_module_version": "1.5.0",
          "state": {
            "_dom_classes": [],
            "_model_module": "@jupyter-widgets/controls",
            "_model_module_version": "1.5.0",
            "_model_name": "HTMLModel",
            "_view_count": null,
            "_view_module": "@jupyter-widgets/controls",
            "_view_module_version": "1.5.0",
            "_view_name": "HTMLView",
            "description": "",
            "description_tooltip": null,
            "layout": "IPY_MODEL_337c763a750c4eefa91ed436f35f9baf",
            "placeholder": "​",
            "style": "IPY_MODEL_fa166ff73a4f477789239e25212cc52a",
            "value": "100%"
          }
        },
        "7f5056acc43f44918f17b56b77d4d6e6": {
          "model_module": "@jupyter-widgets/controls",
          "model_name": "FloatProgressModel",
          "model_module_version": "1.5.0",
          "state": {
            "_dom_classes": [],
            "_model_module": "@jupyter-widgets/controls",
            "_model_module_version": "1.5.0",
            "_model_name": "FloatProgressModel",
            "_view_count": null,
            "_view_module": "@jupyter-widgets/controls",
            "_view_module_version": "1.5.0",
            "_view_name": "ProgressView",
            "bar_style": "success",
            "description": "",
            "description_tooltip": null,
            "layout": "IPY_MODEL_5dfb155c1e84470b878bc71682c5e0b1",
            "max": 15,
            "min": 0,
            "orientation": "horizontal",
            "style": "IPY_MODEL_95c539cc2b374f768d8074553a1ce384",
            "value": 15
          }
        },
        "1472b1f2769246ac861ad7f8859ba048": {
          "model_module": "@jupyter-widgets/controls",
          "model_name": "HTMLModel",
          "model_module_version": "1.5.0",
          "state": {
            "_dom_classes": [],
            "_model_module": "@jupyter-widgets/controls",
            "_model_module_version": "1.5.0",
            "_model_name": "HTMLModel",
            "_view_count": null,
            "_view_module": "@jupyter-widgets/controls",
            "_view_module_version": "1.5.0",
            "_view_name": "HTMLView",
            "description": "",
            "description_tooltip": null,
            "layout": "IPY_MODEL_e679cfba0eb04c9299f4f10575a27003",
            "placeholder": "​",
            "style": "IPY_MODEL_3f4153a9951f423cb2faed722011697a",
            "value": " 15/15 [03:34&lt;00:00, 14.33s/it]"
          }
        },
        "7a36a9ffe0d14c0685eb368c78898fcb": {
          "model_module": "@jupyter-widgets/base",
          "model_name": "LayoutModel",
          "model_module_version": "1.2.0",
          "state": {
            "_model_module": "@jupyter-widgets/base",
            "_model_module_version": "1.2.0",
            "_model_name": "LayoutModel",
            "_view_count": null,
            "_view_module": "@jupyter-widgets/base",
            "_view_module_version": "1.2.0",
            "_view_name": "LayoutView",
            "align_content": null,
            "align_items": null,
            "align_self": null,
            "border": null,
            "bottom": null,
            "display": null,
            "flex": null,
            "flex_flow": null,
            "grid_area": null,
            "grid_auto_columns": null,
            "grid_auto_flow": null,
            "grid_auto_rows": null,
            "grid_column": null,
            "grid_gap": null,
            "grid_row": null,
            "grid_template_areas": null,
            "grid_template_columns": null,
            "grid_template_rows": null,
            "height": null,
            "justify_content": null,
            "justify_items": null,
            "left": null,
            "margin": null,
            "max_height": null,
            "max_width": null,
            "min_height": null,
            "min_width": null,
            "object_fit": null,
            "object_position": null,
            "order": null,
            "overflow": null,
            "overflow_x": null,
            "overflow_y": null,
            "padding": null,
            "right": null,
            "top": null,
            "visibility": null,
            "width": null
          }
        },
        "337c763a750c4eefa91ed436f35f9baf": {
          "model_module": "@jupyter-widgets/base",
          "model_name": "LayoutModel",
          "model_module_version": "1.2.0",
          "state": {
            "_model_module": "@jupyter-widgets/base",
            "_model_module_version": "1.2.0",
            "_model_name": "LayoutModel",
            "_view_count": null,
            "_view_module": "@jupyter-widgets/base",
            "_view_module_version": "1.2.0",
            "_view_name": "LayoutView",
            "align_content": null,
            "align_items": null,
            "align_self": null,
            "border": null,
            "bottom": null,
            "display": null,
            "flex": null,
            "flex_flow": null,
            "grid_area": null,
            "grid_auto_columns": null,
            "grid_auto_flow": null,
            "grid_auto_rows": null,
            "grid_column": null,
            "grid_gap": null,
            "grid_row": null,
            "grid_template_areas": null,
            "grid_template_columns": null,
            "grid_template_rows": null,
            "height": null,
            "justify_content": null,
            "justify_items": null,
            "left": null,
            "margin": null,
            "max_height": null,
            "max_width": null,
            "min_height": null,
            "min_width": null,
            "object_fit": null,
            "object_position": null,
            "order": null,
            "overflow": null,
            "overflow_x": null,
            "overflow_y": null,
            "padding": null,
            "right": null,
            "top": null,
            "visibility": null,
            "width": null
          }
        },
        "fa166ff73a4f477789239e25212cc52a": {
          "model_module": "@jupyter-widgets/controls",
          "model_name": "DescriptionStyleModel",
          "model_module_version": "1.5.0",
          "state": {
            "_model_module": "@jupyter-widgets/controls",
            "_model_module_version": "1.5.0",
            "_model_name": "DescriptionStyleModel",
            "_view_count": null,
            "_view_module": "@jupyter-widgets/base",
            "_view_module_version": "1.2.0",
            "_view_name": "StyleView",
            "description_width": ""
          }
        },
        "5dfb155c1e84470b878bc71682c5e0b1": {
          "model_module": "@jupyter-widgets/base",
          "model_name": "LayoutModel",
          "model_module_version": "1.2.0",
          "state": {
            "_model_module": "@jupyter-widgets/base",
            "_model_module_version": "1.2.0",
            "_model_name": "LayoutModel",
            "_view_count": null,
            "_view_module": "@jupyter-widgets/base",
            "_view_module_version": "1.2.0",
            "_view_name": "LayoutView",
            "align_content": null,
            "align_items": null,
            "align_self": null,
            "border": null,
            "bottom": null,
            "display": null,
            "flex": null,
            "flex_flow": null,
            "grid_area": null,
            "grid_auto_columns": null,
            "grid_auto_flow": null,
            "grid_auto_rows": null,
            "grid_column": null,
            "grid_gap": null,
            "grid_row": null,
            "grid_template_areas": null,
            "grid_template_columns": null,
            "grid_template_rows": null,
            "height": null,
            "justify_content": null,
            "justify_items": null,
            "left": null,
            "margin": null,
            "max_height": null,
            "max_width": null,
            "min_height": null,
            "min_width": null,
            "object_fit": null,
            "object_position": null,
            "order": null,
            "overflow": null,
            "overflow_x": null,
            "overflow_y": null,
            "padding": null,
            "right": null,
            "top": null,
            "visibility": null,
            "width": null
          }
        },
        "95c539cc2b374f768d8074553a1ce384": {
          "model_module": "@jupyter-widgets/controls",
          "model_name": "ProgressStyleModel",
          "model_module_version": "1.5.0",
          "state": {
            "_model_module": "@jupyter-widgets/controls",
            "_model_module_version": "1.5.0",
            "_model_name": "ProgressStyleModel",
            "_view_count": null,
            "_view_module": "@jupyter-widgets/base",
            "_view_module_version": "1.2.0",
            "_view_name": "StyleView",
            "bar_color": null,
            "description_width": ""
          }
        },
        "e679cfba0eb04c9299f4f10575a27003": {
          "model_module": "@jupyter-widgets/base",
          "model_name": "LayoutModel",
          "model_module_version": "1.2.0",
          "state": {
            "_model_module": "@jupyter-widgets/base",
            "_model_module_version": "1.2.0",
            "_model_name": "LayoutModel",
            "_view_count": null,
            "_view_module": "@jupyter-widgets/base",
            "_view_module_version": "1.2.0",
            "_view_name": "LayoutView",
            "align_content": null,
            "align_items": null,
            "align_self": null,
            "border": null,
            "bottom": null,
            "display": null,
            "flex": null,
            "flex_flow": null,
            "grid_area": null,
            "grid_auto_columns": null,
            "grid_auto_flow": null,
            "grid_auto_rows": null,
            "grid_column": null,
            "grid_gap": null,
            "grid_row": null,
            "grid_template_areas": null,
            "grid_template_columns": null,
            "grid_template_rows": null,
            "height": null,
            "justify_content": null,
            "justify_items": null,
            "left": null,
            "margin": null,
            "max_height": null,
            "max_width": null,
            "min_height": null,
            "min_width": null,
            "object_fit": null,
            "object_position": null,
            "order": null,
            "overflow": null,
            "overflow_x": null,
            "overflow_y": null,
            "padding": null,
            "right": null,
            "top": null,
            "visibility": null,
            "width": null
          }
        },
        "3f4153a9951f423cb2faed722011697a": {
          "model_module": "@jupyter-widgets/controls",
          "model_name": "DescriptionStyleModel",
          "model_module_version": "1.5.0",
          "state": {
            "_model_module": "@jupyter-widgets/controls",
            "_model_module_version": "1.5.0",
            "_model_name": "DescriptionStyleModel",
            "_view_count": null,
            "_view_module": "@jupyter-widgets/base",
            "_view_module_version": "1.2.0",
            "_view_name": "StyleView",
            "description_width": ""
          }
        },
        "4e72e147303743f1a25a069216bc863f": {
          "model_module": "@jupyter-widgets/controls",
          "model_name": "HBoxModel",
          "model_module_version": "1.5.0",
          "state": {
            "_dom_classes": [],
            "_model_module": "@jupyter-widgets/controls",
            "_model_module_version": "1.5.0",
            "_model_name": "HBoxModel",
            "_view_count": null,
            "_view_module": "@jupyter-widgets/controls",
            "_view_module_version": "1.5.0",
            "_view_name": "HBoxView",
            "box_style": "",
            "children": [
              "IPY_MODEL_353634f02a384b73991971a6580e3adf",
              "IPY_MODEL_8545d180d1ae4fa1a06cd675b4a0eba4",
              "IPY_MODEL_7194e8a751424ff7afd2a857724526a7"
            ],
            "layout": "IPY_MODEL_06b4576a367a40f8a2afdb982a3e5a51"
          }
        },
        "353634f02a384b73991971a6580e3adf": {
          "model_module": "@jupyter-widgets/controls",
          "model_name": "HTMLModel",
          "model_module_version": "1.5.0",
          "state": {
            "_dom_classes": [],
            "_model_module": "@jupyter-widgets/controls",
            "_model_module_version": "1.5.0",
            "_model_name": "HTMLModel",
            "_view_count": null,
            "_view_module": "@jupyter-widgets/controls",
            "_view_module_version": "1.5.0",
            "_view_name": "HTMLView",
            "description": "",
            "description_tooltip": null,
            "layout": "IPY_MODEL_c7d44f76f3da45418e0810f119c8b681",
            "placeholder": "​",
            "style": "IPY_MODEL_a765a7ca23644df4adb3e530c5fa7323",
            "value": "100%"
          }
        },
        "8545d180d1ae4fa1a06cd675b4a0eba4": {
          "model_module": "@jupyter-widgets/controls",
          "model_name": "FloatProgressModel",
          "model_module_version": "1.5.0",
          "state": {
            "_dom_classes": [],
            "_model_module": "@jupyter-widgets/controls",
            "_model_module_version": "1.5.0",
            "_model_name": "FloatProgressModel",
            "_view_count": null,
            "_view_module": "@jupyter-widgets/controls",
            "_view_module_version": "1.5.0",
            "_view_name": "ProgressView",
            "bar_style": "success",
            "description": "",
            "description_tooltip": null,
            "layout": "IPY_MODEL_ec0c26b5007b48c7a1bd50cfecaaad55",
            "max": 15,
            "min": 0,
            "orientation": "horizontal",
            "style": "IPY_MODEL_090c616e0b02410580a96eb512468431",
            "value": 15
          }
        },
        "7194e8a751424ff7afd2a857724526a7": {
          "model_module": "@jupyter-widgets/controls",
          "model_name": "HTMLModel",
          "model_module_version": "1.5.0",
          "state": {
            "_dom_classes": [],
            "_model_module": "@jupyter-widgets/controls",
            "_model_module_version": "1.5.0",
            "_model_name": "HTMLModel",
            "_view_count": null,
            "_view_module": "@jupyter-widgets/controls",
            "_view_module_version": "1.5.0",
            "_view_name": "HTMLView",
            "description": "",
            "description_tooltip": null,
            "layout": "IPY_MODEL_86733a5cf9e24428b70ef98d80cf4a0f",
            "placeholder": "​",
            "style": "IPY_MODEL_1b72e03249fd41f5bb5fc299380da8af",
            "value": " 15/15 [03:37&lt;00:00, 14.48s/it]"
          }
        },
        "06b4576a367a40f8a2afdb982a3e5a51": {
          "model_module": "@jupyter-widgets/base",
          "model_name": "LayoutModel",
          "model_module_version": "1.2.0",
          "state": {
            "_model_module": "@jupyter-widgets/base",
            "_model_module_version": "1.2.0",
            "_model_name": "LayoutModel",
            "_view_count": null,
            "_view_module": "@jupyter-widgets/base",
            "_view_module_version": "1.2.0",
            "_view_name": "LayoutView",
            "align_content": null,
            "align_items": null,
            "align_self": null,
            "border": null,
            "bottom": null,
            "display": null,
            "flex": null,
            "flex_flow": null,
            "grid_area": null,
            "grid_auto_columns": null,
            "grid_auto_flow": null,
            "grid_auto_rows": null,
            "grid_column": null,
            "grid_gap": null,
            "grid_row": null,
            "grid_template_areas": null,
            "grid_template_columns": null,
            "grid_template_rows": null,
            "height": null,
            "justify_content": null,
            "justify_items": null,
            "left": null,
            "margin": null,
            "max_height": null,
            "max_width": null,
            "min_height": null,
            "min_width": null,
            "object_fit": null,
            "object_position": null,
            "order": null,
            "overflow": null,
            "overflow_x": null,
            "overflow_y": null,
            "padding": null,
            "right": null,
            "top": null,
            "visibility": null,
            "width": null
          }
        },
        "c7d44f76f3da45418e0810f119c8b681": {
          "model_module": "@jupyter-widgets/base",
          "model_name": "LayoutModel",
          "model_module_version": "1.2.0",
          "state": {
            "_model_module": "@jupyter-widgets/base",
            "_model_module_version": "1.2.0",
            "_model_name": "LayoutModel",
            "_view_count": null,
            "_view_module": "@jupyter-widgets/base",
            "_view_module_version": "1.2.0",
            "_view_name": "LayoutView",
            "align_content": null,
            "align_items": null,
            "align_self": null,
            "border": null,
            "bottom": null,
            "display": null,
            "flex": null,
            "flex_flow": null,
            "grid_area": null,
            "grid_auto_columns": null,
            "grid_auto_flow": null,
            "grid_auto_rows": null,
            "grid_column": null,
            "grid_gap": null,
            "grid_row": null,
            "grid_template_areas": null,
            "grid_template_columns": null,
            "grid_template_rows": null,
            "height": null,
            "justify_content": null,
            "justify_items": null,
            "left": null,
            "margin": null,
            "max_height": null,
            "max_width": null,
            "min_height": null,
            "min_width": null,
            "object_fit": null,
            "object_position": null,
            "order": null,
            "overflow": null,
            "overflow_x": null,
            "overflow_y": null,
            "padding": null,
            "right": null,
            "top": null,
            "visibility": null,
            "width": null
          }
        },
        "a765a7ca23644df4adb3e530c5fa7323": {
          "model_module": "@jupyter-widgets/controls",
          "model_name": "DescriptionStyleModel",
          "model_module_version": "1.5.0",
          "state": {
            "_model_module": "@jupyter-widgets/controls",
            "_model_module_version": "1.5.0",
            "_model_name": "DescriptionStyleModel",
            "_view_count": null,
            "_view_module": "@jupyter-widgets/base",
            "_view_module_version": "1.2.0",
            "_view_name": "StyleView",
            "description_width": ""
          }
        },
        "ec0c26b5007b48c7a1bd50cfecaaad55": {
          "model_module": "@jupyter-widgets/base",
          "model_name": "LayoutModel",
          "model_module_version": "1.2.0",
          "state": {
            "_model_module": "@jupyter-widgets/base",
            "_model_module_version": "1.2.0",
            "_model_name": "LayoutModel",
            "_view_count": null,
            "_view_module": "@jupyter-widgets/base",
            "_view_module_version": "1.2.0",
            "_view_name": "LayoutView",
            "align_content": null,
            "align_items": null,
            "align_self": null,
            "border": null,
            "bottom": null,
            "display": null,
            "flex": null,
            "flex_flow": null,
            "grid_area": null,
            "grid_auto_columns": null,
            "grid_auto_flow": null,
            "grid_auto_rows": null,
            "grid_column": null,
            "grid_gap": null,
            "grid_row": null,
            "grid_template_areas": null,
            "grid_template_columns": null,
            "grid_template_rows": null,
            "height": null,
            "justify_content": null,
            "justify_items": null,
            "left": null,
            "margin": null,
            "max_height": null,
            "max_width": null,
            "min_height": null,
            "min_width": null,
            "object_fit": null,
            "object_position": null,
            "order": null,
            "overflow": null,
            "overflow_x": null,
            "overflow_y": null,
            "padding": null,
            "right": null,
            "top": null,
            "visibility": null,
            "width": null
          }
        },
        "090c616e0b02410580a96eb512468431": {
          "model_module": "@jupyter-widgets/controls",
          "model_name": "ProgressStyleModel",
          "model_module_version": "1.5.0",
          "state": {
            "_model_module": "@jupyter-widgets/controls",
            "_model_module_version": "1.5.0",
            "_model_name": "ProgressStyleModel",
            "_view_count": null,
            "_view_module": "@jupyter-widgets/base",
            "_view_module_version": "1.2.0",
            "_view_name": "StyleView",
            "bar_color": null,
            "description_width": ""
          }
        },
        "86733a5cf9e24428b70ef98d80cf4a0f": {
          "model_module": "@jupyter-widgets/base",
          "model_name": "LayoutModel",
          "model_module_version": "1.2.0",
          "state": {
            "_model_module": "@jupyter-widgets/base",
            "_model_module_version": "1.2.0",
            "_model_name": "LayoutModel",
            "_view_count": null,
            "_view_module": "@jupyter-widgets/base",
            "_view_module_version": "1.2.0",
            "_view_name": "LayoutView",
            "align_content": null,
            "align_items": null,
            "align_self": null,
            "border": null,
            "bottom": null,
            "display": null,
            "flex": null,
            "flex_flow": null,
            "grid_area": null,
            "grid_auto_columns": null,
            "grid_auto_flow": null,
            "grid_auto_rows": null,
            "grid_column": null,
            "grid_gap": null,
            "grid_row": null,
            "grid_template_areas": null,
            "grid_template_columns": null,
            "grid_template_rows": null,
            "height": null,
            "justify_content": null,
            "justify_items": null,
            "left": null,
            "margin": null,
            "max_height": null,
            "max_width": null,
            "min_height": null,
            "min_width": null,
            "object_fit": null,
            "object_position": null,
            "order": null,
            "overflow": null,
            "overflow_x": null,
            "overflow_y": null,
            "padding": null,
            "right": null,
            "top": null,
            "visibility": null,
            "width": null
          }
        },
        "1b72e03249fd41f5bb5fc299380da8af": {
          "model_module": "@jupyter-widgets/controls",
          "model_name": "DescriptionStyleModel",
          "model_module_version": "1.5.0",
          "state": {
            "_model_module": "@jupyter-widgets/controls",
            "_model_module_version": "1.5.0",
            "_model_name": "DescriptionStyleModel",
            "_view_count": null,
            "_view_module": "@jupyter-widgets/base",
            "_view_module_version": "1.2.0",
            "_view_name": "StyleView",
            "description_width": ""
          }
        }
      }
    },
    "accelerator": "GPU"
  },
  "cells": [
    {
      "cell_type": "code",
      "execution_count": 1,
      "metadata": {
        "colab": {
          "base_uri": "https://localhost:8080/"
        },
        "id": "VciyS7I5WuUi",
        "outputId": "a734a8c7-b00c-45ad-8bb8-dc30e930e836",
        "collapsed": true
      },
      "outputs": [
        {
          "output_type": "stream",
          "name": "stdout",
          "text": [
            "Requirement already satisfied: torch in /usr/local/lib/python3.10/dist-packages (2.4.1+cu121)\n",
            "Requirement already satisfied: matplotlib in /usr/local/lib/python3.10/dist-packages (3.7.1)\n",
            "Requirement already satisfied: numpy in /usr/local/lib/python3.10/dist-packages (1.26.4)\n",
            "Requirement already satisfied: tqdm in /usr/local/lib/python3.10/dist-packages (4.66.5)\n",
            "Requirement already satisfied: filelock in /usr/local/lib/python3.10/dist-packages (from torch) (3.16.1)\n",
            "Requirement already satisfied: typing-extensions>=4.8.0 in /usr/local/lib/python3.10/dist-packages (from torch) (4.12.2)\n",
            "Requirement already satisfied: sympy in /usr/local/lib/python3.10/dist-packages (from torch) (1.13.3)\n",
            "Requirement already satisfied: networkx in /usr/local/lib/python3.10/dist-packages (from torch) (3.3)\n",
            "Requirement already satisfied: jinja2 in /usr/local/lib/python3.10/dist-packages (from torch) (3.1.4)\n",
            "Requirement already satisfied: fsspec in /usr/local/lib/python3.10/dist-packages (from torch) (2024.6.1)\n",
            "Requirement already satisfied: contourpy>=1.0.1 in /usr/local/lib/python3.10/dist-packages (from matplotlib) (1.3.0)\n",
            "Requirement already satisfied: cycler>=0.10 in /usr/local/lib/python3.10/dist-packages (from matplotlib) (0.12.1)\n",
            "Requirement already satisfied: fonttools>=4.22.0 in /usr/local/lib/python3.10/dist-packages (from matplotlib) (4.53.1)\n",
            "Requirement already satisfied: kiwisolver>=1.0.1 in /usr/local/lib/python3.10/dist-packages (from matplotlib) (1.4.7)\n",
            "Requirement already satisfied: packaging>=20.0 in /usr/local/lib/python3.10/dist-packages (from matplotlib) (24.1)\n",
            "Requirement already satisfied: pillow>=6.2.0 in /usr/local/lib/python3.10/dist-packages (from matplotlib) (10.4.0)\n",
            "Requirement already satisfied: pyparsing>=2.3.1 in /usr/local/lib/python3.10/dist-packages (from matplotlib) (3.1.4)\n",
            "Requirement already satisfied: python-dateutil>=2.7 in /usr/local/lib/python3.10/dist-packages (from matplotlib) (2.8.2)\n",
            "Requirement already satisfied: six>=1.5 in /usr/local/lib/python3.10/dist-packages (from python-dateutil>=2.7->matplotlib) (1.16.0)\n",
            "Requirement already satisfied: MarkupSafe>=2.0 in /usr/local/lib/python3.10/dist-packages (from jinja2->torch) (2.1.5)\n",
            "Requirement already satisfied: mpmath<1.4,>=1.1.0 in /usr/local/lib/python3.10/dist-packages (from sympy->torch) (1.3.0)\n"
          ]
        }
      ],
      "source": [
        "%pip install torch matplotlib numpy tqdm"
      ]
    },
    {
      "cell_type": "code",
      "source": [
        "import torch\n",
        "from torch import nn\n",
        "import numpy as np\n",
        "\n",
        "%matplotlib inline\n",
        "import matplotlib.pyplot as plt"
      ],
      "metadata": {
        "id": "-ubIUn_ZW9C0"
      },
      "execution_count": 56,
      "outputs": []
    },
    {
      "cell_type": "code",
      "source": [
        "seed = 123\n",
        "np.random.seed(seed)\n",
        "torch.manual_seed(seed)\n",
        "device = torch.device(\"cuda\" if torch.cuda.is_available() else \"cpu\")"
      ],
      "metadata": {
        "id": "mkD9xlZ2XWwU"
      },
      "execution_count": 57,
      "outputs": []
    },
    {
      "cell_type": "code",
      "source": [
        "from google.colab import drive\n",
        "drive.mount(\"/content/drive\")"
      ],
      "metadata": {
        "colab": {
          "base_uri": "https://localhost:8080/"
        },
        "id": "MphAooRPGNQO",
        "outputId": "5637074c-cbed-4319-e14d-e6e6faef4a91"
      },
      "execution_count": 58,
      "outputs": [
        {
          "output_type": "stream",
          "name": "stdout",
          "text": [
            "Drive already mounted at /content/drive; to attempt to forcibly remount, call drive.mount(\"/content/drive\", force_remount=True).\n"
          ]
        }
      ]
    },
    {
      "cell_type": "code",
      "source": [
        "from zipfile import ZipFile\n",
        "\n",
        "def load_ptb_data(root_dir, which):\n",
        "    \"\"\"\n",
        "    Arguments:\n",
        "        root_dir (string): Directory containing the data files.\n",
        "        which (string): \"train\", \"test\", or \"val\" dataset\n",
        "    \"\"\"\n",
        "    d = {\"train\": 1, \"test\": 5, \"val\": 7}\n",
        "    with ZipFile(root_dir, \"r\") as zip_ref:\n",
        "        file_name = zip_ref.namelist()[d[which]]\n",
        "        with zip_ref.open(file_name) as file:\n",
        "            words = []\n",
        "            for line in file:\n",
        "                words += line.decode(\"utf-8\").split(\" \")\n",
        "                words += [\"<eos>\"]\n",
        "            if which == \"train\":\n",
        "              global word_to_index\n",
        "              word_to_index = {word: idx for idx, word in enumerate(set(words))}\n",
        "              global index_to_word\n",
        "              index_to_word = {idx: word for idx, word in enumerate(set(words))}\n",
        "            data = np.array([word_to_index[word] for word in words], dtype=np.int32)\n",
        "            return data\n",
        "\n",
        "\n",
        "train_set = load_ptb_data(root_dir=\"./drive/MyDrive/Colab Notebooks/ptb_data.zip\", which=\"train\")\n",
        "test_set = load_ptb_data(root_dir=\"./drive/MyDrive/Colab Notebooks/ptb_data.zip\", which=\"test\")\n",
        "val_set = load_ptb_data(root_dir=\"./drive/MyDrive/Colab Notebooks/ptb_data.zip\", which=\"val\")\n",
        "\n",
        "x = val_set[:20]\n",
        "[index_to_word[i] for i in x]"
      ],
      "metadata": {
        "colab": {
          "base_uri": "https://localhost:8080/"
        },
        "id": "kPCiKVe8vc6J",
        "outputId": "2fba1f6f-dbec-465b-d3aa-64e5c7009958"
      },
      "execution_count": 81,
      "outputs": [
        {
          "output_type": "execute_result",
          "data": {
            "text/plain": [
              "['',\n",
              " 'consumers',\n",
              " 'may',\n",
              " 'want',\n",
              " 'to',\n",
              " 'move',\n",
              " 'their',\n",
              " 'telephones',\n",
              " 'a',\n",
              " 'little',\n",
              " 'closer',\n",
              " 'to',\n",
              " 'the',\n",
              " 'tv',\n",
              " 'set',\n",
              " '\\n',\n",
              " '<eos>',\n",
              " '',\n",
              " '<unk>',\n",
              " '<unk>']"
            ]
          },
          "metadata": {},
          "execution_count": 81
        }
      ]
    },
    {
      "cell_type": "code",
      "source": [
        "assert (len(index_to_word)) == (max(train_set)+1) == (max(val_set)+1)"
      ],
      "metadata": {
        "id": "HaMx0AbK4ODO"
      },
      "execution_count": 73,
      "outputs": []
    },
    {
      "cell_type": "code",
      "source": [
        "from tqdm.notebook import tqdm\n",
        "import math\n",
        "\n",
        "hidden_dim = 200\n",
        "seq_len = 20\n",
        "batch_size = 20\n",
        "\n",
        "def initialize_weights(model):\n",
        "    for name, param in model.named_parameters():\n",
        "        if \"weight\" in name:\n",
        "            nn.init.uniform_(param, -0.1, 0.1)\n",
        "        elif \"bias\" in name:\n",
        "            nn.init.zeros_(param)\n",
        "\n",
        "\n",
        "def train(model, train_set, val_set, loss_fn, optimizer, epochs=15, gru=False):\n",
        "    # initialize_weights(model)\n",
        "\n",
        "    perplexities = []\n",
        "    test_perplexities = []\n",
        "\n",
        "    try:\n",
        "        # move data to GPU\n",
        "        train_set = torch.tensor(train_set).to(device)\n",
        "        val_set = torch.tensor(val_set).to(device)\n",
        "\n",
        "        for epoch in tqdm(range(epochs)):\n",
        "            print(f\"Epoch: {epoch}\")\n",
        "\n",
        "            if epoch > 4:\n",
        "                # reduce learning rate\n",
        "                for g in optimizer.param_groups:\n",
        "                    g[\"lr\"] *= 0.5\n",
        "\n",
        "            model.train()\n",
        "            train_loss = train_epoch(model, train_set, loss_fn, optimizer, gru)\n",
        "            train_perplexity = math.exp(train_loss)\n",
        "            perplexities.append(train_perplexity)\n",
        "            print(f\"Train Perplexity: {train_perplexity:.4f}\")\n",
        "\n",
        "            model.eval()\n",
        "            val_loss = evaluate(model, val_set, loss_fn, gru)\n",
        "            val_perplexity = math.exp(val_loss)\n",
        "            test_perplexities.append(val_perplexity)\n",
        "            print(f\"Val Perplexity: {val_perplexity:.4f}\")\n",
        "\n",
        "    except KeyboardInterrupt:\n",
        "        print(\"Exiting...\")\n",
        "\n",
        "    return perplexities, test_perplexities\n",
        "\n",
        "def train_epoch(model, dataset, loss_fn, optimizer, gru):\n",
        "    total_loss = 0\n",
        "    count = 0\n",
        "    data_ptr = 0\n",
        "\n",
        "    hn = torch.zeros((2, batch_size, hidden_dim)).to(device)\n",
        "    if not gru:\n",
        "        cn = torch.zeros((2, batch_size, hidden_dim)).to(device)\n",
        "\n",
        "    while data_ptr + seq_len * batch_size + 1 <= len(dataset):\n",
        "        optimizer.zero_grad()\n",
        "\n",
        "        data_chunk = dataset[data_ptr:data_ptr + seq_len*batch_size].reshape((batch_size, seq_len))\n",
        "        target = dataset[data_ptr+1:data_ptr+1+seq_len*batch_size].reshape((batch_size, seq_len))\n",
        "\n",
        "        if gru:\n",
        "            outputs, hn = model(data_chunk, hn.detach())\n",
        "        else:\n",
        "            outputs, (hn, cn) = model(data_chunk, (hn.detach(), cn.detach()))\n",
        "        loss = loss_fn(outputs.transpose(1, 2), target.long())\n",
        "\n",
        "        loss.backward()\n",
        "        torch.nn.utils.clip_grad_norm_(model.parameters(), max_norm=5.0)\n",
        "        optimizer.step()\n",
        "\n",
        "        total_loss += loss.item()\n",
        "        count += 1\n",
        "        data_ptr += seq_len * batch_size\n",
        "\n",
        "    return total_loss / count\n",
        "\n",
        "def evaluate(model, dataset, loss_fn, gru):\n",
        "    total_loss = 0\n",
        "    count = 0\n",
        "    data_ptr = 0\n",
        "\n",
        "    hn = torch.zeros((2, batch_size, hidden_dim)).to(device)\n",
        "    if not gru:\n",
        "        cn = torch.zeros((2, batch_size, hidden_dim)).to(device)\n",
        "\n",
        "    with torch.no_grad():\n",
        "        while data_ptr + seq_len * batch_size + 1 <= len(dataset):\n",
        "            data_chunk = dataset[data_ptr:data_ptr + seq_len*batch_size].reshape((batch_size, seq_len))\n",
        "            target = dataset[data_ptr+1:data_ptr+1+seq_len*batch_size].reshape((batch_size, seq_len))\n",
        "\n",
        "            if gru:\n",
        "                outputs, hn = model(data_chunk, hn.detach())\n",
        "            else:\n",
        "                outputs, (hn, cn) = model(data_chunk, (hn, cn))\n",
        "            loss = loss_fn(outputs.transpose(1, 2), target.long())\n",
        "\n",
        "            total_loss += loss.item()\n",
        "            count += 1\n",
        "            data_ptr += seq_len * batch_size\n",
        "\n",
        "    return total_loss / count"
      ],
      "metadata": {
        "id": "NdqntTnJyM52"
      },
      "execution_count": 74,
      "outputs": []
    },
    {
      "cell_type": "code",
      "source": [
        "def test(model, test_set, loss_fn, gru=False):\n",
        "    total_loss = 0\n",
        "    count = 0\n",
        "    data_ptr = 0\n",
        "\n",
        "    model.eval()\n",
        "\n",
        "    test_set = torch.tensor(test_set).to(device)\n",
        "\n",
        "    with torch.no_grad():\n",
        "        hn = torch.zeros((2, batch_size, hidden_dim)).to(device)\n",
        "        if not gru:\n",
        "            cn = torch.zeros((2, batch_size, hidden_dim)).to(device)\n",
        "\n",
        "        while data_ptr + seq_len * batch_size + 1 <= len(test_set):\n",
        "            data_chunk = test_set[data_ptr:data_ptr + seq_len*batch_size].reshape((batch_size, seq_len))\n",
        "            target = test_set[data_ptr+1:data_ptr+1+seq_len*batch_size].reshape((batch_size, seq_len))\n",
        "\n",
        "            if gru:\n",
        "                outputs, hn = model(data_chunk, hn.detach())\n",
        "            else:\n",
        "                outputs, (hn, cn) = model(data_chunk, (hn.detach(), cn.detach()))\n",
        "            total_loss += loss_fn(outputs.transpose(1, 2), target.long())\n",
        "\n",
        "            count += 1\n",
        "            data_ptr += seq_len*batch_size\n",
        "\n",
        "        test_perplexity = math.exp(total_loss / count)\n",
        "        print(f\"Test Perplexity: {test_perplexity:.4}\")\n"
      ],
      "metadata": {
        "id": "77nXbx_jz6FO"
      },
      "execution_count": 75,
      "outputs": []
    },
    {
      "cell_type": "code",
      "source": [
        "class LSTM(nn.Module):\n",
        "    def __init__(self, embedding_dim, hidden_dim, vocab_size):\n",
        "        super().__init__()\n",
        "        self.embedding = nn.Embedding(vocab_size, embedding_dim)\n",
        "        self.lstm = nn.LSTM(embedding_dim, hidden_dim, num_layers=2, batch_first=True)\n",
        "        self.linear = nn.Linear(hidden_dim, vocab_size)\n",
        "\n",
        "    def forward(self, x, hidden_state):\n",
        "        embeds = self.embedding(x)\n",
        "        out, (hn, cn) = self.lstm(embeds, hidden_state)\n",
        "        out = self.linear(out)\n",
        "        return out, (hn, cn)\n"
      ],
      "metadata": {
        "id": "_QuaPshqlWKO"
      },
      "execution_count": 76,
      "outputs": []
    },
    {
      "cell_type": "code",
      "source": [
        "net = LSTM(200, 200, len(index_to_word))\n",
        "net.to(device)\n",
        "\n",
        "loss_fn = nn.CrossEntropyLoss()\n",
        "optimizer = torch.optim.SGD(net.parameters(), lr=2)\n",
        "# perplexities, test_perplexities = train(net, train_set, test_set, loss_fn, optimizer)\n",
        "perplexities, test_perplexities = train(net, train_set, val_set, loss_fn, optimizer)"
      ],
      "metadata": {
        "colab": {
          "base_uri": "https://localhost:8080/",
          "height": 830,
          "referenced_widgets": [
            "b19cb2abcad5431390eeec986c57fa3f",
            "c87c8f9eb3d74670804fce3e926d1c7c",
            "45e430f1441d4adb9b8350dd1865faa6",
            "5ef80227ff3346e897139d502de82de2",
            "21e1836207cf43649dc923d90043fa3a",
            "18e7b6bfdd8c43f0ab9e26dd86fe337f",
            "f6216f5ff0ed489e8b85110495cc243c",
            "4c2d7a3602674c3481a44c70a45e443c",
            "0653b9aa3fbe4aef9395426f20d57610",
            "16b6c11b49cc4bbaa597745f72b64641",
            "5602f0f599a642a8ba142c6298e7bcf3"
          ]
        },
        "id": "pcs-edIzougN",
        "outputId": "972b2ed0-b74c-48bd-9d57-91d8510ea16b"
      },
      "execution_count": 82,
      "outputs": [
        {
          "output_type": "display_data",
          "data": {
            "text/plain": [
              "  0%|          | 0/15 [00:00<?, ?it/s]"
            ],
            "application/vnd.jupyter.widget-view+json": {
              "version_major": 2,
              "version_minor": 0,
              "model_id": "b19cb2abcad5431390eeec986c57fa3f"
            }
          },
          "metadata": {}
        },
        {
          "output_type": "stream",
          "name": "stdout",
          "text": [
            "Epoch: 0\n",
            "Train Perplexity: 247.1724\n",
            "Val Perplexity: 161.2729\n",
            "Epoch: 1\n",
            "Train Perplexity: 139.9072\n",
            "Val Perplexity: 129.2999\n",
            "Epoch: 2\n",
            "Train Perplexity: 111.7529\n",
            "Val Perplexity: 116.7965\n",
            "Epoch: 3\n",
            "Train Perplexity: 96.0678\n",
            "Val Perplexity: 110.6425\n",
            "Epoch: 4\n",
            "Train Perplexity: 85.5375\n",
            "Val Perplexity: 107.6625\n",
            "Epoch: 5\n",
            "Train Perplexity: 73.4383\n",
            "Val Perplexity: 103.0982\n",
            "Epoch: 6\n",
            "Train Perplexity: 66.8529\n",
            "Val Perplexity: 100.7571\n",
            "Epoch: 7\n",
            "Train Perplexity: 63.3627\n",
            "Val Perplexity: 99.5007\n",
            "Epoch: 8\n",
            "Train Perplexity: 61.4914\n",
            "Val Perplexity: 98.7950\n",
            "Epoch: 9\n",
            "Train Perplexity: 60.4766\n",
            "Val Perplexity: 98.4281\n",
            "Epoch: 10\n",
            "Train Perplexity: 59.9178\n",
            "Val Perplexity: 98.2611\n",
            "Epoch: 11\n",
            "Train Perplexity: 59.6087\n",
            "Val Perplexity: 98.1735\n",
            "Epoch: 12\n",
            "Train Perplexity: 59.4401\n",
            "Val Perplexity: 98.1233\n",
            "Epoch: 13\n",
            "Train Perplexity: 59.3500\n",
            "Val Perplexity: 98.0991\n",
            "Epoch: 14\n",
            "Train Perplexity: 59.3031\n",
            "Val Perplexity: 98.0889\n"
          ]
        }
      ]
    },
    {
      "cell_type": "code",
      "source": [
        "test(net, test_set, loss_fn)"
      ],
      "metadata": {
        "colab": {
          "base_uri": "https://localhost:8080/"
        },
        "id": "TMMRsMeqpKHC",
        "outputId": "c5f8c1f9-be39-4c91-dc1d-bb87131e315e"
      },
      "execution_count": 78,
      "outputs": [
        {
          "output_type": "stream",
          "name": "stdout",
          "text": [
            "Test Perplexity: 98.32\n"
          ]
        }
      ]
    },
    {
      "cell_type": "code",
      "source": [
        "plt.plot(perplexities, label=\"Train Perplexity\")\n",
        "plt.plot(test_perplexities, label=\"Test Perplexity\")\n",
        "plt.xlabel(\"Epoch\")\n",
        "plt.ylabel(\"Perplexity\")\n",
        "plt.title(\"LSTM\")\n",
        "plt.legend()\n",
        "plt.show()"
      ],
      "metadata": {
        "colab": {
          "base_uri": "https://localhost:8080/",
          "height": 472
        },
        "id": "lNc5USLHEqHt",
        "outputId": "85ca31f2-8280-4e61-ce52-3322c23449db"
      },
      "execution_count": 79,
      "outputs": [
        {
          "output_type": "display_data",
          "data": {
            "text/plain": [
              "<Figure size 640x480 with 1 Axes>"
            ],
            "image/png": "[encoded data removed]"
          },
          "metadata": {}
        }
      ]
    },
    {
      "cell_type": "code",
      "source": [
        "class DropoutLSTM(nn.Module):\n",
        "    def __init__(self, embedding_dim, hidden_dim, vocab_size):\n",
        "        super().__init__()\n",
        "        self.embedding = nn.Embedding(vocab_size, embedding_dim)\n",
        "        self.lstm = nn.LSTM(embedding_dim, hidden_dim, num_layers=2, batch_first=True, dropout=0.25)\n",
        "        self.drouput = nn.Dropout(0.25)\n",
        "        self.linear = nn.Linear(hidden_dim, vocab_size)\n",
        "\n",
        "    def forward(self, x, hidden_state):\n",
        "        embeds = self.embedding(x)\n",
        "        out, (hn, cn) = self.lstm(embeds, hidden_state)\n",
        "        out = self.drouput(out)\n",
        "        out = self.linear(out)\n",
        "        return out, (hn, cn)"
      ],
      "metadata": {
        "id": "WpHCDw2VABfT"
      },
      "execution_count": 83,
      "outputs": []
    },
    {
      "cell_type": "code",
      "source": [
        "dropout_net = DropoutLSTM(200, 200, len(index_to_word))\n",
        "dropout_net.to(device)\n",
        "\n",
        "loss_fn = nn.CrossEntropyLoss()\n",
        "optimizer = torch.optim.SGD(dropout_net.parameters(), lr=2)\n",
        "dropout_perplexities, dropout_test_perplexities = train(dropout_net, train_set, val_set, loss_fn, optimizer)"
      ],
      "metadata": {
        "colab": {
          "base_uri": "https://localhost:8080/",
          "height": 830,
          "referenced_widgets": [
            "a85e8fef4de74b6a95bc27e57eaae703",
            "7b62b2e55fa24100b211d7287350b17f",
            "afe44d611d294be0a3b6f341a53d4767",
            "3e7a3e5708b843ca9e3b57008665c386",
            "656d596fb0f54e7586a6babc317c3add",
            "ac9cb4ec10944c00a3737c49f3cde93d",
            "d14f5bf7fb0f45a6b517778dea5e0673",
            "190e911beb40475498de6f32aab1a0cd",
            "39eb6e1ce77d4c6a9b8862570fb01500",
            "0d2a362515d5408ba0d12b66030659a0",
            "f6a2c75b161c42ed9dbaf51878358399"
          ]
        },
        "id": "ZJK9F4d_AYjR",
        "outputId": "f1782de3-7262-45a8-d7a6-6ea61acb9c78"
      },
      "execution_count": 87,
      "outputs": [
        {
          "output_type": "display_data",
          "data": {
            "text/plain": [
              "  0%|          | 0/15 [00:00<?, ?it/s]"
            ],
            "application/vnd.jupyter.widget-view+json": {
              "version_major": 2,
              "version_minor": 0,
              "model_id": "a85e8fef4de74b6a95bc27e57eaae703"
            }
          },
          "metadata": {}
        },
        {
          "output_type": "stream",
          "name": "stdout",
          "text": [
            "Epoch: 0\n",
            "Train Perplexity: 264.5036\n",
            "Val Perplexity: 173.2500\n",
            "Epoch: 1\n",
            "Train Perplexity: 160.7590\n",
            "Val Perplexity: 140.2869\n",
            "Epoch: 2\n",
            "Train Perplexity: 134.1920\n",
            "Val Perplexity: 124.9876\n",
            "Epoch: 3\n",
            "Train Perplexity: 119.5195\n",
            "Val Perplexity: 116.3908\n",
            "Epoch: 4\n",
            "Train Perplexity: 109.8365\n",
            "Val Perplexity: 110.7141\n",
            "Epoch: 5\n",
            "Train Perplexity: 99.1968\n",
            "Val Perplexity: 104.5837\n",
            "Epoch: 6\n",
            "Train Perplexity: 93.5240\n",
            "Val Perplexity: 101.5564\n",
            "Epoch: 7\n",
            "Train Perplexity: 90.5755\n",
            "Val Perplexity: 100.1579\n",
            "Epoch: 8\n",
            "Train Perplexity: 89.0205\n",
            "Val Perplexity: 99.5464\n",
            "Epoch: 9\n",
            "Train Perplexity: 88.1961\n",
            "Val Perplexity: 99.3206\n",
            "Epoch: 10\n",
            "Train Perplexity: 87.8403\n",
            "Val Perplexity: 99.1966\n",
            "Epoch: 11\n",
            "Train Perplexity: 87.5838\n",
            "Val Perplexity: 99.1375\n",
            "Epoch: 12\n",
            "Train Perplexity: 87.3869\n",
            "Val Perplexity: 99.1114\n",
            "Epoch: 13\n",
            "Train Perplexity: 87.4298\n",
            "Val Perplexity: 99.1019\n",
            "Epoch: 14\n",
            "Train Perplexity: 87.2895\n",
            "Val Perplexity: 99.0960\n"
          ]
        }
      ]
    },
    {
      "cell_type": "code",
      "source": [
        "test(dropout_net, test_set, loss_fn)"
      ],
      "metadata": {
        "colab": {
          "base_uri": "https://localhost:8080/"
        },
        "id": "XvchSW_gBVPu",
        "outputId": "4f0e89ef-eb55-4cc8-96e5-d776d6a563cc"
      },
      "execution_count": 97,
      "outputs": [
        {
          "output_type": "stream",
          "name": "stdout",
          "text": [
            "Test Perplexity: 95.43\n"
          ]
        }
      ]
    },
    {
      "cell_type": "code",
      "source": [
        "plt.plot(dropout_perplexities, label=\"Train Perplexity\")\n",
        "plt.plot(dropout_test_perplexities, label=\"Test Perplexity\")\n",
        "plt.xlabel(\"Epoch\")\n",
        "plt.ylabel(\"Perplexity\")\n",
        "plt.title(\"LSTM w/ Dropout\")\n",
        "plt.legend()\n",
        "plt.show()"
      ],
      "metadata": {
        "id": "d2AjdweHLjB6",
        "colab": {
          "base_uri": "https://localhost:8080/",
          "height": 472
        },
        "outputId": "91326d63-ab21-4164-824f-3997f3892af3"
      },
      "execution_count": 89,
      "outputs": [
        {
          "output_type": "display_data",
          "data": {
            "text/plain": [
              "<Figure size 640x480 with 1 Axes>"
            ],
            "image/png": "[encoded data removed]"
          },
          "metadata": {}
        }
      ]
    },
    {
      "cell_type": "code",
      "source": [
        "class GRU(nn.Module):\n",
        "    def __init__(self, embedding_dim, hidden_dim, vocab_size):\n",
        "        super().__init__()\n",
        "        self.embedding = nn.Embedding(vocab_size, embedding_dim)\n",
        "        self.gru = nn.GRU(embedding_dim, hidden_dim, num_layers=2, batch_first=True)\n",
        "        self.linear = nn.Linear(hidden_dim, vocab_size)\n",
        "\n",
        "    def forward(self, x, hidden_state):\n",
        "        embeds = self.embedding(x)\n",
        "        out, hn = self.gru(embeds, hidden_state)\n",
        "        out = self.linear(out)\n",
        "        return out, hn\n"
      ],
      "metadata": {
        "id": "o6WRmCB1r56Y"
      },
      "execution_count": 68,
      "outputs": []
    },
    {
      "cell_type": "code",
      "source": [
        "gru_net = GRU(200, 200, len(index_to_word))\n",
        "gru_net.to(device)\n",
        "\n",
        "loss_fn = nn.CrossEntropyLoss()\n",
        "optimizer = torch.optim.SGD(gru_net.parameters(), lr=1)\n",
        "gru_perplexities, gru_test_perplexities = train(gru_net, train_set, val_set, loss_fn, optimizer, gru=True)"
      ],
      "metadata": {
        "colab": {
          "base_uri": "https://localhost:8080/",
          "height": 830,
          "referenced_widgets": [
            "e58e0dbfcc704715bb25081de9de5559",
            "6c48cdb409a149d9b346a3cbd977d14b",
            "7f5056acc43f44918f17b56b77d4d6e6",
            "1472b1f2769246ac861ad7f8859ba048",
            "7a36a9ffe0d14c0685eb368c78898fcb",
            "337c763a750c4eefa91ed436f35f9baf",
            "fa166ff73a4f477789239e25212cc52a",
            "5dfb155c1e84470b878bc71682c5e0b1",
            "95c539cc2b374f768d8074553a1ce384",
            "e679cfba0eb04c9299f4f10575a27003",
            "3f4153a9951f423cb2faed722011697a"
          ]
        },
        "id": "t1yd0tOJsDb7",
        "outputId": "cf59b5fd-3d57-46ce-b70d-50a4e6bb18f4"
      },
      "execution_count": 94,
      "outputs": [
        {
          "output_type": "display_data",
          "data": {
            "text/plain": [
              "  0%|          | 0/15 [00:00<?, ?it/s]"
            ],
            "application/vnd.jupyter.widget-view+json": {
              "version_major": 2,
              "version_minor": 0,
              "model_id": "e58e0dbfcc704715bb25081de9de5559"
            }
          },
          "metadata": {}
        },
        {
          "output_type": "stream",
          "name": "stdout",
          "text": [
            "Epoch: 0\n",
            "Train Perplexity: 217.0973\n",
            "Val Perplexity: 155.4574\n",
            "Epoch: 1\n",
            "Train Perplexity: 129.8318\n",
            "Val Perplexity: 130.9172\n",
            "Epoch: 2\n",
            "Train Perplexity: 105.7735\n",
            "Val Perplexity: 121.6677\n",
            "Epoch: 3\n",
            "Train Perplexity: 91.9848\n",
            "Val Perplexity: 117.8273\n",
            "Epoch: 4\n",
            "Train Perplexity: 82.4945\n",
            "Val Perplexity: 116.5055\n",
            "Epoch: 5\n",
            "Train Perplexity: 70.6923\n",
            "Val Perplexity: 110.6701\n",
            "Epoch: 6\n",
            "Train Perplexity: 64.6428\n",
            "Val Perplexity: 107.9467\n",
            "Epoch: 7\n",
            "Train Perplexity: 61.4725\n",
            "Val Perplexity: 106.6747\n",
            "Epoch: 8\n",
            "Train Perplexity: 59.7586\n",
            "Val Perplexity: 106.1862\n",
            "Epoch: 9\n",
            "Train Perplexity: 58.8185\n",
            "Val Perplexity: 105.9996\n",
            "Epoch: 10\n",
            "Train Perplexity: 58.3054\n",
            "Val Perplexity: 105.9183\n",
            "Epoch: 11\n",
            "Train Perplexity: 58.0297\n",
            "Val Perplexity: 105.8829\n",
            "Epoch: 12\n",
            "Train Perplexity: 57.8844\n",
            "Val Perplexity: 105.8709\n",
            "Epoch: 13\n",
            "Train Perplexity: 57.8092\n",
            "Val Perplexity: 105.8679\n",
            "Epoch: 14\n",
            "Train Perplexity: 57.7708\n",
            "Val Perplexity: 105.8677\n"
          ]
        }
      ]
    },
    {
      "cell_type": "code",
      "source": [
        "test(gru_net, test_set, loss_fn, gru=True)"
      ],
      "metadata": {
        "colab": {
          "base_uri": "https://localhost:8080/"
        },
        "id": "U6wdqiO6qjQ6",
        "outputId": "6fe3ef5e-dbda-48b2-e70b-66586e6912f4"
      },
      "execution_count": 96,
      "outputs": [
        {
          "output_type": "stream",
          "name": "stdout",
          "text": [
            "Test Perplexity: 100.9\n"
          ]
        }
      ]
    },
    {
      "cell_type": "code",
      "source": [
        "plt.plot(gru_perplexities, label=\"Train Perplexity\")\n",
        "plt.plot(gru_test_perplexities, label=\"Test Perplexity\")\n",
        "plt.xlabel(\"Epoch\")\n",
        "plt.ylabel(\"Perplexity\")\n",
        "plt.title(\"GRU\")\n",
        "plt.legend()\n",
        "plt.show()"
      ],
      "metadata": {
        "colab": {
          "base_uri": "https://localhost:8080/",
          "height": 472
        },
        "id": "1_PUMrioqlKA",
        "outputId": "aac3414e-5832-44cb-f733-a05e435f60b0"
      },
      "execution_count": 90,
      "outputs": [
        {
          "output_type": "display_data",
          "data": {
            "text/plain": [
              "<Figure size 640x480 with 1 Axes>"
            ],
            "image/png": "[encoded data removed]"
          },
          "metadata": {}
        }
      ]
    },
    {
      "cell_type": "code",
      "source": [
        "class DropoutGRU(nn.Module):\n",
        "    def __init__(self, embedding_dim, hidden_dim, vocab_size):\n",
        "        super().__init__()\n",
        "        self.embedding = nn.Embedding(vocab_size, embedding_dim)\n",
        "        self.gru = nn.GRU(embedding_dim, hidden_dim, num_layers=2, batch_first=True, dropout=0.25)\n",
        "        self.dropout = nn.Dropout(0.25)\n",
        "        self.linear = nn.Linear(hidden_dim, vocab_size)\n",
        "\n",
        "    def forward(self, x, hidden_state):\n",
        "        embeds = self.embedding(x)\n",
        "        out, hn = self.gru(embeds, hidden_state)\n",
        "        out = self.dropout(out)\n",
        "        out = self.linear(out)\n",
        "        return out, hn\n"
      ],
      "metadata": {
        "id": "Y-OG9V6st6rk"
      },
      "execution_count": 70,
      "outputs": []
    },
    {
      "cell_type": "code",
      "source": [
        "dropout_gru_net = DropoutGRU(200, 200, len(index_to_word))\n",
        "dropout_gru_net.to(device)\n",
        "\n",
        "loss_fn = nn.CrossEntropyLoss()\n",
        "optimizer = torch.optim.SGD(dropout_gru_net.parameters(), lr=1)\n",
        "dropout_gru_perplexities, dropout_gru_test_perplexities = train(dropout_gru_net, train_set, val_set, loss_fn, optimizer, gru=True)"
      ],
      "metadata": {
        "colab": {
          "base_uri": "https://localhost:8080/",
          "height": 830,
          "referenced_widgets": [
            "4e72e147303743f1a25a069216bc863f",
            "353634f02a384b73991971a6580e3adf",
            "8545d180d1ae4fa1a06cd675b4a0eba4",
            "7194e8a751424ff7afd2a857724526a7",
            "06b4576a367a40f8a2afdb982a3e5a51",
            "c7d44f76f3da45418e0810f119c8b681",
            "a765a7ca23644df4adb3e530c5fa7323",
            "ec0c26b5007b48c7a1bd50cfecaaad55",
            "090c616e0b02410580a96eb512468431",
            "86733a5cf9e24428b70ef98d80cf4a0f",
            "1b72e03249fd41f5bb5fc299380da8af"
          ]
        },
        "id": "iydV5bIduDfT",
        "outputId": "aac4081e-554b-46a6-b256-627e7dcebafb"
      },
      "execution_count": 93,
      "outputs": [
        {
          "output_type": "display_data",
          "data": {
            "text/plain": [
              "  0%|          | 0/15 [00:00<?, ?it/s]"
            ],
            "application/vnd.jupyter.widget-view+json": {
              "version_major": 2,
              "version_minor": 0,
              "model_id": "4e72e147303743f1a25a069216bc863f"
            }
          },
          "metadata": {}
        },
        {
          "output_type": "stream",
          "name": "stdout",
          "text": [
            "Epoch: 0\n",
            "Train Perplexity: 243.4700\n",
            "Val Perplexity: 163.6269\n",
            "Epoch: 1\n",
            "Train Perplexity: 155.6697\n",
            "Val Perplexity: 137.5199\n",
            "Epoch: 2\n",
            "Train Perplexity: 132.9456\n",
            "Val Perplexity: 125.6158\n",
            "Epoch: 3\n",
            "Train Perplexity: 120.3619\n",
            "Val Perplexity: 118.9888\n",
            "Epoch: 4\n",
            "Train Perplexity: 111.8226\n",
            "Val Perplexity: 114.5037\n",
            "Epoch: 5\n",
            "Train Perplexity: 100.7222\n",
            "Val Perplexity: 107.7897\n",
            "Epoch: 6\n",
            "Train Perplexity: 94.8848\n",
            "Val Perplexity: 104.6023\n",
            "Epoch: 7\n",
            "Train Perplexity: 91.8090\n",
            "Val Perplexity: 103.2140\n",
            "Epoch: 8\n",
            "Train Perplexity: 90.2466\n",
            "Val Perplexity: 102.6703\n",
            "Epoch: 9\n",
            "Train Perplexity: 89.4131\n",
            "Val Perplexity: 102.3920\n",
            "Epoch: 10\n",
            "Train Perplexity: 88.9681\n",
            "Val Perplexity: 102.2919\n",
            "Epoch: 11\n",
            "Train Perplexity: 88.9013\n",
            "Val Perplexity: 102.2464\n",
            "Epoch: 12\n",
            "Train Perplexity: 88.7191\n",
            "Val Perplexity: 102.2206\n",
            "Epoch: 13\n",
            "Train Perplexity: 88.5644\n",
            "Val Perplexity: 102.2060\n",
            "Epoch: 14\n",
            "Train Perplexity: 88.5632\n",
            "Val Perplexity: 102.1978\n"
          ]
        }
      ]
    },
    {
      "cell_type": "code",
      "source": [
        "test(dropout_gru_net, test_set, loss_fn, gru=True)"
      ],
      "metadata": {
        "colab": {
          "base_uri": "https://localhost:8080/"
        },
        "id": "zB77kqewvYlB",
        "outputId": "842a1a80-2eac-4200-ea9c-170b8da89b86"
      },
      "execution_count": 95,
      "outputs": [
        {
          "output_type": "stream",
          "name": "stdout",
          "text": [
            "Test Perplexity: 98.29\n"
          ]
        }
      ]
    },
    {
      "cell_type": "code",
      "source": [
        "plt.plot(dropout_gru_perplexities, label=\"Train Perplexity\")\n",
        "plt.plot(dropout_gru_test_perplexities, label=\"Test Perplexity\")\n",
        "plt.xlabel(\"Epoch\")\n",
        "plt.ylabel(\"Perplexity\")\n",
        "plt.title(\"GRU w/ Dropout\")\n",
        "plt.legend()\n",
        "plt.show()"
      ],
      "metadata": {
        "colab": {
          "base_uri": "https://localhost:8080/",
          "height": 472
        },
        "id": "cdQdJQ_DvcCZ",
        "outputId": "81192476-7e9f-473c-c67e-e7b0e14da754"
      },
      "execution_count": 92,
      "outputs": [
        {
          "output_type": "display_data",
          "data": {
            "text/plain": [
              "<Figure size 640x480 with 1 Axes>"
            ],
            "image/png": "[encoded data removed]"
          },
          "metadata": {}
        }
      ]
    }
  ]
}